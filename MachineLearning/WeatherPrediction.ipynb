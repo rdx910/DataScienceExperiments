{
 "cells": [
  {
   "cell_type": "markdown",
   "metadata": {},
   "source": [
    "# Data Analytics:Weather Forecasting"
   ]
  },
  {
   "cell_type": "markdown",
   "metadata": {},
   "source": [
    "Data Cleaning"
   ]
  },
  {
   "cell_type": "markdown",
   "metadata": {},
   "source": [
    "Importing all libraries"
   ]
  },
  {
   "cell_type": "code",
   "execution_count": 250,
   "metadata": {},
   "outputs": [],
   "source": [
    "import pandas as pd\n",
    "import numpy as np\n",
    "import seaborn as sns\n",
    "from sklearn import preprocessing\n",
    "from scipy.spatial import distance_matrix\n",
    "from sklearn.cluster import KMeans\n",
    "from scipy.spatial.distance import cdist\n",
    "import matplotlib.pyplot as plt\n",
    "import gc\n",
    "from sklearn import metrics\n",
    "from sklearn.tree import DecisionTreeClassifier\n",
    "from sklearn.model_selection import train_test_split, GridSearchCV, cross_val_score, cross_validate, ShuffleSplit, LeaveOneOut"
   ]
  },
  {
   "cell_type": "code",
   "execution_count": 2,
   "metadata": {},
   "outputs": [],
   "source": [
    "df=pd.read_csv(\"C:/Users/rtd91/OneDrive/Syracuse University/IST 707/Homework2/Weather Forecast Training.csv\")"
   ]
  },
  {
   "cell_type": "code",
   "execution_count": 3,
   "metadata": {},
   "outputs": [
    {
     "data": {
      "text/html": [
       "<div>\n",
       "<style scoped>\n",
       "    .dataframe tbody tr th:only-of-type {\n",
       "        vertical-align: middle;\n",
       "    }\n",
       "\n",
       "    .dataframe tbody tr th {\n",
       "        vertical-align: top;\n",
       "    }\n",
       "\n",
       "    .dataframe thead th {\n",
       "        text-align: right;\n",
       "    }\n",
       "</style>\n",
       "<table border=\"1\" class=\"dataframe\">\n",
       "  <thead>\n",
       "    <tr style=\"text-align: right;\">\n",
       "      <th></th>\n",
       "      <th>Location</th>\n",
       "      <th>MinTemp</th>\n",
       "      <th>MaxTemp</th>\n",
       "      <th>Rainfall</th>\n",
       "      <th>Evaporation</th>\n",
       "      <th>Sunshine</th>\n",
       "      <th>WindGustDir</th>\n",
       "      <th>WindGustSpeed</th>\n",
       "      <th>WindDir</th>\n",
       "      <th>WindSpeed</th>\n",
       "      <th>Humidity</th>\n",
       "      <th>Pressure</th>\n",
       "      <th>Cloud</th>\n",
       "      <th>Temp</th>\n",
       "      <th>RainToday</th>\n",
       "      <th>RainTomorrow</th>\n",
       "    </tr>\n",
       "  </thead>\n",
       "  <tbody>\n",
       "    <tr>\n",
       "      <td>0</td>\n",
       "      <td>NorahHead</td>\n",
       "      <td>18.9</td>\n",
       "      <td>23.7</td>\n",
       "      <td>0.0</td>\n",
       "      <td>NaN</td>\n",
       "      <td>NaN</td>\n",
       "      <td>SSE</td>\n",
       "      <td>41.0</td>\n",
       "      <td>SSE</td>\n",
       "      <td>28.0</td>\n",
       "      <td>55.0</td>\n",
       "      <td>1026.0</td>\n",
       "      <td>NaN</td>\n",
       "      <td>22.4</td>\n",
       "      <td>No</td>\n",
       "      <td>Yes</td>\n",
       "    </tr>\n",
       "    <tr>\n",
       "      <td>1</td>\n",
       "      <td>Nuriootpa</td>\n",
       "      <td>11.1</td>\n",
       "      <td>20.8</td>\n",
       "      <td>0.0</td>\n",
       "      <td>4.8</td>\n",
       "      <td>8.3</td>\n",
       "      <td>W</td>\n",
       "      <td>39.0</td>\n",
       "      <td>WSW</td>\n",
       "      <td>26.0</td>\n",
       "      <td>48.0</td>\n",
       "      <td>1014.4</td>\n",
       "      <td>7.0</td>\n",
       "      <td>19.5</td>\n",
       "      <td>No</td>\n",
       "      <td>No</td>\n",
       "    </tr>\n",
       "    <tr>\n",
       "      <td>2</td>\n",
       "      <td>GoldCoast</td>\n",
       "      <td>15.9</td>\n",
       "      <td>19.5</td>\n",
       "      <td>17.6</td>\n",
       "      <td>NaN</td>\n",
       "      <td>NaN</td>\n",
       "      <td>SE</td>\n",
       "      <td>44.0</td>\n",
       "      <td>SW</td>\n",
       "      <td>9.0</td>\n",
       "      <td>99.0</td>\n",
       "      <td>1028.5</td>\n",
       "      <td>NaN</td>\n",
       "      <td>17.8</td>\n",
       "      <td>Yes</td>\n",
       "      <td>Yes</td>\n",
       "    </tr>\n",
       "    <tr>\n",
       "      <td>3</td>\n",
       "      <td>Bendigo</td>\n",
       "      <td>0.0</td>\n",
       "      <td>14.9</td>\n",
       "      <td>0.0</td>\n",
       "      <td>NaN</td>\n",
       "      <td>NaN</td>\n",
       "      <td>WSW</td>\n",
       "      <td>35.0</td>\n",
       "      <td>WNW</td>\n",
       "      <td>19.0</td>\n",
       "      <td>55.0</td>\n",
       "      <td>1023.0</td>\n",
       "      <td>4.0</td>\n",
       "      <td>14.2</td>\n",
       "      <td>No</td>\n",
       "      <td>Yes</td>\n",
       "    </tr>\n",
       "    <tr>\n",
       "      <td>4</td>\n",
       "      <td>Walpole</td>\n",
       "      <td>9.1</td>\n",
       "      <td>22.7</td>\n",
       "      <td>0.0</td>\n",
       "      <td>NaN</td>\n",
       "      <td>NaN</td>\n",
       "      <td>NNE</td>\n",
       "      <td>41.0</td>\n",
       "      <td>ESE</td>\n",
       "      <td>7.0</td>\n",
       "      <td>40.0</td>\n",
       "      <td>1027.1</td>\n",
       "      <td>NaN</td>\n",
       "      <td>22.5</td>\n",
       "      <td>No</td>\n",
       "      <td>No</td>\n",
       "    </tr>\n",
       "    <tr>\n",
       "      <td>5</td>\n",
       "      <td>MelbourneAirport</td>\n",
       "      <td>6.6</td>\n",
       "      <td>16.3</td>\n",
       "      <td>8.4</td>\n",
       "      <td>3.4</td>\n",
       "      <td>6.9</td>\n",
       "      <td>S</td>\n",
       "      <td>50.0</td>\n",
       "      <td>S</td>\n",
       "      <td>30.0</td>\n",
       "      <td>55.0</td>\n",
       "      <td>1021.4</td>\n",
       "      <td>7.0</td>\n",
       "      <td>14.6</td>\n",
       "      <td>Yes</td>\n",
       "      <td>No</td>\n",
       "    </tr>\n",
       "  </tbody>\n",
       "</table>\n",
       "</div>"
      ],
      "text/plain": [
       "           Location  MinTemp  MaxTemp  Rainfall  Evaporation  Sunshine  \\\n",
       "0         NorahHead     18.9     23.7       0.0          NaN       NaN   \n",
       "1         Nuriootpa     11.1     20.8       0.0          4.8       8.3   \n",
       "2         GoldCoast     15.9     19.5      17.6          NaN       NaN   \n",
       "3           Bendigo      0.0     14.9       0.0          NaN       NaN   \n",
       "4           Walpole      9.1     22.7       0.0          NaN       NaN   \n",
       "5  MelbourneAirport      6.6     16.3       8.4          3.4       6.9   \n",
       "\n",
       "  WindGustDir  WindGustSpeed WindDir  WindSpeed  Humidity  Pressure  Cloud  \\\n",
       "0         SSE           41.0     SSE       28.0      55.0    1026.0    NaN   \n",
       "1           W           39.0     WSW       26.0      48.0    1014.4    7.0   \n",
       "2          SE           44.0      SW        9.0      99.0    1028.5    NaN   \n",
       "3         WSW           35.0     WNW       19.0      55.0    1023.0    4.0   \n",
       "4         NNE           41.0     ESE        7.0      40.0    1027.1    NaN   \n",
       "5           S           50.0       S       30.0      55.0    1021.4    7.0   \n",
       "\n",
       "   Temp RainToday RainTomorrow  \n",
       "0  22.4        No          Yes  \n",
       "1  19.5        No           No  \n",
       "2  17.8       Yes          Yes  \n",
       "3  14.2        No          Yes  \n",
       "4  22.5        No           No  \n",
       "5  14.6       Yes           No  "
      ]
     },
     "execution_count": 3,
     "metadata": {},
     "output_type": "execute_result"
    }
   ],
   "source": [
    "df.head(6)"
   ]
  },
  {
   "cell_type": "code",
   "execution_count": 4,
   "metadata": {},
   "outputs": [
    {
     "data": {
      "text/plain": [
       "(51978, 16)"
      ]
     },
     "execution_count": 4,
     "metadata": {},
     "output_type": "execute_result"
    }
   ],
   "source": [
    "df.shape"
   ]
  },
  {
   "cell_type": "markdown",
   "metadata": {},
   "source": [
    "# Checking for null values and replacing them "
   ]
  },
  {
   "cell_type": "code",
   "execution_count": 5,
   "metadata": {},
   "outputs": [
    {
     "data": {
      "text/plain": [
       "Location             0\n",
       "MinTemp            284\n",
       "MaxTemp            129\n",
       "Rainfall           747\n",
       "Evaporation      22553\n",
       "Sunshine         24875\n",
       "WindGustDir       3598\n",
       "WindGustSpeed     3571\n",
       "WindDir           1513\n",
       "WindSpeed         1024\n",
       "Humidity          1429\n",
       "Pressure          5066\n",
       "Cloud            20130\n",
       "Temp              1063\n",
       "RainToday          747\n",
       "RainTomorrow         0\n",
       "dtype: int64"
      ]
     },
     "execution_count": 5,
     "metadata": {},
     "output_type": "execute_result"
    }
   ],
   "source": [
    "df.isnull().sum() #checking which columns has how many null values"
   ]
  },
  {
   "cell_type": "code",
   "execution_count": 6,
   "metadata": {},
   "outputs": [],
   "source": [
    "df['MinTemp']=df['MinTemp'].fillna(value=np.mean(df['MinTemp'])) #replacing NA with mean value"
   ]
  },
  {
   "cell_type": "code",
   "execution_count": 7,
   "metadata": {},
   "outputs": [],
   "source": [
    "df['MaxTemp']=df['MaxTemp'].fillna(value=np.mean(df['MaxTemp'])) #replacing NA with mean value"
   ]
  },
  {
   "cell_type": "code",
   "execution_count": 8,
   "metadata": {},
   "outputs": [],
   "source": [
    "df['Rainfall']=df['Rainfall'].fillna(value=np.mean(df['Rainfall'])) #replacing NA with mean value"
   ]
  },
  {
   "cell_type": "code",
   "execution_count": 9,
   "metadata": {},
   "outputs": [],
   "source": [
    "df['Evaporation']=df['Evaporation'].fillna(value=np.mean(df['Evaporation'])) #replacing NA with mean value"
   ]
  },
  {
   "cell_type": "code",
   "execution_count": 10,
   "metadata": {},
   "outputs": [],
   "source": [
    "df['Sunshine']=df['Sunshine'].fillna(value=np.mean(df['Sunshine'])) #replacing NA with mean value"
   ]
  },
  {
   "cell_type": "code",
   "execution_count": 11,
   "metadata": {},
   "outputs": [],
   "source": [
    "df['WindGustSpeed']=df['WindGustSpeed'].fillna(value=np.mean(df['WindGustSpeed'])) #replacing NA with mean value"
   ]
  },
  {
   "cell_type": "code",
   "execution_count": 12,
   "metadata": {},
   "outputs": [],
   "source": [
    "df['WindSpeed']=df['WindSpeed'].fillna(value=np.mean(df['WindSpeed'])) #replacing NA with mean value"
   ]
  },
  {
   "cell_type": "code",
   "execution_count": 13,
   "metadata": {},
   "outputs": [],
   "source": [
    "df['Humidity']=df['Humidity'].fillna(value=np.mean(df['Humidity'])) #replacing NA with mean value"
   ]
  },
  {
   "cell_type": "code",
   "execution_count": 14,
   "metadata": {},
   "outputs": [],
   "source": [
    "df['Pressure']=df['Pressure'].fillna(value=np.mean(df['Pressure'])) #replacing NA with mean value"
   ]
  },
  {
   "cell_type": "code",
   "execution_count": 15,
   "metadata": {},
   "outputs": [],
   "source": [
    "df['Temp']=df['Temp'].fillna(value=np.mean(df['Temp'])) #replacing NA with mean value"
   ]
  },
  {
   "cell_type": "code",
   "execution_count": 16,
   "metadata": {},
   "outputs": [],
   "source": [
    "df.WindGustDir.value_counts() #tabulating all the values to find the mode\n",
    "df['WindGustDir']=df['WindGustDir'].fillna(value=\"W\") #replacing NA values of categorical variable with mode"
   ]
  },
  {
   "cell_type": "code",
   "execution_count": 17,
   "metadata": {},
   "outputs": [],
   "source": [
    "df.WindDir.value_counts() #tabulating all the values to find the mode\n",
    "df['WindDir']=df['WindDir'].fillna(value=\"W\") #replacing NA values of categorical variable with mode"
   ]
  },
  {
   "cell_type": "code",
   "execution_count": 18,
   "metadata": {},
   "outputs": [],
   "source": [
    "df.Cloud.value_counts() #tabulating all the values to find the mode\n",
    "df['Cloud']=df['Cloud'].fillna(value=7.0) #replacing NA values of categorical variable with mode"
   ]
  },
  {
   "cell_type": "code",
   "execution_count": 19,
   "metadata": {},
   "outputs": [],
   "source": [
    "df.RainToday.value_counts() #tabulating all the values to find the mode\n",
    "df['RainToday']=df['RainToday'].fillna(value=\"Yes\") #replacing NA values of categorical variable with mode"
   ]
  },
  {
   "cell_type": "markdown",
   "metadata": {},
   "source": [
    "# Pre-processing: Checking for duplicated rows"
   ]
  },
  {
   "cell_type": "code",
   "execution_count": 20,
   "metadata": {},
   "outputs": [
    {
     "name": "stdout",
     "output_type": "stream",
     "text": [
      "Duplicate Rows except first occurrence based on all columns are :\n",
      "        Location    MinTemp    MaxTemp  Rainfall  Evaporation  Sunshine  \\\n",
      "9832   Newcastle  12.549174  22.512698  0.000000      5.17757   6.53058   \n",
      "9935   Newcastle  12.549174  22.512698  0.000000      5.17757   6.53058   \n",
      "12639  Newcastle  12.549174  22.512698  0.000000      5.17757   6.53058   \n",
      "13444  Newcastle  12.549174  27.200000  0.000000      5.17757   6.53058   \n",
      "13972  Newcastle  12.549174  22.512698  0.000000      5.17757   6.53058   \n",
      "20638  Newcastle  12.549174  22.512698  0.000000      5.17757   6.53058   \n",
      "22343  Newcastle  12.549174  22.512698  0.000000      5.17757   6.53058   \n",
      "27894  Newcastle  12.549174  22.512698  3.639494      5.17757   6.53058   \n",
      "29722  Newcastle  12.549174  20.000000  0.000000      5.17757   6.53058   \n",
      "31485  Newcastle  12.549174  22.512698  0.000000      5.17757   6.53058   \n",
      "32409  Newcastle  12.549174  22.512698  0.000000      5.17757   6.53058   \n",
      "35050  Newcastle  12.549174  25.200000  0.000000      5.17757   6.53058   \n",
      "36460  Newcastle  12.549174  22.512698  0.000000      5.17757   6.53058   \n",
      "40465  Newcastle  12.549174  22.512698  0.000000      5.17757   6.53058   \n",
      "41731  Newcastle  11.500000  26.000000  0.000000      5.17757   6.53058   \n",
      "43762  Newcastle  12.549174  22.512698  0.000000      5.17757   6.53058   \n",
      "45989  Newcastle  18.700000  37.000000  0.000000      5.17757   6.53058   \n",
      "47532  Newcastle  12.549174  22.512698  3.639494      5.17757   6.53058   \n",
      "48325  Newcastle  21.800000  38.200000  0.000000      5.17757   6.53058   \n",
      "\n",
      "      WindGustDir  WindGustSpeed WindDir  WindSpeed   Humidity     Pressure  \\\n",
      "9832            W      42.003016       W  19.092299  57.432214  1014.273338   \n",
      "9935            W      42.003016       W  19.092299  57.432214  1014.273338   \n",
      "12639           W      42.003016       W  19.092299  57.432214  1014.273338   \n",
      "13444           W      42.003016       W  19.092299  57.432214  1014.273338   \n",
      "13972           W      42.003016       W  19.092299  57.432214  1014.273338   \n",
      "20638           W      42.003016       W  19.092299  57.432214  1014.273338   \n",
      "22343           W      42.003016       W  19.092299  57.432214  1014.273338   \n",
      "27894           W      42.003016       W  19.092299  57.432214  1014.273338   \n",
      "29722           W      42.003016       W  19.092299  57.432214  1014.273338   \n",
      "31485           W      42.003016       W  19.092299  57.432214  1014.273338   \n",
      "32409           W      42.003016       W  19.092299  57.432214  1014.273338   \n",
      "35050           W      42.003016       W  19.092299  57.432214  1014.273338   \n",
      "36460           W      42.003016       W  19.092299  57.432214  1014.273338   \n",
      "40465           W      42.003016       W  19.092299  57.432214  1014.273338   \n",
      "41731           W      42.003016       W  19.092299  57.432214  1014.273338   \n",
      "43762           W      42.003016       W  19.092299  57.432214  1014.273338   \n",
      "45989           W      42.003016       W  19.092299  57.432214  1014.273338   \n",
      "47532           W      42.003016       W  19.092299  57.432214  1014.273338   \n",
      "48325           W      42.003016       W  19.092299  57.432214  1014.273338   \n",
      "\n",
      "       Cloud       Temp RainToday RainTomorrow  \n",
      "9832     7.0  20.845623        No           No  \n",
      "9935     7.0  20.845623        No           No  \n",
      "12639    7.0  20.845623        No           No  \n",
      "13444    7.0  20.845623        No           No  \n",
      "13972    7.0  20.845623        No           No  \n",
      "20638    7.0  20.845623        No           No  \n",
      "22343    7.0  20.845623        No           No  \n",
      "27894    7.0  20.845623       Yes          Yes  \n",
      "29722    7.0  20.845623        No           No  \n",
      "31485    7.0  20.845623        No           No  \n",
      "32409    7.0  20.845623        No           No  \n",
      "35050    7.0  20.845623        No           No  \n",
      "36460    7.0  20.845623        No           No  \n",
      "40465    7.0  20.845623        No           No  \n",
      "41731    7.0  20.845623        No           No  \n",
      "43762    7.0  20.845623        No           No  \n",
      "45989    7.0  20.845623        No           No  \n",
      "47532    7.0  20.845623       Yes          Yes  \n",
      "48325    7.0  20.845623        No          Yes  \n"
     ]
    }
   ],
   "source": [
    "duplicateRows = df[df.duplicated()] #Finding Repeated values\n",
    " \n",
    "print(\"Duplicate Rows except first occurrence based on all columns are :\")\n",
    "print(duplicateRows)"
   ]
  },
  {
   "cell_type": "markdown",
   "metadata": {},
   "source": [
    "# Pre-processing: Checking for Outliers"
   ]
  },
  {
   "cell_type": "markdown",
   "metadata": {},
   "source": [
    "Visualizing the outliers and replacing them with appropriate values"
   ]
  },
  {
   "cell_type": "code",
   "execution_count": 21,
   "metadata": {},
   "outputs": [
    {
     "data": {
      "text/plain": [
       "<matplotlib.axes._subplots.AxesSubplot at 0x1a90b258788>"
      ]
     },
     "execution_count": 21,
     "metadata": {},
     "output_type": "execute_result"
    },
    {
     "data": {
      "image/png": "[encoded data removed]",
      "text/plain": [
       "<Figure size 432x288 with 1 Axes>"
      ]
     },
     "metadata": {
      "needs_background": "light"
     },
     "output_type": "display_data"
    }
   ],
   "source": [
    "sns.boxplot(x=df['MinTemp'])\n",
    "#df.MinTemp[df.MinTemo>100]=np.median(df.TotalWorkingYears)"
   ]
  },
  {
   "cell_type": "code",
   "execution_count": 22,
   "metadata": {},
   "outputs": [
    {
     "data": {
      "text/plain": [
       "<matplotlib.axes._subplots.AxesSubplot at 0x1a90b5a0848>"
      ]
     },
     "execution_count": 22,
     "metadata": {},
     "output_type": "execute_result"
    },
    {
     "data": {
      "image/png": "[encoded data removed]",
      "text/plain": [
       "<Figure size 432x288 with 1 Axes>"
      ]
     },
     "metadata": {
      "needs_background": "light"
     },
     "output_type": "display_data"
    }
   ],
   "source": [
    "sns.boxplot(x=df['MaxTemp'])"
   ]
  },
  {
   "cell_type": "code",
   "execution_count": 23,
   "metadata": {},
   "outputs": [
    {
     "data": {
      "text/plain": [
       "<matplotlib.axes._subplots.AxesSubplot at 0x1a90b5a5ec8>"
      ]
     },
     "execution_count": 23,
     "metadata": {},
     "output_type": "execute_result"
    },
    {
     "data": {
      "image/png": "[encoded data removed]",
      "text/plain": [
       "<Figure size 432x288 with 1 Axes>"
      ]
     },
     "metadata": {
      "needs_background": "light"
     },
     "output_type": "display_data"
    }
   ],
   "source": [
    "sns.boxplot(x=df['Rainfall'])"
   ]
  },
  {
   "cell_type": "code",
   "execution_count": 24,
   "metadata": {},
   "outputs": [
    {
     "data": {
      "text/plain": [
       "<matplotlib.axes._subplots.AxesSubplot at 0x1a90b691c48>"
      ]
     },
     "execution_count": 24,
     "metadata": {},
     "output_type": "execute_result"
    },
    {
     "data": {
      "image/png": "[encoded data removed]",
      "text/plain": [
       "<Figure size 432x288 with 1 Axes>"
      ]
     },
     "metadata": {
      "needs_background": "light"
     },
     "output_type": "display_data"
    }
   ],
   "source": [
    "sns.boxplot(x=df['Evaporation'])"
   ]
  },
  {
   "cell_type": "code",
   "execution_count": 25,
   "metadata": {},
   "outputs": [
    {
     "data": {
      "text/plain": [
       "<matplotlib.axes._subplots.AxesSubplot at 0x1a90b709888>"
      ]
     },
     "execution_count": 25,
     "metadata": {},
     "output_type": "execute_result"
    },
    {
     "data": {
      "image/png": "[encoded data removed]",
      "text/plain": [
       "<Figure size 432x288 with 1 Axes>"
      ]
     },
     "metadata": {
      "needs_background": "light"
     },
     "output_type": "display_data"
    }
   ],
   "source": [
    "sns.boxplot(x=df['Sunshine'])"
   ]
  },
  {
   "cell_type": "code",
   "execution_count": 26,
   "metadata": {},
   "outputs": [
    {
     "data": {
      "text/plain": [
       "<matplotlib.axes._subplots.AxesSubplot at 0x1a90b770888>"
      ]
     },
     "execution_count": 26,
     "metadata": {},
     "output_type": "execute_result"
    },
    {
     "data": {
      "image/png": "[encoded data removed]",
      "text/plain": [
       "<Figure size 432x288 with 1 Axes>"
      ]
     },
     "metadata": {
      "needs_background": "light"
     },
     "output_type": "display_data"
    }
   ],
   "source": [
    "sns.boxplot(x=df['WindGustSpeed'])"
   ]
  },
  {
   "cell_type": "code",
   "execution_count": 27,
   "metadata": {},
   "outputs": [
    {
     "data": {
      "text/plain": [
       "<matplotlib.axes._subplots.AxesSubplot at 0x1a90b7bd448>"
      ]
     },
     "execution_count": 27,
     "metadata": {},
     "output_type": "execute_result"
    },
    {
     "data": {
      "image/png": "[encoded data removed]",
      "text/plain": [
       "<Figure size 432x288 with 1 Axes>"
      ]
     },
     "metadata": {
      "needs_background": "light"
     },
     "output_type": "display_data"
    }
   ],
   "source": [
    "sns.boxplot(x=df['WindSpeed'])"
   ]
  },
  {
   "cell_type": "code",
   "execution_count": 28,
   "metadata": {},
   "outputs": [
    {
     "data": {
      "text/plain": [
       "<matplotlib.axes._subplots.AxesSubplot at 0x1a90b830648>"
      ]
     },
     "execution_count": 28,
     "metadata": {},
     "output_type": "execute_result"
    },
    {
     "data": {
      "image/png": "[encoded data removed]",
      "text/plain": [
       "<Figure size 432x288 with 1 Axes>"
      ]
     },
     "metadata": {
      "needs_background": "light"
     },
     "output_type": "display_data"
    }
   ],
   "source": [
    "sns.boxplot(x=df['Humidity'])"
   ]
  },
  {
   "cell_type": "code",
   "execution_count": 29,
   "metadata": {},
   "outputs": [
    {
     "data": {
      "text/plain": [
       "<matplotlib.axes._subplots.AxesSubplot at 0x1a90b8a5e48>"
      ]
     },
     "execution_count": 29,
     "metadata": {},
     "output_type": "execute_result"
    },
    {
     "data": {
      "image/png": "[encoded data removed]",
      "text/plain": [
       "<Figure size 432x288 with 1 Axes>"
      ]
     },
     "metadata": {
      "needs_background": "light"
     },
     "output_type": "display_data"
    }
   ],
   "source": [
    "sns.boxplot(x=df['Pressure'])"
   ]
  },
  {
   "cell_type": "code",
   "execution_count": 30,
   "metadata": {},
   "outputs": [
    {
     "data": {
      "text/plain": [
       "<matplotlib.axes._subplots.AxesSubplot at 0x1a90b909048>"
      ]
     },
     "execution_count": 30,
     "metadata": {},
     "output_type": "execute_result"
    },
    {
     "data": {
      "image/png": "[encoded data removed]",
      "text/plain": [
       "<Figure size 432x288 with 1 Axes>"
      ]
     },
     "metadata": {
      "needs_background": "light"
     },
     "output_type": "display_data"
    }
   ],
   "source": [
    "sns.boxplot(x=df['Temp'])"
   ]
  },
  {
   "cell_type": "code",
   "execution_count": 31,
   "metadata": {},
   "outputs": [],
   "source": [
    "df1=pd.read_csv(\"C:/Users/rtd91/OneDrive/Syracuse University/IST 707/Homework2/Weather Forecast Testing.csv\")"
   ]
  },
  {
   "cell_type": "code",
   "execution_count": 32,
   "metadata": {},
   "outputs": [
    {
     "data": {
      "text/html": [
       "<div>\n",
       "<style scoped>\n",
       "    .dataframe tbody tr th:only-of-type {\n",
       "        vertical-align: middle;\n",
       "    }\n",
       "\n",
       "    .dataframe tbody tr th {\n",
       "        vertical-align: top;\n",
       "    }\n",
       "\n",
       "    .dataframe thead th {\n",
       "        text-align: right;\n",
       "    }\n",
       "</style>\n",
       "<table border=\"1\" class=\"dataframe\">\n",
       "  <thead>\n",
       "    <tr style=\"text-align: right;\">\n",
       "      <th></th>\n",
       "      <th>ID</th>\n",
       "      <th>Location</th>\n",
       "      <th>MinTemp</th>\n",
       "      <th>MaxTemp</th>\n",
       "      <th>Rainfall</th>\n",
       "      <th>Evaporation</th>\n",
       "      <th>Sunshine</th>\n",
       "      <th>WindGustDir</th>\n",
       "      <th>WindGustSpeed</th>\n",
       "      <th>WindDir</th>\n",
       "      <th>WindSpeed</th>\n",
       "      <th>Humidity</th>\n",
       "      <th>Pressure</th>\n",
       "      <th>Cloud</th>\n",
       "      <th>Temp</th>\n",
       "      <th>RainToday</th>\n",
       "    </tr>\n",
       "  </thead>\n",
       "  <tbody>\n",
       "    <tr>\n",
       "      <td>0</td>\n",
       "      <td>1</td>\n",
       "      <td>Perth</td>\n",
       "      <td>15.3</td>\n",
       "      <td>21.5</td>\n",
       "      <td>4.4</td>\n",
       "      <td>2.4</td>\n",
       "      <td>1.4</td>\n",
       "      <td>NW</td>\n",
       "      <td>70.0</td>\n",
       "      <td>W</td>\n",
       "      <td>22.0</td>\n",
       "      <td>69.0</td>\n",
       "      <td>997.6</td>\n",
       "      <td>7.0</td>\n",
       "      <td>19.8</td>\n",
       "      <td>Yes</td>\n",
       "    </tr>\n",
       "    <tr>\n",
       "      <td>1</td>\n",
       "      <td>2</td>\n",
       "      <td>Portland</td>\n",
       "      <td>7.1</td>\n",
       "      <td>11.0</td>\n",
       "      <td>38.8</td>\n",
       "      <td>1.2</td>\n",
       "      <td>5.8</td>\n",
       "      <td>SSE</td>\n",
       "      <td>48.0</td>\n",
       "      <td>SW</td>\n",
       "      <td>19.0</td>\n",
       "      <td>46.0</td>\n",
       "      <td>1014.0</td>\n",
       "      <td>4.0</td>\n",
       "      <td>10.7</td>\n",
       "      <td>Yes</td>\n",
       "    </tr>\n",
       "    <tr>\n",
       "      <td>2</td>\n",
       "      <td>3</td>\n",
       "      <td>Hobart</td>\n",
       "      <td>3.6</td>\n",
       "      <td>16.6</td>\n",
       "      <td>0.2</td>\n",
       "      <td>2.8</td>\n",
       "      <td>9.3</td>\n",
       "      <td>NW</td>\n",
       "      <td>37.0</td>\n",
       "      <td>N</td>\n",
       "      <td>15.0</td>\n",
       "      <td>48.0</td>\n",
       "      <td>1016.6</td>\n",
       "      <td>5.0</td>\n",
       "      <td>15.4</td>\n",
       "      <td>No</td>\n",
       "    </tr>\n",
       "    <tr>\n",
       "      <td>3</td>\n",
       "      <td>4</td>\n",
       "      <td>Woomera</td>\n",
       "      <td>17.6</td>\n",
       "      <td>37.4</td>\n",
       "      <td>0.0</td>\n",
       "      <td>34.0</td>\n",
       "      <td>NaN</td>\n",
       "      <td>NNW</td>\n",
       "      <td>37.0</td>\n",
       "      <td>NW</td>\n",
       "      <td>19.0</td>\n",
       "      <td>11.0</td>\n",
       "      <td>1010.4</td>\n",
       "      <td>2.0</td>\n",
       "      <td>34.6</td>\n",
       "      <td>No</td>\n",
       "    </tr>\n",
       "    <tr>\n",
       "      <td>4</td>\n",
       "      <td>5</td>\n",
       "      <td>Townsville</td>\n",
       "      <td>11.4</td>\n",
       "      <td>25.6</td>\n",
       "      <td>0.0</td>\n",
       "      <td>6.0</td>\n",
       "      <td>2.8</td>\n",
       "      <td>ESE</td>\n",
       "      <td>31.0</td>\n",
       "      <td>SSE</td>\n",
       "      <td>13.0</td>\n",
       "      <td>52.0</td>\n",
       "      <td>1016.4</td>\n",
       "      <td>7.0</td>\n",
       "      <td>24.3</td>\n",
       "      <td>No</td>\n",
       "    </tr>\n",
       "  </tbody>\n",
       "</table>\n",
       "</div>"
      ],
      "text/plain": [
       "   ID    Location  MinTemp  MaxTemp  Rainfall  Evaporation  Sunshine  \\\n",
       "0   1       Perth     15.3     21.5       4.4          2.4       1.4   \n",
       "1   2    Portland      7.1     11.0      38.8          1.2       5.8   \n",
       "2   3      Hobart      3.6     16.6       0.2          2.8       9.3   \n",
       "3   4     Woomera     17.6     37.4       0.0         34.0       NaN   \n",
       "4   5  Townsville     11.4     25.6       0.0          6.0       2.8   \n",
       "\n",
       "  WindGustDir  WindGustSpeed WindDir  WindSpeed  Humidity  Pressure  Cloud  \\\n",
       "0          NW           70.0       W       22.0      69.0     997.6    7.0   \n",
       "1         SSE           48.0      SW       19.0      46.0    1014.0    4.0   \n",
       "2          NW           37.0       N       15.0      48.0    1016.6    5.0   \n",
       "3         NNW           37.0      NW       19.0      11.0    1010.4    2.0   \n",
       "4         ESE           31.0     SSE       13.0      52.0    1016.4    7.0   \n",
       "\n",
       "   Temp RainToday  \n",
       "0  19.8       Yes  \n",
       "1  10.7       Yes  \n",
       "2  15.4        No  \n",
       "3  34.6        No  \n",
       "4  24.3        No  "
      ]
     },
     "execution_count": 32,
     "metadata": {},
     "output_type": "execute_result"
    }
   ],
   "source": [
    "df1.head(5)"
   ]
  },
  {
   "cell_type": "code",
   "execution_count": 33,
   "metadata": {},
   "outputs": [
    {
     "data": {
      "text/plain": [
       "ID                  0\n",
       "Location            0\n",
       "MinTemp            47\n",
       "MaxTemp            18\n",
       "Rainfall          161\n",
       "Evaporation      5516\n",
       "Sunshine         6094\n",
       "WindGustDir       929\n",
       "WindGustSpeed     920\n",
       "WindDir           387\n",
       "WindSpeed         261\n",
       "Humidity          349\n",
       "Pressure         1293\n",
       "Cloud            5020\n",
       "Temp              267\n",
       "RainToday         161\n",
       "dtype: int64"
      ]
     },
     "execution_count": 33,
     "metadata": {},
     "output_type": "execute_result"
    }
   ],
   "source": [
    "df1.isnull().sum() #checking which columns has how many null values"
   ]
  },
  {
   "cell_type": "code",
   "execution_count": 34,
   "metadata": {},
   "outputs": [],
   "source": [
    "df1['MinTemp']=df1['MinTemp'].fillna(value=np.mean(df1['MinTemp'])) #replacing NA with mean value"
   ]
  },
  {
   "cell_type": "code",
   "execution_count": 35,
   "metadata": {},
   "outputs": [],
   "source": [
    "df1['MaxTemp']=df1['MaxTemp'].fillna(value=np.mean(df1['MaxTemp'])) #replacing NA with mean value"
   ]
  },
  {
   "cell_type": "code",
   "execution_count": 36,
   "metadata": {},
   "outputs": [],
   "source": [
    "df1['Rainfall']=df1['Rainfall'].fillna(value=np.mean(df1['Rainfall'])) #replacing NA with mean value"
   ]
  },
  {
   "cell_type": "code",
   "execution_count": 37,
   "metadata": {},
   "outputs": [],
   "source": [
    "df1['Evaporation']=df1['Evaporation'].fillna(value=np.mean(df1['Evaporation'])) #replacing NA with mean value"
   ]
  },
  {
   "cell_type": "code",
   "execution_count": 38,
   "metadata": {},
   "outputs": [],
   "source": [
    "df1['Sunshine']=df1['Sunshine'].fillna(value=np.mean(df1['Sunshine'])) #replacing NA with mean value"
   ]
  },
  {
   "cell_type": "code",
   "execution_count": 39,
   "metadata": {},
   "outputs": [],
   "source": [
    "df1['WindGustSpeed']=df1['WindGustSpeed'].fillna(value=np.mean(df1['WindGustSpeed'])) #replacing NA with mean value"
   ]
  },
  {
   "cell_type": "code",
   "execution_count": 40,
   "metadata": {},
   "outputs": [],
   "source": [
    "df1['WindSpeed']=df1['WindSpeed'].fillna(value=np.mean(df1['WindSpeed'])) #replacing NA with mean value"
   ]
  },
  {
   "cell_type": "code",
   "execution_count": 41,
   "metadata": {},
   "outputs": [],
   "source": [
    "df1['Humidity']=df1['Humidity'].fillna(value=np.mean(df1['Humidity'])) #replacing NA with mean value"
   ]
  },
  {
   "cell_type": "code",
   "execution_count": 42,
   "metadata": {},
   "outputs": [],
   "source": [
    "df1['Pressure']=df1['Pressure'].fillna(value=np.mean(df1['Pressure'])) #replacing NA with mean value"
   ]
  },
  {
   "cell_type": "code",
   "execution_count": 43,
   "metadata": {},
   "outputs": [],
   "source": [
    "df1['Temp']=df1['Temp'].fillna(value=np.mean(df1['Temp'])) #replacing NA with mean value"
   ]
  },
  {
   "cell_type": "code",
   "execution_count": 44,
   "metadata": {},
   "outputs": [],
   "source": [
    "df1.WindGustDir.value_counts() #tabulating all the values to find the mode\n",
    "df1['WindGustDir']=df1['WindGustDir'].fillna(value=\"W\") #replacing NA values of categorical variable with mode"
   ]
  },
  {
   "cell_type": "code",
   "execution_count": 45,
   "metadata": {},
   "outputs": [],
   "source": [
    "df1.WindDir.value_counts() #tabulating all the values to find the mode\n",
    "df1['WindDir']=df1['WindDir'].fillna(value=\"W\") #replacing NA values of categorical variable with mode"
   ]
  },
  {
   "cell_type": "code",
   "execution_count": 46,
   "metadata": {},
   "outputs": [],
   "source": [
    "df1.Cloud.value_counts() #tabulating all the values to find the mode\n",
    "df1['Cloud']=df1['Cloud'].fillna(value=7.0) #replacing NA values of categorical variable with mode"
   ]
  },
  {
   "cell_type": "code",
   "execution_count": 47,
   "metadata": {},
   "outputs": [],
   "source": [
    "df1.RainToday.value_counts() #tabulating all the values to find the mode\n",
    "df1['RainToday']=df1['RainToday'].fillna(value=\"Yes\") #replacing NA values of categorical variable with mode"
   ]
  },
  {
   "cell_type": "code",
   "execution_count": 48,
   "metadata": {},
   "outputs": [],
   "source": [
    "#min_max_scaler = preprocessing.MinMaxScaler()\n",
    "#np_scaled = min_max_scaler.fit_transform(df)\n",
    "#df_normalized = pd.DataFrame(np_scaled, columns=df.columns, index=df.index)\n",
    "#df_normalized.describe()"
   ]
  },
  {
   "cell_type": "code",
   "execution_count": 49,
   "metadata": {},
   "outputs": [
    {
     "data": {
      "text/plain": [
       "<matplotlib.axes._subplots.AxesSubplot at 0x1a90b991408>"
      ]
     },
     "execution_count": 49,
     "metadata": {},
     "output_type": "execute_result"
    },
    {
     "data": {
      "image/png": "[encoded data removed]",
      "text/plain": [
       "<Figure size 432x288 with 1 Axes>"
      ]
     },
     "metadata": {
      "needs_background": "light"
     },
     "output_type": "display_data"
    }
   ],
   "source": [
    "sns.boxplot(x=df1['MinTemp'])\n",
    "#df.MinTemp[df.MinTemo>100]=np.median(df.TotalWorkingYears)"
   ]
  },
  {
   "cell_type": "code",
   "execution_count": 50,
   "metadata": {},
   "outputs": [
    {
     "data": {
      "text/plain": [
       "<matplotlib.axes._subplots.AxesSubplot at 0x1a90b9ec308>"
      ]
     },
     "execution_count": 50,
     "metadata": {},
     "output_type": "execute_result"
    },
    {
     "data": {
      "image/png": "[encoded data removed]",
      "text/plain": [
       "<Figure size 432x288 with 1 Axes>"
      ]
     },
     "metadata": {
      "needs_background": "light"
     },
     "output_type": "display_data"
    }
   ],
   "source": [
    "sns.boxplot(x=df1['MaxTemp'])"
   ]
  },
  {
   "cell_type": "code",
   "execution_count": 51,
   "metadata": {},
   "outputs": [
    {
     "data": {
      "text/plain": [
       "<matplotlib.axes._subplots.AxesSubplot at 0x1a90ba38988>"
      ]
     },
     "execution_count": 51,
     "metadata": {},
     "output_type": "execute_result"
    },
    {
     "data": {
      "image/png": "[encoded data removed]",
      "text/plain": [
       "<Figure size 432x288 with 1 Axes>"
      ]
     },
     "metadata": {
      "needs_background": "light"
     },
     "output_type": "display_data"
    }
   ],
   "source": [
    "sns.boxplot(x=df1['Rainfall'])"
   ]
  },
  {
   "cell_type": "code",
   "execution_count": 52,
   "metadata": {},
   "outputs": [
    {
     "data": {
      "text/plain": [
       "<matplotlib.axes._subplots.AxesSubplot at 0x1a90bc09d48>"
      ]
     },
     "execution_count": 52,
     "metadata": {},
     "output_type": "execute_result"
    },
    {
     "data": {
      "image/png": "[encoded data removed]",
      "text/plain": [
       "<Figure size 432x288 with 1 Axes>"
      ]
     },
     "metadata": {
      "needs_background": "light"
     },
     "output_type": "display_data"
    }
   ],
   "source": [
    "sns.boxplot(x=df1['Evaporation'])"
   ]
  },
  {
   "cell_type": "code",
   "execution_count": 53,
   "metadata": {},
   "outputs": [
    {
     "data": {
      "text/plain": [
       "<matplotlib.axes._subplots.AxesSubplot at 0x1a90bc54b88>"
      ]
     },
     "execution_count": 53,
     "metadata": {},
     "output_type": "execute_result"
    },
    {
     "data": {
      "image/png": "[encoded data removed]",
      "text/plain": [
       "<Figure size 432x288 with 1 Axes>"
      ]
     },
     "metadata": {
      "needs_background": "light"
     },
     "output_type": "display_data"
    }
   ],
   "source": [
    "sns.boxplot(x=df1['Sunshine'])"
   ]
  },
  {
   "cell_type": "code",
   "execution_count": 55,
   "metadata": {},
   "outputs": [
    {
     "data": {
      "text/plain": [
       "<matplotlib.axes._subplots.AxesSubplot at 0x1a90b980948>"
      ]
     },
     "execution_count": 55,
     "metadata": {},
     "output_type": "execute_result"
    },
    {
     "data": {
      "image/png": "[encoded data removed]",
      "text/plain": [
       "<Figure size 432x288 with 1 Axes>"
      ]
     },
     "metadata": {
      "needs_background": "light"
     },
     "output_type": "display_data"
    }
   ],
   "source": [
    "sns.boxplot(x=df1['WindGustSpeed'])"
   ]
  },
  {
   "cell_type": "code",
   "execution_count": 56,
   "metadata": {},
   "outputs": [
    {
     "data": {
      "text/plain": [
       "<matplotlib.axes._subplots.AxesSubplot at 0x1a90be138c8>"
      ]
     },
     "execution_count": 56,
     "metadata": {},
     "output_type": "execute_result"
    },
    {
     "data": {
      "image/png": "[encoded data removed]",
      "text/plain": [
       "<Figure size 432x288 with 1 Axes>"
      ]
     },
     "metadata": {
      "needs_background": "light"
     },
     "output_type": "display_data"
    }
   ],
   "source": [
    "sns.boxplot(x=df1['WindSpeed'])"
   ]
  },
  {
   "cell_type": "code",
   "execution_count": 57,
   "metadata": {},
   "outputs": [
    {
     "data": {
      "text/plain": [
       "<matplotlib.axes._subplots.AxesSubplot at 0x1a90be72d48>"
      ]
     },
     "execution_count": 57,
     "metadata": {},
     "output_type": "execute_result"
    },
    {
     "data": {
      "image/png": "[encoded data removed]",
      "text/plain": [
       "<Figure size 432x288 with 1 Axes>"
      ]
     },
     "metadata": {
      "needs_background": "light"
     },
     "output_type": "display_data"
    }
   ],
   "source": [
    "sns.boxplot(x=df1['Humidity'])"
   ]
  },
  {
   "cell_type": "code",
   "execution_count": 58,
   "metadata": {},
   "outputs": [
    {
     "data": {
      "text/plain": [
       "<matplotlib.axes._subplots.AxesSubplot at 0x1a90bea43c8>"
      ]
     },
     "execution_count": 58,
     "metadata": {},
     "output_type": "execute_result"
    },
    {
     "data": {
      "image/png": "[encoded data removed]",
      "text/plain": [
       "<Figure size 432x288 with 1 Axes>"
      ]
     },
     "metadata": {
      "needs_background": "light"
     },
     "output_type": "display_data"
    }
   ],
   "source": [
    "sns.boxplot(x=df1['Pressure'])"
   ]
  },
  {
   "cell_type": "code",
   "execution_count": 59,
   "metadata": {},
   "outputs": [
    {
     "data": {
      "text/plain": [
       "<matplotlib.axes._subplots.AxesSubplot at 0x1a90bf1f648>"
      ]
     },
     "execution_count": 59,
     "metadata": {},
     "output_type": "execute_result"
    },
    {
     "data": {
      "image/png": "[encoded data removed]",
      "text/plain": [
       "<Figure size 432x288 with 1 Axes>"
      ]
     },
     "metadata": {
      "needs_background": "light"
     },
     "output_type": "display_data"
    }
   ],
   "source": [
    "sns.boxplot(x=df1['Temp'])"
   ]
  },
  {
   "cell_type": "markdown",
   "metadata": {},
   "source": [
    "# Including only the object type since we have to convert these categorical variables to numerical variables"
   ]
  },
  {
   "cell_type": "code",
   "execution_count": 180,
   "metadata": {},
   "outputs": [],
   "source": [
    "obj_df = df.select_dtypes(include=['object']).copy()\n",
    "obj_df1 = df1.select_dtypes(include=['object']).copy()"
   ]
  },
  {
   "cell_type": "markdown",
   "metadata": {},
   "source": [
    "Making sure once again that we don't have any null values in these categorical variables"
   ]
  },
  {
   "cell_type": "code",
   "execution_count": 181,
   "metadata": {},
   "outputs": [
    {
     "data": {
      "text/html": [
       "<div>\n",
       "<style scoped>\n",
       "    .dataframe tbody tr th:only-of-type {\n",
       "        vertical-align: middle;\n",
       "    }\n",
       "\n",
       "    .dataframe tbody tr th {\n",
       "        vertical-align: top;\n",
       "    }\n",
       "\n",
       "    .dataframe thead th {\n",
       "        text-align: right;\n",
       "    }\n",
       "</style>\n",
       "<table border=\"1\" class=\"dataframe\">\n",
       "  <thead>\n",
       "    <tr style=\"text-align: right;\">\n",
       "      <th></th>\n",
       "      <th>Location</th>\n",
       "      <th>WindGustDir</th>\n",
       "      <th>WindDir</th>\n",
       "      <th>RainToday</th>\n",
       "      <th>RainTomorrow</th>\n",
       "    </tr>\n",
       "  </thead>\n",
       "  <tbody>\n",
       "  </tbody>\n",
       "</table>\n",
       "</div>"
      ],
      "text/plain": [
       "Empty DataFrame\n",
       "Columns: [Location, WindGustDir, WindDir, RainToday, RainTomorrow]\n",
       "Index: []"
      ]
     },
     "execution_count": 181,
     "metadata": {},
     "output_type": "execute_result"
    }
   ],
   "source": [
    "obj_df[obj_df.isnull().any(axis=1)] "
   ]
  },
  {
   "cell_type": "code",
   "execution_count": 182,
   "metadata": {},
   "outputs": [
    {
     "data": {
      "text/plain": [
       "Portland            1291\n",
       "MountGambier        1276\n",
       "Cairns              1263\n",
       "Darwin              1262\n",
       "Sydney              1257\n",
       "Witchcliffe         1235\n",
       "Walpole             1231\n",
       "Albany              1223\n",
       "NorfolkIsland       1218\n",
       "Dartmoor            1213\n",
       "CoffsHarbour        1199\n",
       "Canberra            1191\n",
       "Brisbane            1188\n",
       "Ballarat            1173\n",
       "NorahHead           1173\n",
       "Perth               1163\n",
       "Wollongong          1158\n",
       "Hobart              1141\n",
       "Launceston          1140\n",
       "GoldCoast           1133\n",
       "Watsonia            1125\n",
       "MountGinini         1125\n",
       "Newcastle           1123\n",
       "Adelaide            1108\n",
       "SydneyAirport       1108\n",
       "MelbourneAirport    1097\n",
       "Sale                1077\n",
       "Albury              1063\n",
       "PerthAirport        1047\n",
       "Penrith             1045\n",
       "Bendigo             1035\n",
       "Nuriootpa           1035\n",
       "Richmond            1026\n",
       "BadgerysCreek       1017\n",
       "Tuggeranong         1000\n",
       "Townsville           999\n",
       "WaggaWagga           990\n",
       "Williamtown          982\n",
       "Cobar                980\n",
       "PearceRAAF           974\n",
       "SalmonGums           960\n",
       "Melbourne            940\n",
       "Mildura              931\n",
       "AliceSprings         895\n",
       "Moree                888\n",
       "Woomera              825\n",
       "Katherine            533\n",
       "Nhil                 516\n",
       "Uluru                406\n",
       "Name: Location, dtype: int64"
      ]
     },
     "execution_count": 182,
     "metadata": {},
     "output_type": "execute_result"
    }
   ],
   "source": [
    "obj_df[\"Location\"].value_counts()"
   ]
  },
  {
   "cell_type": "code",
   "execution_count": 183,
   "metadata": {},
   "outputs": [],
   "source": [
    "a=obj_df[\"Location\"].unique()"
   ]
  },
  {
   "cell_type": "code",
   "execution_count": 184,
   "metadata": {},
   "outputs": [],
   "source": [
    "b=obj_df[\"WindGustDir\"].unique()"
   ]
  },
  {
   "cell_type": "code",
   "execution_count": 185,
   "metadata": {},
   "outputs": [],
   "source": [
    "c=obj_df[\"WindDir\"].unique()"
   ]
  },
  {
   "cell_type": "code",
   "execution_count": 186,
   "metadata": {},
   "outputs": [],
   "source": [
    "d=obj_df[\"RainToday\"].unique()"
   ]
  },
  {
   "cell_type": "code",
   "execution_count": 187,
   "metadata": {},
   "outputs": [],
   "source": [
    "e=obj_df[\"RainTomorrow\"].unique()"
   ]
  },
  {
   "cell_type": "code",
   "execution_count": 188,
   "metadata": {},
   "outputs": [
    {
     "data": {
      "text/plain": [
       "49"
      ]
     },
     "execution_count": 188,
     "metadata": {},
     "output_type": "execute_result"
    }
   ],
   "source": [
    "np.count_nonzero(obj_df['Location'].unique())"
   ]
  },
  {
   "cell_type": "code",
   "execution_count": 124,
   "metadata": {},
   "outputs": [
    {
     "data": {
      "text/plain": [
       "str"
      ]
     },
     "execution_count": 124,
     "metadata": {},
     "output_type": "execute_result"
    }
   ],
   "source": []
  },
  {
   "cell_type": "code",
   "execution_count": 146,
   "metadata": {},
   "outputs": [
    {
     "data": {
      "text/plain": [
       "(array([0], dtype=int64),)"
      ]
     },
     "execution_count": 146,
     "metadata": {},
     "output_type": "execute_result"
    }
   ],
   "source": []
  },
  {
   "cell_type": "code",
   "execution_count": 64,
   "metadata": {},
   "outputs": [
    {
     "data": {
      "text/plain": [
       "W      7408\n",
       "N      3458\n",
       "WSW    3315\n",
       "S      3269\n",
       "SE     3206\n",
       "WNW    3197\n",
       "SW     3175\n",
       "NW     3161\n",
       "SSE    3134\n",
       "SSW    3119\n",
       "E      2980\n",
       "ENE    2693\n",
       "NNW    2605\n",
       "ESE    2479\n",
       "NNE    2392\n",
       "NE     2387\n",
       "Name: WindGustDir, dtype: int64"
      ]
     },
     "execution_count": 64,
     "metadata": {},
     "output_type": "execute_result"
    }
   ],
   "source": [
    "obj_df[\"WindGustDir\"].value_counts()"
   ]
  },
  {
   "cell_type": "code",
   "execution_count": 65,
   "metadata": {},
   "outputs": [
    {
     "data": {
      "text/plain": [
       "W      5260\n",
       "SE     3687\n",
       "S      3469\n",
       "WSW    3455\n",
       "WNW    3434\n",
       "N      3388\n",
       "NW     3356\n",
       "SW     3273\n",
       "SSE    3223\n",
       "NNW    3001\n",
       "SSW    2939\n",
       "NE     2828\n",
       "ESE    2815\n",
       "E      2805\n",
       "ENE    2645\n",
       "NNE    2400\n",
       "Name: WindDir, dtype: int64"
      ]
     },
     "execution_count": 65,
     "metadata": {},
     "output_type": "execute_result"
    }
   ],
   "source": [
    "obj_df[\"WindDir\"].value_counts()"
   ]
  },
  {
   "cell_type": "code",
   "execution_count": 66,
   "metadata": {},
   "outputs": [
    {
     "data": {
      "text/plain": [
       "No     35544\n",
       "Yes    16434\n",
       "Name: RainToday, dtype: int64"
      ]
     },
     "execution_count": 66,
     "metadata": {},
     "output_type": "execute_result"
    }
   ],
   "source": [
    "obj_df[\"RainToday\"].value_counts()"
   ]
  },
  {
   "cell_type": "code",
   "execution_count": 67,
   "metadata": {},
   "outputs": [
    {
     "data": {
      "text/plain": [
       "No     26459\n",
       "Yes    25519\n",
       "Name: RainTomorrow, dtype: int64"
      ]
     },
     "execution_count": 67,
     "metadata": {},
     "output_type": "execute_result"
    }
   ],
   "source": [
    "obj_df[\"RainTomorrow\"].value_counts()"
   ]
  },
  {
   "cell_type": "code",
   "execution_count": 189,
   "metadata": {},
   "outputs": [],
   "source": [
    "numsreptrain = {\"Location\":{i:np.where(a==i)[0][0] for i in a},\n",
    "          \"WindGustDir\":{i:np.where(b==i)[0][0] for i in b},\n",
    "           \"WindDir\":{i:np.where(c==i)[0][0] for i in c},\n",
    "           \"RainToday\":{i:np.where(d==i)[0][0] for i in d},\n",
    "           \"RainTomorrow\":{i:np.where(e==i)[0][0] for i in e}}\n",
    "                        "
   ]
  },
  {
   "cell_type": "code",
   "execution_count": 164,
   "metadata": {},
   "outputs": [
    {
     "data": {
      "text/plain": [
       "{'Location': {'NorahHead': 0,\n",
       "  'Nuriootpa': 1,\n",
       "  'GoldCoast': 2,\n",
       "  'Bendigo': 3,\n",
       "  'Walpole': 4,\n",
       "  'MelbourneAirport': 5,\n",
       "  'Mildura': 6,\n",
       "  'Williamtown': 7,\n",
       "  'Watsonia': 8,\n",
       "  'Nhil': 9,\n",
       "  'MountGinini': 10,\n",
       "  'Newcastle': 11,\n",
       "  'BadgerysCreek': 12,\n",
       "  'SydneyAirport': 13,\n",
       "  'Tuggeranong': 14,\n",
       "  'WaggaWagga': 15,\n",
       "  'Hobart': 16,\n",
       "  'Portland': 17,\n",
       "  'AliceSprings': 18,\n",
       "  'Brisbane': 19,\n",
       "  'PerthAirport': 20,\n",
       "  'Witchcliffe': 21,\n",
       "  'Albany': 22,\n",
       "  'Darwin': 23,\n",
       "  'Ballarat': 24,\n",
       "  'Canberra': 25,\n",
       "  'MountGambier': 26,\n",
       "  'Penrith': 27,\n",
       "  'Townsville': 28,\n",
       "  'Cairns': 29,\n",
       "  'Sydney': 30,\n",
       "  'Cobar': 31,\n",
       "  'PearceRAAF': 32,\n",
       "  'Adelaide': 33,\n",
       "  'NorfolkIsland': 34,\n",
       "  'Launceston': 35,\n",
       "  'Woomera': 36,\n",
       "  'Uluru': 37,\n",
       "  'Albury': 38,\n",
       "  'Dartmoor': 39,\n",
       "  'SalmonGums': 40,\n",
       "  'Richmond': 41,\n",
       "  'Melbourne': 42,\n",
       "  'CoffsHarbour': 43,\n",
       "  'Perth': 44,\n",
       "  'Wollongong': 45,\n",
       "  'Moree': 46,\n",
       "  'Sale': 47,\n",
       "  'Katherine': 48},\n",
       " 'WindGustDir': {'SSE': 0,\n",
       "  'W': 1,\n",
       "  'SE': 2,\n",
       "  'WSW': 3,\n",
       "  'NNE': 4,\n",
       "  'S': 5,\n",
       "  'WNW': 6,\n",
       "  'NW': 7,\n",
       "  'ENE': 8,\n",
       "  'NNW': 9,\n",
       "  'SW': 10,\n",
       "  'SSW': 11,\n",
       "  'E': 12,\n",
       "  'N': 13,\n",
       "  'NE': 14,\n",
       "  'ESE': 15},\n",
       " 'WindDir': {'SSE': 0,\n",
       "  'WSW': 1,\n",
       "  'SW': 2,\n",
       "  'WNW': 3,\n",
       "  'ESE': 4,\n",
       "  'S': 5,\n",
       "  'NW': 6,\n",
       "  'NE': 7,\n",
       "  'W': 8,\n",
       "  'NNE': 9,\n",
       "  'NNW': 10,\n",
       "  'N': 11,\n",
       "  'SSW': 12,\n",
       "  'SE': 13,\n",
       "  'E': 14,\n",
       "  'ENE': 15},\n",
       " 'RainToday': {'No': 0, 'Yes': 1},\n",
       " 'RainTomorrow': {'Yes': 0, 'No': 1}}"
      ]
     },
     "execution_count": 164,
     "metadata": {},
     "output_type": "execute_result"
    }
   ],
   "source": [
    "numsreptrain"
   ]
  },
  {
   "cell_type": "code",
   "execution_count": 190,
   "metadata": {},
   "outputs": [],
   "source": [
    "#np.where(a==\"Portland\")\n",
    "numsreptest = {\"Location\":{i:np.where(a==i)[0][0] for i in a},\n",
    "          \"WindGustDir\":{i:np.where(b==i)[0][0] for i in b},\n",
    "           \"WindDir\":{i:np.where(c==i)[0][0] for i in c},\n",
    "           \"RainToday\":{i:np.where(d==i)[0][0] for i in d},\n",
    "           \"RainTomorrow\":{i:np.where(e==i)[0][0] for i in e}}"
   ]
  },
  {
   "cell_type": "code",
   "execution_count": 207,
   "metadata": {},
   "outputs": [
    {
     "data": {
      "text/plain": [
       "ID                  int64\n",
       "Location           object\n",
       "MinTemp           float64\n",
       "MaxTemp           float64\n",
       "Rainfall          float64\n",
       "Evaporation       float64\n",
       "Sunshine          float64\n",
       "WindGustDir        object\n",
       "WindGustSpeed     float64\n",
       "WindDir            object\n",
       "WindSpeed         float64\n",
       "Humidity          float64\n",
       "Pressure          float64\n",
       "Cloud             float64\n",
       "Temp              float64\n",
       "RainToday          object\n",
       "Locationint         int64\n",
       "WindGustDirint      int64\n",
       "WindDirint          int64\n",
       "RainTodayint        int64\n",
       "dtype: object"
      ]
     },
     "execution_count": 207,
     "metadata": {},
     "output_type": "execute_result"
    }
   ],
   "source": [
    "df1.dtypes"
   ]
  },
  {
   "cell_type": "code",
   "execution_count": 210,
   "metadata": {},
   "outputs": [],
   "source": [
    "tempdf=df\n",
    "tempdf1=df1"
   ]
  },
  {
   "cell_type": "code",
   "execution_count": 214,
   "metadata": {},
   "outputs": [],
   "source": [
    "tempdf=tempdf.drop([\"Location\",\"WindGustDir\",\"WindDir\",\"RainToday\",\"RainTomorrow\"],axis=1)\n",
    "tempdf1=tempdf1.drop([\"Location\",\"WindGustDir\",\"WindDir\",\"RainToday\"],axis=1)"
   ]
  },
  {
   "cell_type": "code",
   "execution_count": 191,
   "metadata": {},
   "outputs": [],
   "source": [
    "obj_df.replace(numsreptrain, inplace=True)\n",
    "obj_df1.replace(numsreptest, inplace=True)"
   ]
  },
  {
   "cell_type": "code",
   "execution_count": 202,
   "metadata": {},
   "outputs": [
    {
     "data": {
      "text/plain": [
       "0         0\n",
       "1         1\n",
       "2         2\n",
       "3         3\n",
       "4         4\n",
       "         ..\n",
       "51973    43\n",
       "51974    30\n",
       "51975    12\n",
       "51976    30\n",
       "51977    41\n",
       "Name: Location, Length: 51978, dtype: int64"
      ]
     },
     "execution_count": 202,
     "metadata": {},
     "output_type": "execute_result"
    }
   ],
   "source": [
    "obj_df[\"Location\"]\n"
   ]
  },
  {
   "cell_type": "code",
   "execution_count": 204,
   "metadata": {},
   "outputs": [],
   "source": [
    "df[\"Locationint\"]=obj_df[\"Location\"]\n",
    "df[\"WindGustDirint\"]=obj_df[\"WindGustDir\"]\n",
    "df[\"WindDirint\"]=obj_df[\"WindDir\"]\n",
    "df[\"RainTodayint\"]=obj_df[\"RainToday\"]\n",
    "df[\"RainTomorrowint\"]=obj_df[\"RainTomorrow\"]"
   ]
  },
  {
   "cell_type": "code",
   "execution_count": 208,
   "metadata": {},
   "outputs": [],
   "source": [
    "df1[\"Locationint\"]=obj_df1[\"Location\"]\n",
    "df1[\"WindGustDirint\"]=obj_df1[\"WindGustDir\"]\n",
    "df1[\"WindDirint\"]=obj_df1[\"WindDir\"]\n",
    "df1[\"RainTodayint\"]=obj_df1[\"RainToday\"]\n"
   ]
  },
  {
   "cell_type": "code",
   "execution_count": null,
   "metadata": {},
   "outputs": [],
   "source": [
    "import pandas as pd\n",
    "import numpy as np\n",
    "import seaborn as sns\n",
    "from sklearn import preprocessing\n",
    "from scipy.spatial import distance_matrix\n",
    "from sklearn.cluster import KMeans\n",
    "from scipy.spatial.distance import cdist\n",
    "import matplotlib.pyplot as plt\n",
    "import gc\n",
    "from sklearn import metrics\n",
    "from sklearn.tree import DecisionTreeClassifier\n",
    "from sklearn.model_selection import train_test_split, GridSearchCV, cross_val_score, cross_validate, ShuffleSplit, LeaveOneOut\n",
    "import re\n",
    "df=pd.read_csv(\"C:/Users/rtd91/OneDrive/Syracuse University/IST 707/Homework2/Weather Forecast Training.csv\")\n",
    "tempdf=df\n",
    "df1=pd.read_csv(\"C:/Users/rtd91/OneDrive/Syracuse University/IST 707/Homework2/Weather Forecast Testing.csv\")\n",
    "tempdf1=df1"
   ]
  },
  {
   "cell_type": "code",
   "execution_count": 294,
   "metadata": {},
   "outputs": [],
   "source": [
    "le = preprocessing.LabelEncoder()\n",
    "obj_df = df.select_dtypes(include=['object']).copy()\n",
    "obj_df.shape\n",
    "for i in obj_df:\n",
    "    le.fit(obj_df[i][obj_df[i].notna()].values)\n",
    "    obj_df[i][obj_df[i].notna()] = le.transform(obj_df[i][obj_df[i].notna()].values)"
   ]
  },
  {
   "cell_type": "code",
   "execution_count": null,
   "metadata": {},
   "outputs": [],
   "source": [
    "le = preprocessing.LabelEncoder()\n",
    "obj_df1 = df1.select_dtypes(include=['object']).copy()\n",
    "obj_df1.shape\n",
    "for i in obj_df1:\n",
    "    le.fit(obj_df1[i][obj_df1[i].notna()].values)\n",
    "    obj_df1[i][obj_df1[i].notna()] = le.transform(obj_df1[i][obj_df1[i].notna()].values)"
   ]
  },
  {
   "cell_type": "code",
   "execution_count": 295,
   "metadata": {},
   "outputs": [],
   "source": [
    "obj_df = obj_df.apply(pd.to_numeric,axis =1)"
   ]
  },
  {
   "cell_type": "code",
   "execution_count": 279,
   "metadata": {},
   "outputs": [],
   "source": [
    "obj_df1 = obj_df1.apply(pd.to_numeric,axis =1)"
   ]
  },
  {
   "cell_type": "code",
   "execution_count": 298,
   "metadata": {},
   "outputs": [
    {
     "name": "stdout",
     "output_type": "stream",
     "text": [
      "<class 'pandas.core.frame.DataFrame'>\n",
      "RangeIndex: 51978 entries, 0 to 51977\n",
      "Data columns (total 11 columns):\n",
      "MinTemp          51694 non-null float64\n",
      "MaxTemp          51849 non-null float64\n",
      "Rainfall         51231 non-null float64\n",
      "Evaporation      29425 non-null float64\n",
      "Sunshine         27103 non-null float64\n",
      "WindGustSpeed    48407 non-null float64\n",
      "WindSpeed        50954 non-null float64\n",
      "Humidity         50549 non-null float64\n",
      "Pressure         46912 non-null float64\n",
      "Cloud            31848 non-null float64\n",
      "Temp             50915 non-null float64\n",
      "dtypes: float64(11)\n",
      "memory usage: 4.4 MB\n"
     ]
    }
   ],
   "source": [
    "tempdf=df\n",
    "tempdf=tempdf.drop([\"Location\",\"WindGustDir\",\"WindDir\",\"RainToday\",\"RainTomorrow\"],axis=1)\n",
    "tempdf.info()"
   ]
  },
  {
   "cell_type": "code",
   "execution_count": null,
   "metadata": {},
   "outputs": [],
   "source": [
    "tempdf1=df1\n",
    "tempdf1=tempdf1.drop([\"Location\",\"WindGustDir\",\"WindDir\",\"RainToday\",\"RainTomorrow\"],axis=1)\n",
    "tempdf1.info()"
   ]
  },
  {
   "cell_type": "code",
   "execution_count": 299,
   "metadata": {},
   "outputs": [
    {
     "name": "stderr",
     "output_type": "stream",
     "text": [
      "C:\\Users\\rtd91\\Anaconda3\\lib\\site-packages\\impyute\\util\\preprocess.py:52: FutureWarning: Method .as_matrix will be removed in a future version. Use .values instead.\n",
      "  args[0] = args[0].as_matrix()\n"
     ]
    }
   ],
   "source": [
    "from impyute.imputation.cs import mice\n",
    "\n",
    "# start the MICE training\n",
    "imputed_training=mice(obj_df)"
   ]
  },
  {
   "cell_type": "code",
   "execution_count": null,
   "metadata": {},
   "outputs": [],
   "source": [
    "# start the MICE training\n",
    "imputed_testing=mice(obj_df1)"
   ]
  },
  {
   "cell_type": "code",
   "execution_count": 300,
   "metadata": {},
   "outputs": [
    {
     "data": {
      "text/html": [
       "<div>\n",
       "<style scoped>\n",
       "    .dataframe tbody tr th:only-of-type {\n",
       "        vertical-align: middle;\n",
       "    }\n",
       "\n",
       "    .dataframe tbody tr th {\n",
       "        vertical-align: top;\n",
       "    }\n",
       "\n",
       "    .dataframe thead th {\n",
       "        text-align: right;\n",
       "    }\n",
       "</style>\n",
       "<table border=\"1\" class=\"dataframe\">\n",
       "  <thead>\n",
       "    <tr style=\"text-align: right;\">\n",
       "      <th></th>\n",
       "      <th>Location</th>\n",
       "      <th>WindGustDir</th>\n",
       "      <th>WindDir</th>\n",
       "      <th>RainToday</th>\n",
       "      <th>RainTomorrow</th>\n",
       "    </tr>\n",
       "  </thead>\n",
       "  <tbody>\n",
       "    <tr>\n",
       "      <td>0</td>\n",
       "      <td>26.0</td>\n",
       "      <td>10.000000</td>\n",
       "      <td>10.0</td>\n",
       "      <td>0.0</td>\n",
       "      <td>1.0</td>\n",
       "    </tr>\n",
       "    <tr>\n",
       "      <td>1</td>\n",
       "      <td>28.0</td>\n",
       "      <td>13.000000</td>\n",
       "      <td>15.0</td>\n",
       "      <td>0.0</td>\n",
       "      <td>0.0</td>\n",
       "    </tr>\n",
       "    <tr>\n",
       "      <td>2</td>\n",
       "      <td>14.0</td>\n",
       "      <td>9.000000</td>\n",
       "      <td>12.0</td>\n",
       "      <td>1.0</td>\n",
       "      <td>1.0</td>\n",
       "    </tr>\n",
       "    <tr>\n",
       "      <td>3</td>\n",
       "      <td>6.0</td>\n",
       "      <td>15.000000</td>\n",
       "      <td>14.0</td>\n",
       "      <td>0.0</td>\n",
       "      <td>1.0</td>\n",
       "    </tr>\n",
       "    <tr>\n",
       "      <td>4</td>\n",
       "      <td>43.0</td>\n",
       "      <td>5.000000</td>\n",
       "      <td>2.0</td>\n",
       "      <td>0.0</td>\n",
       "      <td>0.0</td>\n",
       "    </tr>\n",
       "    <tr>\n",
       "      <td>...</td>\n",
       "      <td>...</td>\n",
       "      <td>...</td>\n",
       "      <td>...</td>\n",
       "      <td>...</td>\n",
       "      <td>...</td>\n",
       "    </tr>\n",
       "    <tr>\n",
       "      <td>51973</td>\n",
       "      <td>11.0</td>\n",
       "      <td>2.000000</td>\n",
       "      <td>9.0</td>\n",
       "      <td>1.0</td>\n",
       "      <td>1.0</td>\n",
       "    </tr>\n",
       "    <tr>\n",
       "      <td>51974</td>\n",
       "      <td>37.0</td>\n",
       "      <td>10.000000</td>\n",
       "      <td>9.0</td>\n",
       "      <td>1.0</td>\n",
       "      <td>1.0</td>\n",
       "    </tr>\n",
       "    <tr>\n",
       "      <td>51975</td>\n",
       "      <td>4.0</td>\n",
       "      <td>13.000000</td>\n",
       "      <td>13.0</td>\n",
       "      <td>1.0</td>\n",
       "      <td>1.0</td>\n",
       "    </tr>\n",
       "    <tr>\n",
       "      <td>51976</td>\n",
       "      <td>37.0</td>\n",
       "      <td>3.050228</td>\n",
       "      <td>0.0</td>\n",
       "      <td>0.0</td>\n",
       "      <td>0.0</td>\n",
       "    </tr>\n",
       "    <tr>\n",
       "      <td>51977</td>\n",
       "      <td>34.0</td>\n",
       "      <td>1.000000</td>\n",
       "      <td>1.0</td>\n",
       "      <td>0.0</td>\n",
       "      <td>0.0</td>\n",
       "    </tr>\n",
       "  </tbody>\n",
       "</table>\n",
       "<p>51978 rows × 5 columns</p>\n",
       "</div>"
      ],
      "text/plain": [
       "       Location  WindGustDir  WindDir  RainToday  RainTomorrow\n",
       "0          26.0    10.000000     10.0        0.0           1.0\n",
       "1          28.0    13.000000     15.0        0.0           0.0\n",
       "2          14.0     9.000000     12.0        1.0           1.0\n",
       "3           6.0    15.000000     14.0        0.0           1.0\n",
       "4          43.0     5.000000      2.0        0.0           0.0\n",
       "...         ...          ...      ...        ...           ...\n",
       "51973      11.0     2.000000      9.0        1.0           1.0\n",
       "51974      37.0    10.000000      9.0        1.0           1.0\n",
       "51975       4.0    13.000000     13.0        1.0           1.0\n",
       "51976      37.0     3.050228      0.0        0.0           0.0\n",
       "51977      34.0     1.000000      1.0        0.0           0.0\n",
       "\n",
       "[51978 rows x 5 columns]"
      ]
     },
     "execution_count": 300,
     "metadata": {},
     "output_type": "execute_result"
    }
   ],
   "source": [
    "imputed_training=imputed_training.rename(columns={0: \"Location\", 1: \"WindGustDir\",2: \"WindDir\",3: \"RainToday\",4: \"RainTomorrow\"})\n",
    "imputed_training"
   ]
  },
  {
   "cell_type": "code",
   "execution_count": null,
   "metadata": {},
   "outputs": [],
   "source": [
    "imputed_testing=imputed_testing.rename(columns={0: \"Location\", 1: \"WindGustDir\",2: \"WindDir\",3: \"RainToday\",4: \"RainTomorrow\"})\n",
    "imputed_testing"
   ]
  },
  {
   "cell_type": "code",
   "execution_count": 301,
   "metadata": {},
   "outputs": [],
   "source": [
    "df[\"Locationint\"]=imputed_training[\"Location\"]\n",
    "df[\"WindGustDirint\"]=imputed_training[\"WindGustDir\"]\n",
    "df[\"WindDirint\"]=imputed_training[\"WindDir\"]\n",
    "df[\"RainTodayint\"]=imputed_training[\"RainToday\"]\n",
    "df[\"RainTomorrowint\"]=imputed_training[\"RainTomorrow\"]"
   ]
  },
  {
   "cell_type": "code",
   "execution_count": 302,
   "metadata": {},
   "outputs": [
    {
     "data": {
      "text/html": [
       "<div>\n",
       "<style scoped>\n",
       "    .dataframe tbody tr th:only-of-type {\n",
       "        vertical-align: middle;\n",
       "    }\n",
       "\n",
       "    .dataframe tbody tr th {\n",
       "        vertical-align: top;\n",
       "    }\n",
       "\n",
       "    .dataframe thead th {\n",
       "        text-align: right;\n",
       "    }\n",
       "</style>\n",
       "<table border=\"1\" class=\"dataframe\">\n",
       "  <thead>\n",
       "    <tr style=\"text-align: right;\">\n",
       "      <th></th>\n",
       "      <th>MinTemp</th>\n",
       "      <th>MaxTemp</th>\n",
       "      <th>Rainfall</th>\n",
       "      <th>Evaporation</th>\n",
       "      <th>Sunshine</th>\n",
       "      <th>WindGustSpeed</th>\n",
       "      <th>WindSpeed</th>\n",
       "      <th>Humidity</th>\n",
       "      <th>Pressure</th>\n",
       "      <th>Cloud</th>\n",
       "      <th>Temp</th>\n",
       "    </tr>\n",
       "  </thead>\n",
       "  <tbody>\n",
       "    <tr>\n",
       "      <td>count</td>\n",
       "      <td>51694.000000</td>\n",
       "      <td>51849.000000</td>\n",
       "      <td>51231.000000</td>\n",
       "      <td>29425.000000</td>\n",
       "      <td>27103.000000</td>\n",
       "      <td>48407.000000</td>\n",
       "      <td>50954.000000</td>\n",
       "      <td>50549.000000</td>\n",
       "      <td>46912.000000</td>\n",
       "      <td>31848.000000</td>\n",
       "      <td>50915.000000</td>\n",
       "    </tr>\n",
       "    <tr>\n",
       "      <td>mean</td>\n",
       "      <td>0.521553</td>\n",
       "      <td>0.520796</td>\n",
       "      <td>0.009810</td>\n",
       "      <td>0.066980</td>\n",
       "      <td>0.450385</td>\n",
       "      <td>0.273461</td>\n",
       "      <td>0.230028</td>\n",
       "      <td>0.570022</td>\n",
       "      <td>0.612411</td>\n",
       "      <td>0.646956</td>\n",
       "      <td>0.499913</td>\n",
       "    </tr>\n",
       "    <tr>\n",
       "      <td>std</td>\n",
       "      <td>0.161846</td>\n",
       "      <td>0.139199</td>\n",
       "      <td>0.029676</td>\n",
       "      <td>0.051975</td>\n",
       "      <td>0.272177</td>\n",
       "      <td>0.114274</td>\n",
       "      <td>0.110331</td>\n",
       "      <td>0.220536</td>\n",
       "      <td>0.119913</td>\n",
       "      <td>0.329021</td>\n",
       "      <td>0.137395</td>\n",
       "    </tr>\n",
       "    <tr>\n",
       "      <td>min</td>\n",
       "      <td>0.000000</td>\n",
       "      <td>0.000000</td>\n",
       "      <td>0.000000</td>\n",
       "      <td>0.000000</td>\n",
       "      <td>0.000000</td>\n",
       "      <td>0.000000</td>\n",
       "      <td>0.000000</td>\n",
       "      <td>0.000000</td>\n",
       "      <td>0.000000</td>\n",
       "      <td>0.000000</td>\n",
       "      <td>0.000000</td>\n",
       "    </tr>\n",
       "    <tr>\n",
       "      <td>25%</td>\n",
       "      <td>0.403553</td>\n",
       "      <td>0.416830</td>\n",
       "      <td>0.000000</td>\n",
       "      <td>0.031048</td>\n",
       "      <td>0.220690</td>\n",
       "      <td>0.187500</td>\n",
       "      <td>0.156627</td>\n",
       "      <td>0.414141</td>\n",
       "      <td>0.530478</td>\n",
       "      <td>0.375000</td>\n",
       "      <td>0.398020</td>\n",
       "    </tr>\n",
       "    <tr>\n",
       "      <td>50%</td>\n",
       "      <td>0.515228</td>\n",
       "      <td>0.506849</td>\n",
       "      <td>0.000000</td>\n",
       "      <td>0.056921</td>\n",
       "      <td>0.475862</td>\n",
       "      <td>0.250000</td>\n",
       "      <td>0.228916</td>\n",
       "      <td>0.575758</td>\n",
       "      <td>0.611203</td>\n",
       "      <td>0.750000</td>\n",
       "      <td>0.487129</td>\n",
       "    </tr>\n",
       "    <tr>\n",
       "      <td>75%</td>\n",
       "      <td>0.639594</td>\n",
       "      <td>0.618395</td>\n",
       "      <td>0.005930</td>\n",
       "      <td>0.090556</td>\n",
       "      <td>0.682759</td>\n",
       "      <td>0.335938</td>\n",
       "      <td>0.289157</td>\n",
       "      <td>0.727273</td>\n",
       "      <td>0.693575</td>\n",
       "      <td>0.875000</td>\n",
       "      <td>0.594059</td>\n",
       "    </tr>\n",
       "    <tr>\n",
       "      <td>max</td>\n",
       "      <td>1.000000</td>\n",
       "      <td>1.000000</td>\n",
       "      <td>1.000000</td>\n",
       "      <td>1.000000</td>\n",
       "      <td>1.000000</td>\n",
       "      <td>1.000000</td>\n",
       "      <td>1.000000</td>\n",
       "      <td>1.000000</td>\n",
       "      <td>1.000000</td>\n",
       "      <td>1.000000</td>\n",
       "      <td>1.000000</td>\n",
       "    </tr>\n",
       "  </tbody>\n",
       "</table>\n",
       "</div>"
      ],
      "text/plain": [
       "            MinTemp       MaxTemp      Rainfall   Evaporation      Sunshine  \\\n",
       "count  51694.000000  51849.000000  51231.000000  29425.000000  27103.000000   \n",
       "mean       0.521553      0.520796      0.009810      0.066980      0.450385   \n",
       "std        0.161846      0.139199      0.029676      0.051975      0.272177   \n",
       "min        0.000000      0.000000      0.000000      0.000000      0.000000   \n",
       "25%        0.403553      0.416830      0.000000      0.031048      0.220690   \n",
       "50%        0.515228      0.506849      0.000000      0.056921      0.475862   \n",
       "75%        0.639594      0.618395      0.005930      0.090556      0.682759   \n",
       "max        1.000000      1.000000      1.000000      1.000000      1.000000   \n",
       "\n",
       "       WindGustSpeed     WindSpeed      Humidity      Pressure         Cloud  \\\n",
       "count   48407.000000  50954.000000  50549.000000  46912.000000  31848.000000   \n",
       "mean        0.273461      0.230028      0.570022      0.612411      0.646956   \n",
       "std         0.114274      0.110331      0.220536      0.119913      0.329021   \n",
       "min         0.000000      0.000000      0.000000      0.000000      0.000000   \n",
       "25%         0.187500      0.156627      0.414141      0.530478      0.375000   \n",
       "50%         0.250000      0.228916      0.575758      0.611203      0.750000   \n",
       "75%         0.335938      0.289157      0.727273      0.693575      0.875000   \n",
       "max         1.000000      1.000000      1.000000      1.000000      1.000000   \n",
       "\n",
       "               Temp  \n",
       "count  50915.000000  \n",
       "mean       0.499913  \n",
       "std        0.137395  \n",
       "min        0.000000  \n",
       "25%        0.398020  \n",
       "50%        0.487129  \n",
       "75%        0.594059  \n",
       "max        1.000000  "
      ]
     },
     "execution_count": 302,
     "metadata": {},
     "output_type": "execute_result"
    }
   ],
   "source": [
    "min_max_scaler = preprocessing.MinMaxScaler()\n",
    "np_scaled = min_max_scaler.fit_transform(tempdf)\n",
    "df_normalized = pd.DataFrame(np_scaled, columns=tempdf.columns, index=tempdf.index)\n",
    "df_normalized.describe()"
   ]
  },
  {
   "cell_type": "code",
   "execution_count": 303,
   "metadata": {},
   "outputs": [
    {
     "data": {
      "text/html": [
       "<div>\n",
       "<style scoped>\n",
       "    .dataframe tbody tr th:only-of-type {\n",
       "        vertical-align: middle;\n",
       "    }\n",
       "\n",
       "    .dataframe tbody tr th {\n",
       "        vertical-align: top;\n",
       "    }\n",
       "\n",
       "    .dataframe thead th {\n",
       "        text-align: right;\n",
       "    }\n",
       "</style>\n",
       "<table border=\"1\" class=\"dataframe\">\n",
       "  <thead>\n",
       "    <tr style=\"text-align: right;\">\n",
       "      <th></th>\n",
       "      <th>ID</th>\n",
       "      <th>MinTemp</th>\n",
       "      <th>MaxTemp</th>\n",
       "      <th>Rainfall</th>\n",
       "      <th>Evaporation</th>\n",
       "      <th>Sunshine</th>\n",
       "      <th>WindGustSpeed</th>\n",
       "      <th>WindSpeed</th>\n",
       "      <th>Humidity</th>\n",
       "      <th>Pressure</th>\n",
       "      <th>Cloud</th>\n",
       "      <th>Temp</th>\n",
       "      <th>Locationint</th>\n",
       "      <th>WindGustDirint</th>\n",
       "      <th>WindDirint</th>\n",
       "      <th>RainTodayint</th>\n",
       "    </tr>\n",
       "  </thead>\n",
       "  <tbody>\n",
       "    <tr>\n",
       "      <td>count</td>\n",
       "      <td>12994.000000</td>\n",
       "      <td>12994.000000</td>\n",
       "      <td>12994.000000</td>\n",
       "      <td>12994.000000</td>\n",
       "      <td>12994.000000</td>\n",
       "      <td>12994.000000</td>\n",
       "      <td>12994.000000</td>\n",
       "      <td>12994.000000</td>\n",
       "      <td>12994.000000</td>\n",
       "      <td>12994.000000</td>\n",
       "      <td>12994.000000</td>\n",
       "      <td>12994.000000</td>\n",
       "      <td>12994.000000</td>\n",
       "      <td>12994.000000</td>\n",
       "      <td>12994.000000</td>\n",
       "      <td>12994.000000</td>\n",
       "    </tr>\n",
       "    <tr>\n",
       "      <td>mean</td>\n",
       "      <td>0.500000</td>\n",
       "      <td>0.524806</td>\n",
       "      <td>0.517622</td>\n",
       "      <td>0.009931</td>\n",
       "      <td>0.059732</td>\n",
       "      <td>0.469852</td>\n",
       "      <td>0.273568</td>\n",
       "      <td>0.219292</td>\n",
       "      <td>0.568086</td>\n",
       "      <td>0.596504</td>\n",
       "      <td>0.730327</td>\n",
       "      <td>0.495531</td>\n",
       "      <td>0.492354</td>\n",
       "      <td>0.451962</td>\n",
       "      <td>0.488708</td>\n",
       "      <td>0.314838</td>\n",
       "    </tr>\n",
       "    <tr>\n",
       "      <td>std</td>\n",
       "      <td>0.288708</td>\n",
       "      <td>0.176161</td>\n",
       "      <td>0.140200</td>\n",
       "      <td>0.029822</td>\n",
       "      <td>0.035393</td>\n",
       "      <td>0.204720</td>\n",
       "      <td>0.111016</td>\n",
       "      <td>0.104681</td>\n",
       "      <td>0.217766</td>\n",
       "      <td>0.121467</td>\n",
       "      <td>0.283083</td>\n",
       "      <td>0.136256</td>\n",
       "      <td>0.287573</td>\n",
       "      <td>0.313019</td>\n",
       "      <td>0.300531</td>\n",
       "      <td>0.464469</td>\n",
       "    </tr>\n",
       "    <tr>\n",
       "      <td>min</td>\n",
       "      <td>0.000000</td>\n",
       "      <td>0.000000</td>\n",
       "      <td>0.000000</td>\n",
       "      <td>0.000000</td>\n",
       "      <td>0.000000</td>\n",
       "      <td>0.000000</td>\n",
       "      <td>0.000000</td>\n",
       "      <td>0.000000</td>\n",
       "      <td>0.000000</td>\n",
       "      <td>0.000000</td>\n",
       "      <td>0.000000</td>\n",
       "      <td>0.000000</td>\n",
       "      <td>0.000000</td>\n",
       "      <td>0.000000</td>\n",
       "      <td>0.000000</td>\n",
       "      <td>0.000000</td>\n",
       "    </tr>\n",
       "    <tr>\n",
       "      <td>25%</td>\n",
       "      <td>0.250000</td>\n",
       "      <td>0.400552</td>\n",
       "      <td>0.415020</td>\n",
       "      <td>0.000000</td>\n",
       "      <td>0.046404</td>\n",
       "      <td>0.464286</td>\n",
       "      <td>0.187500</td>\n",
       "      <td>0.149425</td>\n",
       "      <td>0.424242</td>\n",
       "      <td>0.521053</td>\n",
       "      <td>0.625000</td>\n",
       "      <td>0.397614</td>\n",
       "      <td>0.250000</td>\n",
       "      <td>0.133333</td>\n",
       "      <td>0.200000</td>\n",
       "      <td>0.000000</td>\n",
       "    </tr>\n",
       "    <tr>\n",
       "      <td>50%</td>\n",
       "      <td>0.500000</td>\n",
       "      <td>0.516575</td>\n",
       "      <td>0.501976</td>\n",
       "      <td>0.000000</td>\n",
       "      <td>0.059732</td>\n",
       "      <td>0.469852</td>\n",
       "      <td>0.265625</td>\n",
       "      <td>0.218391</td>\n",
       "      <td>0.568086</td>\n",
       "      <td>0.596504</td>\n",
       "      <td>0.875000</td>\n",
       "      <td>0.485089</td>\n",
       "      <td>0.479167</td>\n",
       "      <td>0.400000</td>\n",
       "      <td>0.533333</td>\n",
       "      <td>0.000000</td>\n",
       "    </tr>\n",
       "    <tr>\n",
       "      <td>75%</td>\n",
       "      <td>0.750000</td>\n",
       "      <td>0.651934</td>\n",
       "      <td>0.614625</td>\n",
       "      <td>0.006529</td>\n",
       "      <td>0.059732</td>\n",
       "      <td>0.521429</td>\n",
       "      <td>0.335938</td>\n",
       "      <td>0.275862</td>\n",
       "      <td>0.717172</td>\n",
       "      <td>0.671930</td>\n",
       "      <td>0.875000</td>\n",
       "      <td>0.584493</td>\n",
       "      <td>0.729167</td>\n",
       "      <td>0.733333</td>\n",
       "      <td>0.733333</td>\n",
       "      <td>1.000000</td>\n",
       "    </tr>\n",
       "    <tr>\n",
       "      <td>max</td>\n",
       "      <td>1.000000</td>\n",
       "      <td>1.000000</td>\n",
       "      <td>1.000000</td>\n",
       "      <td>1.000000</td>\n",
       "      <td>1.000000</td>\n",
       "      <td>1.000000</td>\n",
       "      <td>1.000000</td>\n",
       "      <td>1.000000</td>\n",
       "      <td>1.000000</td>\n",
       "      <td>1.000000</td>\n",
       "      <td>1.000000</td>\n",
       "      <td>1.000000</td>\n",
       "      <td>1.000000</td>\n",
       "      <td>1.000000</td>\n",
       "      <td>1.000000</td>\n",
       "      <td>1.000000</td>\n",
       "    </tr>\n",
       "  </tbody>\n",
       "</table>\n",
       "</div>"
      ],
      "text/plain": [
       "                 ID       MinTemp       MaxTemp      Rainfall   Evaporation  \\\n",
       "count  12994.000000  12994.000000  12994.000000  12994.000000  12994.000000   \n",
       "mean       0.500000      0.524806      0.517622      0.009931      0.059732   \n",
       "std        0.288708      0.176161      0.140200      0.029822      0.035393   \n",
       "min        0.000000      0.000000      0.000000      0.000000      0.000000   \n",
       "25%        0.250000      0.400552      0.415020      0.000000      0.046404   \n",
       "50%        0.500000      0.516575      0.501976      0.000000      0.059732   \n",
       "75%        0.750000      0.651934      0.614625      0.006529      0.059732   \n",
       "max        1.000000      1.000000      1.000000      1.000000      1.000000   \n",
       "\n",
       "           Sunshine  WindGustSpeed     WindSpeed      Humidity      Pressure  \\\n",
       "count  12994.000000   12994.000000  12994.000000  12994.000000  12994.000000   \n",
       "mean       0.469852       0.273568      0.219292      0.568086      0.596504   \n",
       "std        0.204720       0.111016      0.104681      0.217766      0.121467   \n",
       "min        0.000000       0.000000      0.000000      0.000000      0.000000   \n",
       "25%        0.464286       0.187500      0.149425      0.424242      0.521053   \n",
       "50%        0.469852       0.265625      0.218391      0.568086      0.596504   \n",
       "75%        0.521429       0.335938      0.275862      0.717172      0.671930   \n",
       "max        1.000000       1.000000      1.000000      1.000000      1.000000   \n",
       "\n",
       "              Cloud          Temp   Locationint  WindGustDirint    WindDirint  \\\n",
       "count  12994.000000  12994.000000  12994.000000    12994.000000  12994.000000   \n",
       "mean       0.730327      0.495531      0.492354        0.451962      0.488708   \n",
       "std        0.283083      0.136256      0.287573        0.313019      0.300531   \n",
       "min        0.000000      0.000000      0.000000        0.000000      0.000000   \n",
       "25%        0.625000      0.397614      0.250000        0.133333      0.200000   \n",
       "50%        0.875000      0.485089      0.479167        0.400000      0.533333   \n",
       "75%        0.875000      0.584493      0.729167        0.733333      0.733333   \n",
       "max        1.000000      1.000000      1.000000        1.000000      1.000000   \n",
       "\n",
       "       RainTodayint  \n",
       "count  12994.000000  \n",
       "mean       0.314838  \n",
       "std        0.464469  \n",
       "min        0.000000  \n",
       "25%        0.000000  \n",
       "50%        0.000000  \n",
       "75%        1.000000  \n",
       "max        1.000000  "
      ]
     },
     "execution_count": 303,
     "metadata": {},
     "output_type": "execute_result"
    }
   ],
   "source": [
    "min_max_scaler = preprocessing.MinMaxScaler()\n",
    "np_scaled = min_max_scaler.fit_transform(tempdf1)\n",
    "df1_normalized = pd.DataFrame(np_scaled, columns=tempdf1.columns, index=tempdf1.index)\n",
    "df1_normalized.describe()"
   ]
  },
  {
   "cell_type": "code",
   "execution_count": null,
   "metadata": {},
   "outputs": [],
   "source": [
    "dist_matrix = pd.DataFrame(distance_matrix(df_normalized.values,\n",
    "                           df_normalized.values, p=2),\n",
    "                           index=df_normalized.index,\n",
    "                           columns=df_normalized.index)\n",
    "f, ax = plt.subplots(figsize=(11, 9))\n",
    "sns.heatmap(dist_matrix, vmax=.5, center=0, square=True, \n",
    "            linewidths=.5, cbar_kws={\"shrink\": .5})"
   ]
  },
  {
   "cell_type": "code",
   "execution_count": null,
   "metadata": {},
   "outputs": [],
   "source": [
    "dist_matrix1 = pd.DataFrame(distance_matrix(df1_normalized.values,\n",
    "                           df1_normalized.values, p=2),\n",
    "                           index=df1_normalized.index,\n",
    "                           columns=df1_normalized.index)\n",
    "f, ax = plt.subplots(figsize=(11, 9))\n",
    "sns.heatmap(dist_matrix, vmax=.5, center=0, square=True, \n",
    "            linewidths=.5, cbar_kws={\"shrink\": .5})"
   ]
  },
  {
   "cell_type": "code",
   "execution_count": 220,
   "metadata": {},
   "outputs": [
    {
     "data": {
      "text/plain": [
       "KMeans(algorithm='auto', copy_x=True, init='k-means++', max_iter=100,\n",
       "       n_clusters=2, n_init=25, n_jobs=None, precompute_distances='auto',\n",
       "       random_state=6, tol=0.0001, verbose=0)"
      ]
     },
     "execution_count": 220,
     "metadata": {},
     "output_type": "execute_result"
    }
   ],
   "source": [
    "kmeans = KMeans(n_clusters=2, n_init=25, max_iter=100, random_state=6)\n",
    "kmeans.fit(df_normalized)"
   ]
  },
  {
   "cell_type": "code",
   "execution_count": 221,
   "metadata": {},
   "outputs": [
    {
     "data": {
      "text/plain": [
       "dict_keys(['n_clusters', 'init', 'max_iter', 'tol', 'precompute_distances', 'n_init', 'verbose', 'random_state', 'copy_x', 'n_jobs', 'algorithm', 'cluster_centers_', 'labels_', 'inertia_', 'n_iter_'])"
      ]
     },
     "execution_count": 221,
     "metadata": {},
     "output_type": "execute_result"
    }
   ],
   "source": [
    "kmeans.__dict__.keys()"
   ]
  },
  {
   "cell_type": "code",
   "execution_count": 222,
   "metadata": {},
   "outputs": [
    {
     "data": {
      "text/plain": [
       "array([0, 1, 0, ..., 0, 1, 1])"
      ]
     },
     "execution_count": 222,
     "metadata": {},
     "output_type": "execute_result"
    }
   ],
   "source": [
    "kmeans.labels_"
   ]
  },
  {
   "cell_type": "code",
   "execution_count": 230,
   "metadata": {},
   "outputs": [
    {
     "data": {
      "image/png": "[encoded data removed]",
      "text/plain": [
       "<Figure size 432x288 with 1 Axes>"
      ]
     },
     "metadata": {
      "needs_background": "light"
     },
     "output_type": "display_data"
    }
   ],
   "source": [
    "distortions = []\n",
    "K = range(1, 10)\n",
    "for k in K:\n",
    "    kmeanModel = KMeans(n_clusters=k).fit(tempdf)\n",
    "    kmeanModel.fit(tempdf)\n",
    "    distortions.append(sum(np.min(cdist(tempdf, kmeanModel.cluster_centers_, 'euclidean'), axis=1)) / tempdf.shape[0])\n",
    "    \n",
    "plt.plot(K, distortions, 'bx-')\n",
    "plt.xlabel('k')\n",
    "plt.ylabel('Distortion')\n",
    "plt.title('The Elbow Method to Identify Optimal k')\n",
    "plt.show()"
   ]
  },
  {
   "cell_type": "code",
   "execution_count": 231,
   "metadata": {},
   "outputs": [
    {
     "data": {
      "image/png": "[encoded data removed]",
      "text/plain": [
       "<Figure size 1440x720 with 1 Axes>"
      ]
     },
     "metadata": {
      "needs_background": "light"
     },
     "output_type": "display_data"
    }
   ],
   "source": [
    "from scipy.cluster.hierarchy import ward, dendrogram\n",
    "\n",
    "linkage_matrix = ward(tempdf)\n",
    "\n",
    "fig, ax = plt.subplots(figsize=(20, 10))\n",
    "ax.grid(False)\n",
    "ax.set_title('Cluster Dendrogram', fontsize = 25)\n",
    "ax = dendrogram(linkage_matrix, orientation='top', labels=tempdf.index)\n",
    "plt.xticks(fontsize=15)\n",
    "plt.show()   "
   ]
  },
  {
   "cell_type": "code",
   "execution_count": 232,
   "metadata": {},
   "outputs": [
    {
     "data": {
      "image/png": "[encoded data removed]",
      "text/plain": [
       "<Figure size 1440x720 with 1 Axes>"
      ]
     },
     "metadata": {
      "needs_background": "light"
     },
     "output_type": "display_data"
    }
   ],
   "source": [
    "#from scipy.cluster.hierarchy import ward, dendrogram\n",
    "\n",
    "linkage_matrix1 = ward(tempdf1)\n",
    "\n",
    "fig, ax = plt.subplots(figsize=(20, 10))\n",
    "ax.grid(False)\n",
    "ax.set_title('Cluster Dendrogram', fontsize = 25)\n",
    "ax = dendrogram(linkage_matrix1, orientation='top', labels=tempdf1.index)\n",
    "plt.xticks(fontsize=15)\n",
    "plt.show()  "
   ]
  },
  {
   "cell_type": "code",
   "execution_count": null,
   "metadata": {},
   "outputs": [],
   "source": []
  },
  {
   "cell_type": "code",
   "execution_count": 141,
   "metadata": {},
   "outputs": [
    {
     "name": "stdout",
     "output_type": "stream",
     "text": [
      "0:NorahHead\n",
      "\n",
      "1:Nuriootpa\n",
      "\n",
      "2:GoldCoast\n",
      "\n",
      "3:Bendigo\n",
      "\n",
      "4:Walpole\n",
      "\n",
      "5:MelbourneAirport\n",
      "\n",
      "6:Mildura\n",
      "\n",
      "7:Williamtown\n",
      "\n",
      "8:Watsonia\n",
      "\n",
      "9:Nhil\n",
      "\n",
      "10:MountGinini\n",
      "\n",
      "11:Newcastle\n",
      "\n",
      "12:BadgerysCreek\n",
      "\n",
      "13:SydneyAirport\n",
      "\n",
      "14:Tuggeranong\n",
      "\n",
      "15:WaggaWagga\n",
      "\n",
      "16:Hobart\n",
      "\n",
      "17:Portland\n",
      "\n",
      "18:AliceSprings\n",
      "\n",
      "19:Brisbane\n",
      "\n",
      "20:PerthAirport\n",
      "\n",
      "21:Witchcliffe\n",
      "\n",
      "22:Albany\n",
      "\n",
      "23:Darwin\n",
      "\n",
      "24:Ballarat\n",
      "\n",
      "25:Canberra\n",
      "\n",
      "26:MountGambier\n",
      "\n",
      "27:Penrith\n",
      "\n",
      "28:Townsville\n",
      "\n",
      "29:Cairns\n",
      "\n",
      "30:Sydney\n",
      "\n",
      "31:Cobar\n",
      "\n",
      "32:PearceRAAF\n",
      "\n",
      "33:Adelaide\n",
      "\n",
      "34:NorfolkIsland\n",
      "\n",
      "35:Launceston\n",
      "\n",
      "36:Woomera\n",
      "\n",
      "37:Uluru\n",
      "\n",
      "38:Albury\n",
      "\n",
      "39:Dartmoor\n",
      "\n",
      "40:SalmonGums\n",
      "\n",
      "41:Richmond\n",
      "\n",
      "42:Melbourne\n",
      "\n",
      "43:CoffsHarbour\n",
      "\n",
      "44:Perth\n",
      "\n",
      "45:Wollongong\n",
      "\n",
      "46:Moree\n",
      "\n",
      "47:Sale\n",
      "\n",
      "48:Katherine\n",
      "\n"
     ]
    }
   ],
   "source": [
    "\"\"\"\"for c,i in enumerate(a):\n",
    "    print(str(c)+\":\"+str(i))\n",
    "    print()\"\"\""
   ]
  },
  {
   "cell_type": "code",
   "execution_count": 234,
   "metadata": {},
   "outputs": [
    {
     "data": {
      "text/html": [
       "<div>\n",
       "<style scoped>\n",
       "    .dataframe tbody tr th:only-of-type {\n",
       "        vertical-align: middle;\n",
       "    }\n",
       "\n",
       "    .dataframe tbody tr th {\n",
       "        vertical-align: top;\n",
       "    }\n",
       "\n",
       "    .dataframe thead th {\n",
       "        text-align: right;\n",
       "    }\n",
       "</style>\n",
       "<table border=\"1\" class=\"dataframe\">\n",
       "  <thead>\n",
       "    <tr style=\"text-align: right;\">\n",
       "      <th></th>\n",
       "      <th>MinTemp</th>\n",
       "      <th>MaxTemp</th>\n",
       "      <th>Rainfall</th>\n",
       "      <th>Evaporation</th>\n",
       "      <th>Sunshine</th>\n",
       "      <th>WindGustSpeed</th>\n",
       "      <th>WindSpeed</th>\n",
       "      <th>Humidity</th>\n",
       "      <th>Pressure</th>\n",
       "      <th>Cloud</th>\n",
       "      <th>Temp</th>\n",
       "      <th>Locationint</th>\n",
       "      <th>WindGustDirint</th>\n",
       "      <th>WindDirint</th>\n",
       "      <th>RainTodayint</th>\n",
       "      <th>RainTomorrowint</th>\n",
       "    </tr>\n",
       "  </thead>\n",
       "  <tbody>\n",
       "    <tr>\n",
       "      <td>0</td>\n",
       "      <td>18.9</td>\n",
       "      <td>23.7</td>\n",
       "      <td>0.0</td>\n",
       "      <td>5.17757</td>\n",
       "      <td>6.53058</td>\n",
       "      <td>41.0</td>\n",
       "      <td>28.0</td>\n",
       "      <td>55.0</td>\n",
       "      <td>1026.0</td>\n",
       "      <td>7.0</td>\n",
       "      <td>22.4</td>\n",
       "      <td>0</td>\n",
       "      <td>0</td>\n",
       "      <td>0</td>\n",
       "      <td>0</td>\n",
       "      <td>0</td>\n",
       "    </tr>\n",
       "    <tr>\n",
       "      <td>1</td>\n",
       "      <td>11.1</td>\n",
       "      <td>20.8</td>\n",
       "      <td>0.0</td>\n",
       "      <td>4.80000</td>\n",
       "      <td>8.30000</td>\n",
       "      <td>39.0</td>\n",
       "      <td>26.0</td>\n",
       "      <td>48.0</td>\n",
       "      <td>1014.4</td>\n",
       "      <td>7.0</td>\n",
       "      <td>19.5</td>\n",
       "      <td>1</td>\n",
       "      <td>1</td>\n",
       "      <td>1</td>\n",
       "      <td>0</td>\n",
       "      <td>1</td>\n",
       "    </tr>\n",
       "    <tr>\n",
       "      <td>2</td>\n",
       "      <td>15.9</td>\n",
       "      <td>19.5</td>\n",
       "      <td>17.6</td>\n",
       "      <td>5.17757</td>\n",
       "      <td>6.53058</td>\n",
       "      <td>44.0</td>\n",
       "      <td>9.0</td>\n",
       "      <td>99.0</td>\n",
       "      <td>1028.5</td>\n",
       "      <td>7.0</td>\n",
       "      <td>17.8</td>\n",
       "      <td>2</td>\n",
       "      <td>2</td>\n",
       "      <td>2</td>\n",
       "      <td>1</td>\n",
       "      <td>0</td>\n",
       "    </tr>\n",
       "    <tr>\n",
       "      <td>3</td>\n",
       "      <td>0.0</td>\n",
       "      <td>14.9</td>\n",
       "      <td>0.0</td>\n",
       "      <td>5.17757</td>\n",
       "      <td>6.53058</td>\n",
       "      <td>35.0</td>\n",
       "      <td>19.0</td>\n",
       "      <td>55.0</td>\n",
       "      <td>1023.0</td>\n",
       "      <td>4.0</td>\n",
       "      <td>14.2</td>\n",
       "      <td>3</td>\n",
       "      <td>3</td>\n",
       "      <td>3</td>\n",
       "      <td>0</td>\n",
       "      <td>0</td>\n",
       "    </tr>\n",
       "    <tr>\n",
       "      <td>4</td>\n",
       "      <td>9.1</td>\n",
       "      <td>22.7</td>\n",
       "      <td>0.0</td>\n",
       "      <td>5.17757</td>\n",
       "      <td>6.53058</td>\n",
       "      <td>41.0</td>\n",
       "      <td>7.0</td>\n",
       "      <td>40.0</td>\n",
       "      <td>1027.1</td>\n",
       "      <td>7.0</td>\n",
       "      <td>22.5</td>\n",
       "      <td>4</td>\n",
       "      <td>4</td>\n",
       "      <td>4</td>\n",
       "      <td>0</td>\n",
       "      <td>1</td>\n",
       "    </tr>\n",
       "  </tbody>\n",
       "</table>\n",
       "</div>"
      ],
      "text/plain": [
       "   MinTemp  MaxTemp  Rainfall  Evaporation  Sunshine  WindGustSpeed  \\\n",
       "0     18.9     23.7       0.0      5.17757   6.53058           41.0   \n",
       "1     11.1     20.8       0.0      4.80000   8.30000           39.0   \n",
       "2     15.9     19.5      17.6      5.17757   6.53058           44.0   \n",
       "3      0.0     14.9       0.0      5.17757   6.53058           35.0   \n",
       "4      9.1     22.7       0.0      5.17757   6.53058           41.0   \n",
       "\n",
       "   WindSpeed  Humidity  Pressure  Cloud  Temp  Locationint  WindGustDirint  \\\n",
       "0       28.0      55.0    1026.0    7.0  22.4            0               0   \n",
       "1       26.0      48.0    1014.4    7.0  19.5            1               1   \n",
       "2        9.0      99.0    1028.5    7.0  17.8            2               2   \n",
       "3       19.0      55.0    1023.0    4.0  14.2            3               3   \n",
       "4        7.0      40.0    1027.1    7.0  22.5            4               4   \n",
       "\n",
       "   WindDirint  RainTodayint  RainTomorrowint  \n",
       "0           0             0                0  \n",
       "1           1             0                1  \n",
       "2           2             1                0  \n",
       "3           3             0                0  \n",
       "4           4             0                1  "
      ]
     },
     "execution_count": 234,
     "metadata": {},
     "output_type": "execute_result"
    }
   ],
   "source": [
    "tempdf.head(5)"
   ]
  },
  {
   "cell_type": "code",
   "execution_count": 238,
   "metadata": {},
   "outputs": [],
   "source": [
    "x=tempdf.drop([\"RainTomorrowint\"],axis=1)"
   ]
  },
  {
   "cell_type": "code",
   "execution_count": 239,
   "metadata": {},
   "outputs": [],
   "source": [
    "y=tempdf.RainTomorrowint"
   ]
  },
  {
   "cell_type": "code",
   "execution_count": 240,
   "metadata": {},
   "outputs": [],
   "source": [
    "clf=DecisionTreeClassifier()"
   ]
  },
  {
   "cell_type": "code",
   "execution_count": 242,
   "metadata": {},
   "outputs": [
    {
     "name": "stdout",
     "output_type": "stream",
     "text": [
      "train data size is (36384, 15)\n"
     ]
    }
   ],
   "source": [
    "x_train, x_test, y_train, y_test = train_test_split(x, y, test_size=0.3, random_state=1)\n",
    "print(f\"train data size is {x_train.shape}\")"
   ]
  },
  {
   "cell_type": "code",
   "execution_count": 243,
   "metadata": {},
   "outputs": [
    {
     "data": {
      "text/plain": [
       "DecisionTreeClassifier(class_weight=None, criterion='gini', max_depth=None,\n",
       "                       max_features=None, max_leaf_nodes=None,\n",
       "                       min_impurity_decrease=0.0, min_impurity_split=None,\n",
       "                       min_samples_leaf=1, min_samples_split=2,\n",
       "                       min_weight_fraction_leaf=0.0, presort=False,\n",
       "                       random_state=None, splitter='best')"
      ]
     },
     "execution_count": 243,
     "metadata": {},
     "output_type": "execute_result"
    }
   ],
   "source": [
    "clf.fit(x_train, y_train)"
   ]
  },
  {
   "cell_type": "code",
   "execution_count": 244,
   "metadata": {},
   "outputs": [
    {
     "data": {
      "text/plain": [
       "44"
      ]
     },
     "execution_count": 244,
     "metadata": {},
     "output_type": "execute_result"
    }
   ],
   "source": [
    "y_pred = clf.predict(x_test)\n",
    "clf.tree_.max_depth"
   ]
  },
  {
   "cell_type": "code",
   "execution_count": 245,
   "metadata": {},
   "outputs": [
    {
     "name": "stdout",
     "output_type": "stream",
     "text": [
      "Accuracy: 71.0%\n"
     ]
    }
   ],
   "source": [
    "print(f\"Accuracy: {round(metrics.accuracy_score(y_test, y_pred)*100)}%\")"
   ]
  },
  {
   "cell_type": "code",
   "execution_count": 247,
   "metadata": {},
   "outputs": [
    {
     "data": {
      "text/plain": [
       "GridSearchCV(cv=10, error_score='raise-deprecating',\n",
       "             estimator=DecisionTreeClassifier(class_weight=None,\n",
       "                                              criterion='gini', max_depth=None,\n",
       "                                              max_features=None,\n",
       "                                              max_leaf_nodes=None,\n",
       "                                              min_impurity_decrease=0.0,\n",
       "                                              min_impurity_split=None,\n",
       "                                              min_samples_leaf=1,\n",
       "                                              min_samples_split=2,\n",
       "                                              min_weight_fraction_leaf=0.0,\n",
       "                                              presort=False, random_state=None,\n",
       "                                              splitter='best'),\n",
       "             iid='warn', n_jobs=None,\n",
       "             param_grid={'criterion': ['gini', 'entropy'],\n",
       "                         'max_depth': [5, 10, 20, 25, 30],\n",
       "                         'max_leaf_nodes': [2, 5, 10, 20],\n",
       "                         'min_samples_leaf': [1, 5, 10],\n",
       "                         'min_samples_split': [2, 10, 20]},\n",
       "             pre_dispatch='2*n_jobs', refit=True, return_train_score=False,\n",
       "             scoring='accuracy', verbose=0)"
      ]
     },
     "execution_count": 247,
     "metadata": {},
     "output_type": "execute_result"
    }
   ],
   "source": [
    "param_grid = {'criterion': ['gini', 'entropy'],\n",
    "              'min_samples_split': [2, 10, 20],\n",
    "              'max_depth': [5, 10, 20, 25, 30],\n",
    "              'min_samples_leaf': [1, 5, 10],\n",
    "              'max_leaf_nodes': [2, 5, 10, 20]}\n",
    "grid = GridSearchCV(clf, param_grid, cv=10, scoring='accuracy')\n",
    "grid.fit(x_train, y_train)"
   ]
  },
  {
   "cell_type": "code",
   "execution_count": 248,
   "metadata": {},
   "outputs": [
    {
     "name": "stdout",
     "output_type": "stream",
     "text": [
      "0.7579705364995603\n"
     ]
    }
   ],
   "source": [
    "print(grid.best_score_)"
   ]
  },
  {
   "cell_type": "code",
   "execution_count": 249,
   "metadata": {},
   "outputs": [
    {
     "name": "stdout",
     "output_type": "stream",
     "text": [
      "criterion: entropy\n",
      "max_depth: 10\n",
      "max_leaf_nodes: 20\n",
      "min_samples_leaf: 1\n",
      "min_samples_split: 2\n"
     ]
    }
   ],
   "source": [
    "for hps, values in grid.best_params_.items():\n",
    "  print(f\"{hps}: {values}\")"
   ]
  },
  {
   "cell_type": "code",
   "execution_count": 254,
   "metadata": {},
   "outputs": [
    {
     "data": {
      "text/plain": [
       "DecisionTreeClassifier(class_weight=None, criterion='gini', max_depth=None,\n",
       "                       max_features=None, max_leaf_nodes=None,\n",
       "                       min_impurity_decrease=0.0, min_impurity_split=None,\n",
       "                       min_samples_leaf=1, min_samples_split=2,\n",
       "                       min_weight_fraction_leaf=0.0, presort=False,\n",
       "                       random_state=None, splitter='best')"
      ]
     },
     "execution_count": 254,
     "metadata": {},
     "output_type": "execute_result"
    }
   ],
   "source": [
    "num_vars = tempdf.select_dtypes(['int64', 'float64']).columns\n",
    "x = tempdf[num_vars]\n",
    "x=tempdf.drop([\"RainTomorrowint\"],axis=1)\n",
    "y = tempdf.RainTomorrowint\n",
    "x_train, x_test, y_train, y_test = train_test_split(x, y, test_size=0.3, random_state=16)\n",
    "\n",
    "clf = DecisionTreeClassifier()\n",
    "clf.fit(x_train, y_train)"
   ]
  },
  {
   "cell_type": "code",
   "execution_count": 255,
   "metadata": {},
   "outputs": [],
   "source": [
    "y_pred = clf.predict(x_test)"
   ]
  },
  {
   "cell_type": "markdown",
   "metadata": {},
   "source": [
    "# Performance Reporting"
   ]
  },
  {
   "cell_type": "code",
   "execution_count": 256,
   "metadata": {},
   "outputs": [
    {
     "name": "stdout",
     "output_type": "stream",
     "text": [
      "Accuracy: 71.28%\n"
     ]
    }
   ],
   "source": [
    "print(f\"Accuracy: {round(metrics.accuracy_score(y_test, y_pred)*100, 2)}%\")"
   ]
  },
  {
   "cell_type": "code",
   "execution_count": 257,
   "metadata": {},
   "outputs": [
    {
     "data": {
      "text/html": [
       "<div>\n",
       "<style scoped>\n",
       "    .dataframe tbody tr th:only-of-type {\n",
       "        vertical-align: middle;\n",
       "    }\n",
       "\n",
       "    .dataframe tbody tr th {\n",
       "        vertical-align: top;\n",
       "    }\n",
       "\n",
       "    .dataframe thead th {\n",
       "        text-align: right;\n",
       "    }\n",
       "</style>\n",
       "<table border=\"1\" class=\"dataframe\">\n",
       "  <thead>\n",
       "    <tr style=\"text-align: right;\">\n",
       "      <th>Pred</th>\n",
       "      <th>0</th>\n",
       "      <th>1</th>\n",
       "    </tr>\n",
       "    <tr>\n",
       "      <th>RainTomorrowint</th>\n",
       "      <th></th>\n",
       "      <th></th>\n",
       "    </tr>\n",
       "  </thead>\n",
       "  <tbody>\n",
       "    <tr>\n",
       "      <td>0</td>\n",
       "      <td>5421</td>\n",
       "      <td>2270</td>\n",
       "    </tr>\n",
       "    <tr>\n",
       "      <td>1</td>\n",
       "      <td>2209</td>\n",
       "      <td>5694</td>\n",
       "    </tr>\n",
       "  </tbody>\n",
       "</table>\n",
       "</div>"
      ],
      "text/plain": [
       "Pred                0     1\n",
       "RainTomorrowint            \n",
       "0                5421  2270\n",
       "1                2209  5694"
      ]
     },
     "execution_count": 257,
     "metadata": {},
     "output_type": "execute_result"
    }
   ],
   "source": [
    "df_confusion = pd.crosstab(y_test, y_pred)\n",
    "df_confusion.columns.name = \"Pred\"\n",
    "df_confusion"
   ]
  },
  {
   "cell_type": "code",
   "execution_count": 258,
   "metadata": {},
   "outputs": [
    {
     "name": "stdout",
     "output_type": "stream",
     "text": [
      "              precision    recall  f1-score   support\n",
      "\n",
      "           0       0.71      0.70      0.71      7691\n",
      "           1       0.71      0.72      0.72      7903\n",
      "\n",
      "    accuracy                           0.71     15594\n",
      "   macro avg       0.71      0.71      0.71     15594\n",
      "weighted avg       0.71      0.71      0.71     15594\n",
      "\n"
     ]
    }
   ],
   "source": [
    "print(metrics.classification_report(y_test, y_pred))"
   ]
  },
  {
   "cell_type": "code",
   "execution_count": 260,
   "metadata": {},
   "outputs": [
    {
     "data": {
      "text/plain": [
       "GridSearchCV(cv=5, error_score='raise-deprecating',\n",
       "             estimator=DecisionTreeClassifier(class_weight=None,\n",
       "                                              criterion='gini', max_depth=None,\n",
       "                                              max_features=None,\n",
       "                                              max_leaf_nodes=None,\n",
       "                                              min_impurity_decrease=0.0,\n",
       "                                              min_impurity_split=None,\n",
       "                                              min_samples_leaf=1,\n",
       "                                              min_samples_split=2,\n",
       "                                              min_weight_fraction_leaf=0.0,\n",
       "                                              presort=False, random_state=None,\n",
       "                                              splitter='best'),\n",
       "             iid='warn', n_jobs=None,\n",
       "             param_grid={'criterion': ['gini', 'entropy'],\n",
       "                         'max_depth': [4, 5, 6, 10, 15, 20],\n",
       "                         'max_leaf_nodes': [2, 5, 10, 20],\n",
       "                         'min_samples_leaf': [1, 5, 10],\n",
       "                         'min_samples_split': [2, 10, 20, 30]},\n",
       "             pre_dispatch='2*n_jobs', refit=True, return_train_score=False,\n",
       "             scoring=None, verbose=0)"
      ]
     },
     "execution_count": 260,
     "metadata": {},
     "output_type": "execute_result"
    }
   ],
   "source": [
    "param_grid = {'criterion': ['gini', 'entropy'],\n",
    "              'min_samples_split': [2, 10, 20, 30],\n",
    "              'max_depth': [4, 5, 6, 10, 15, 20],\n",
    "              'min_samples_leaf': [ 1, 5, 10],\n",
    "              'max_leaf_nodes': [2, 5, 10, 20]}\n",
    "grid = GridSearchCV(clf, param_grid, cv=5)\n",
    "grid.fit(x_train, y_train)"
   ]
  },
  {
   "cell_type": "code",
   "execution_count": 261,
   "metadata": {},
   "outputs": [
    {
     "data": {
      "text/plain": [
       "GridSearchCV(cv=ShuffleSplit(n_splits=10, random_state=16, test_size=0.3, train_size=None),\n",
       "             error_score='raise-deprecating',\n",
       "             estimator=DecisionTreeClassifier(class_weight=None,\n",
       "                                              criterion='gini', max_depth=None,\n",
       "                                              max_features=None,\n",
       "                                              max_leaf_nodes=None,\n",
       "                                              min_impurity_decrease=0.0,\n",
       "                                              min_impurity_split=None,\n",
       "                                              min_samples_leaf=1,\n",
       "                                              min_samples_split=2,\n",
       "                                              min_weight_fraction_leaf=0.0,\n",
       "                                              presort=False, random_state=None,\n",
       "                                              splitter='best'),\n",
       "             iid='warn', n_jobs=None,\n",
       "             param_grid={'criterion': ['gini', 'entropy'],\n",
       "                         'max_depth': [4, 5, 6, 10, 15, 20],\n",
       "                         'max_leaf_nodes': [2, 5, 10, 20],\n",
       "                         'min_samples_leaf': [1, 5, 10],\n",
       "                         'min_samples_split': [2, 10, 20, 30]},\n",
       "             pre_dispatch='2*n_jobs', refit=True, return_train_score=False,\n",
       "             scoring=None, verbose=0)"
      ]
     },
     "execution_count": 261,
     "metadata": {},
     "output_type": "execute_result"
    }
   ],
   "source": [
    "bstrap = ShuffleSplit(n_splits=10, test_size=0.3, random_state=16)\n",
    "grid_bstrap = GridSearchCV(clf, param_grid, cv=bstrap)\n",
    "grid_bstrap.fit(x_train, y_train)"
   ]
  },
  {
   "cell_type": "markdown",
   "metadata": {},
   "source": [
    "# Hyperparameters for Best Performing Model"
   ]
  },
  {
   "cell_type": "code",
   "execution_count": 262,
   "metadata": {},
   "outputs": [
    {
     "name": "stdout",
     "output_type": "stream",
     "text": [
      "Accuracy: 75.8%\n"
     ]
    }
   ],
   "source": [
    "print(f\"Accuracy: {round(grid_bstrap.best_score_*100, 2)}%\")"
   ]
  },
  {
   "cell_type": "code",
   "execution_count": 263,
   "metadata": {},
   "outputs": [
    {
     "name": "stdout",
     "output_type": "stream",
     "text": [
      "Hyperparameter: criterion; Value: gini\n",
      "Hyperparameter: max_depth; Value: 5\n",
      "Hyperparameter: max_leaf_nodes; Value: 20\n",
      "Hyperparameter: min_samples_leaf; Value: 1\n",
      "Hyperparameter: min_samples_split; Value: 2\n"
     ]
    }
   ],
   "source": [
    "for key, value in grid_bstrap.best_params_.items():\n",
    "  print(f\"Hyperparameter: {key}; Value: {value}\")"
   ]
  },
  {
   "cell_type": "markdown",
   "metadata": {},
   "source": [
    "# Leave One Out Method"
   ]
  },
  {
   "cell_type": "code",
   "execution_count": null,
   "metadata": {},
   "outputs": [],
   "source": [
    "loocv = LeaveOneOut()\n",
    "lv_score = cross_val_score(clf, x, y, cv=loocv)\n",
    "lv_score.mean()"
   ]
  }
 ],
 "metadata": {
  "kernelspec": {
   "display_name": "Python 3",
   "language": "python",
   "name": "python3"
  },
  "language_info": {
   "codemirror_mode": {
    "name": "ipython",
    "version": 3
   },
   "file_extension": ".py",
   "mimetype": "text/x-python",
   "name": "python",
   "nbconvert_exporter": "python",
   "pygments_lexer": "ipython3",
   "version": "3.7.4"
  }
 },
 "nbformat": 4,
 "nbformat_minor": 2
}
