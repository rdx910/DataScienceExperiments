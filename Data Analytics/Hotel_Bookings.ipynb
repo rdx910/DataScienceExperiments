{
  "nbformat": 4,
  "nbformat_minor": 0,
  "metadata": {
    "colab": {
      "name": "DA_PROJECT_TEAM_9.ipynb",
      "provenance": [],
      "collapsed_sections": [
        "2DDbCTnv4akB"
      ],
      "toc_visible": true
    },
    "kernelspec": {
      "name": "python3",
      "display_name": "Python 3"
    }
  },
  "cells": [
    {
      "cell_type": "markdown",
      "metadata": {
        "id": "8GF4eJ054R0o",
        "colab_type": "text"
      },
      "source": [
        "# Data Analytics Project#\n",
        "## Team 9 <br>\n",
        "## Akshay Bhala<br>\n",
        "## Juilee Salunkhe<br>\n",
        "## Raj Desai"
      ]
    },
    {
      "cell_type": "markdown",
      "metadata": {
        "id": "2DDbCTnv4akB",
        "colab_type": "text"
      },
      "source": [
        ">### Introduction:\n",
        "Subject area is Hospitality and Revenue Management demand forecasting.\n",
        "<br>\n",
        "About Data: <br>\n",
        "Data is about two hotels.One of the hotels is a resort hotel and the other is a city hotel. The structure of the dataset is with 32 variables describing the 119390 observations. Each observation represents a hotel or resort booking. Both datasets comprehend bookings due to arrive between the 1st of July of 2015 and the 31st of August 2017, including bookings that effectively arrived and bookings that were canceled. \n",
        "Project aims to do the following:\n",
        "1. Descriptive analytics to further understand patterns, trends, and anomalies in data.\n",
        "2. To understand and analyse bookings cancellations, customer segmentation, customer satiation, seasonality, etc.\n",
        "3. One of our project goals is aiming at the development of prediction models to classify a hotel booking׳s likelihood to be canceled.\n",
        "4. Evaluate the performance of various models and select best two models for tuning process.\n"
      ]
    },
    {
      "cell_type": "code",
      "metadata": {
        "id": "5APR9DsZDDsh",
        "colab_type": "code",
        "colab": {}
      },
      "source": [
        "import numpy as np\n",
        "import pandas as pd\n",
        "import pickle\n",
        "import matplotlib.pyplot as plt\n",
        "import seaborn as sns\n",
        "import plotly.express as px\n",
        "from scipy import stats\n",
        "import statsmodels.api as sm\n",
        "from sklearn import datasets, linear_model\n",
        "from sklearn.linear_model import LogisticRegression\n",
        "from scipy import stats\n",
        "from sklearn.model_selection import train_test_split\n",
        "from sklearn.metrics import classification_report,confusion_matrix\n",
        "from sklearn.metrics import roc_curve\n",
        "from sklearn.metrics import roc_auc_score\n",
        "from matplotlib import pyplot\n",
        "from sklearn.model_selection import GridSearchCV"
      ],
      "execution_count": 0,
      "outputs": []
    },
    {
      "cell_type": "markdown",
      "metadata": {
        "id": "aKrUfGp9B2l_",
        "colab_type": "text"
      },
      "source": [
        "## Data Cleaning"
      ]
    },
    {
      "cell_type": "code",
      "metadata": {
        "id": "REiiNsV3DdVW",
        "colab_type": "code",
        "colab": {}
      },
      "source": [
        "df = pd.read_csv('hotel_bookings.csv')"
      ],
      "execution_count": 0,
      "outputs": []
    },
    {
      "cell_type": "markdown",
      "metadata": {
        "id": "iZfz_1796Ljp",
        "colab_type": "text"
      },
      "source": [
        ">### **Finding Data Quality Issues:**\n",
        "1. **Checking for Null, NA, NaN values**.<br>\n",
        "In some categorical variables like Agent or Company, “NULL” is presented as one of the categories. This should not be considered a missing value, but rather as “not applicable”. For example, if a booking “Agent” is defined as “NULL” it means that the booking did not came from a travel agent.!\n"
      ]
    },
    {
      "cell_type": "code",
      "metadata": {
        "id": "2fK19j9EDrJw",
        "colab_type": "code",
        "outputId": "d545f1ee-a0c9-408b-f4c0-0fe961218113",
        "colab": {
          "base_uri": "https://localhost:8080/",
          "height": 595
        }
      },
      "source": [
        "print(\"# of NULL in each columns:\", df.isnull().sum(), sep='\\n')"
      ],
      "execution_count": 0,
      "outputs": [
        {
          "output_type": "stream",
          "text": [
            "# of NULL in each columns:\n",
            "hotel                                  0\n",
            "is_canceled                            0\n",
            "lead_time                              0\n",
            "arrival_date_year                      0\n",
            "arrival_date_month                     0\n",
            "arrival_date_week_number               0\n",
            "arrival_date_day_of_month              0\n",
            "stays_in_weekend_nights                0\n",
            "stays_in_week_nights                   0\n",
            "adults                                 0\n",
            "children                               4\n",
            "babies                                 0\n",
            "meal                                   0\n",
            "country                              488\n",
            "market_segment                         0\n",
            "distribution_channel                   0\n",
            "is_repeated_guest                      0\n",
            "previous_cancellations                 0\n",
            "previous_bookings_not_canceled         0\n",
            "reserved_room_type                     0\n",
            "assigned_room_type                     0\n",
            "booking_changes                        0\n",
            "deposit_type                           0\n",
            "agent                              16340\n",
            "company                           112593\n",
            "days_in_waiting_list                   0\n",
            "customer_type                          0\n",
            "adr                                    0\n",
            "required_car_parking_spaces            0\n",
            "total_of_special_requests              0\n",
            "reservation_status                     0\n",
            "reservation_status_date                0\n",
            "dtype: int64\n"
          ],
          "name": "stdout"
        }
      ]
    },
    {
      "cell_type": "code",
      "metadata": {
        "id": "uzdHmu1T9ZDK",
        "colab_type": "code",
        "outputId": "1ee2cf8e-1a9d-4007-83e1-d1b34b6339c0",
        "colab": {
          "base_uri": "https://localhost:8080/",
          "height": 102
        }
      },
      "source": [
        "#function to compute percentage of missing values in columns\n",
        "def missing_values(x, y):\n",
        "    percentage = y.isnull().sum() / len(x) * 100\n",
        "    return percentage\n",
        "print('Missing value ratios:\\nCompany: {}\\nAgent: {}\\nCountry: {}\\nchildren: {}'.format(missing_values(df, df['company']),\n",
        "                                                                                   missing_values(df, df['agent']),\n",
        "                                                                                   missing_values(df, df['country']),\n",
        "                                                                                   missing_values(df, df['children'])))"
      ],
      "execution_count": 0,
      "outputs": [
        {
          "output_type": "stream",
          "text": [
            "Missing value ratios:\n",
            "Company: 94.30689337465449\n",
            "Agent: 13.686238378423655\n",
            "Country: 0.40874445095904177\n",
            "children: 0.003350364352123293\n"
          ],
          "name": "stdout"
        }
      ]
    },
    {
      "cell_type": "markdown",
      "metadata": {
        "id": "IYmZE_7J9gKO",
        "colab_type": "text"
      },
      "source": [
        "**1. Children:**<br> For children variable, there are only 4 NULL entries and having NULL entries can be same as having no child or 0 children altogether. \n",
        "Therefore, substituting 0 in place of NULL entries."
      ]
    },
    {
      "cell_type": "code",
      "metadata": {
        "id": "JAU1z_tb93Ku",
        "colab_type": "code",
        "colab": {}
      },
      "source": [
        "df['children'].fillna(0,inplace=True,limit=4)"
      ],
      "execution_count": 0,
      "outputs": []
    },
    {
      "cell_type": "markdown",
      "metadata": {
        "id": "I8-fMdrJ977P",
        "colab_type": "text"
      },
      "source": [
        "**2.** **For Agent variable**: <br>\n",
        "Since for direct bookings there are no agents required,NULL values can be values corresponding to Direct bookings. Since 13.68% of the data in agent column is NULL , values can't be deleted or not taken into consideration as it can be important for prediction. Therefore, we will substitute an ID ['000'] (for the prediction convenience, so that even this data can be used for it)."
      ]
    },
    {
      "cell_type": "code",
      "metadata": {
        "id": "FeDffuio99pQ",
        "colab_type": "code",
        "outputId": "25461a9d-6c64-4648-f897-cec02175645f",
        "colab": {
          "base_uri": "https://localhost:8080/",
          "height": 187
        }
      },
      "source": [
        "p = len(df[(df.market_segment == 'Direct') & (df.agent.isnull())])\n",
        "q = len(df[(df.market_segment == 'Corporate') & (df.agent.isnull())])\n",
        "r = len(df[(df.market_segment == 'Offline TA/TO') & (df.agent.isnull())])\n",
        "s = len(df[(df.market_segment == 'Online TA') & (df.agent.isnull())])\n",
        "t = len(df[(df.market_segment == 'Aviation') & (df.agent.isnull())])\n",
        "u = len(df[(df.market_segment == 'Complementary') & (df.agent.isnull())])\n",
        "v = len(df[(df.market_segment == 'Groups') & (df.agent.isnull())])\n",
        "w = len(df[(df.market_segment == 'Undefined') & (df.agent.isnull())])\n",
        "print('Missing value ratios:\\nDirect: {}\\nCorporate: {}\\nOffline TA/TO: {}\\nOnline TA: {}\\nAviation: {}\\nComplementary: {}\\nGroups: {}\\nUndefined: {}'.format(p,q,r,s,t,u,v,w))\n",
        "print('Total missing values in agent:{}'.format(q+r+s+t+u+v+w))"
      ],
      "execution_count": 0,
      "outputs": [
        {
          "output_type": "stream",
          "text": [
            "Missing value ratios:\n",
            "Direct: 6007\n",
            "Corporate: 4594\n",
            "Offline TA/TO: 389\n",
            "Online TA: 348\n",
            "Aviation: 212\n",
            "Complementary: 640\n",
            "Groups: 4148\n",
            "Undefined: 2\n",
            "Total missing values in agent:10333\n"
          ],
          "name": "stdout"
        }
      ]
    },
    {
      "cell_type": "code",
      "metadata": {
        "id": "Iubhws_x-Gya",
        "colab_type": "code",
        "colab": {}
      },
      "source": [
        "#substituting agent ID as 0 for Direct Bookings.\n",
        "df.loc[df['market_segment'] == 'Direct', 'agent'] = 0"
      ],
      "execution_count": 0,
      "outputs": []
    },
    {
      "cell_type": "markdown",
      "metadata": {
        "id": "9ZAluYBu-Ni7",
        "colab_type": "text"
      },
      "source": [
        "10333 values are NULL which do not correspond to Direct bookings. Mode can be taken of the IDs and used for substitution since very less percentage of Null values are being substituted."
      ]
    },
    {
      "cell_type": "code",
      "metadata": {
        "id": "mC60v9Gf-Tb7",
        "colab_type": "code",
        "outputId": "cd7840a1-4fc8-4d68-9fc3-aee20edf991e",
        "colab": {
          "base_uri": "https://localhost:8080/",
          "height": 34
        }
      },
      "source": [
        "mode_agent = df['agent'].mode()\n",
        "df.loc[df['agent'].isnull(), 'agent'] = 9.0\n",
        "df['agent'].isnull().sum()"
      ],
      "execution_count": 0,
      "outputs": [
        {
          "output_type": "execute_result",
          "data": {
            "text/plain": [
              "0"
            ]
          },
          "metadata": {
            "tags": []
          },
          "execution_count": 9
        }
      ]
    },
    {
      "cell_type": "markdown",
      "metadata": {
        "id": "Pb730A9k-bcc",
        "colab_type": "text"
      },
      "source": [
        "**4.** **For Company Variable:**  <br>\n",
        "As observed, 94.3% of company column are missing values. Therefore there are less values for the imputation process. The best option is to drop company column."
      ]
    },
    {
      "cell_type": "code",
      "metadata": {
        "id": "vLqT4ZET-xEc",
        "colab_type": "code",
        "colab": {}
      },
      "source": [
        " # company is dropped\n",
        "df = df.drop(['company'], axis = 1)"
      ],
      "execution_count": 0,
      "outputs": []
    },
    {
      "cell_type": "markdown",
      "metadata": {
        "id": "MNgXTKeR-0TG",
        "colab_type": "text"
      },
      "source": [
        "**3. For Country variable:** <br>\n",
        "There are 488 NULL values for \"Country\" variable: It is also common for hotels not to know the correct nationality of the customer until the moment of check-in. So if they have cancelled at the last moment it is possible to have null values for those observations.Let us check if that is so.Check whether booking was cancelled or not?"
      ]
    },
    {
      "cell_type": "code",
      "metadata": {
        "id": "20K-aBAh-gmn",
        "colab_type": "code",
        "outputId": "b5cf4f04-e483-4969-b96a-8eaa8f157793",
        "colab": {
          "base_uri": "https://localhost:8080/",
          "height": 34
        }
      },
      "source": [
        "null_data = df[df['country'].isnull()]\n",
        "len(null_data[null_data['is_canceled']==1].index.tolist())"
      ],
      "execution_count": 0,
      "outputs": [
        {
          "output_type": "execute_result",
          "data": {
            "text/plain": [
              "67"
            ]
          },
          "metadata": {
            "tags": []
          },
          "execution_count": 11
        }
      ]
    },
    {
      "cell_type": "markdown",
      "metadata": {
        "id": "Rv71_AQl-k_y",
        "colab_type": "text"
      },
      "source": [
        "Only 67 out of 488 null values from country variable have status as cancelled.So apparently there is no relation between cancellations and null entries in the country variable."
      ]
    },
    {
      "cell_type": "code",
      "metadata": {
        "id": "nQsbJOA2M5xy",
        "colab_type": "code",
        "colab": {}
      },
      "source": [
        "df=df.dropna()"
      ],
      "execution_count": 0,
      "outputs": []
    },
    {
      "cell_type": "markdown",
      "metadata": {
        "id": "-ExZyuMsZuEW",
        "colab_type": "text"
      },
      "source": [
        "confirming no null values present"
      ]
    },
    {
      "cell_type": "code",
      "metadata": {
        "id": "T_9oE1IiZraQ",
        "colab_type": "code",
        "outputId": "aa5cacb5-8e59-42eb-c228-8346c96657b3",
        "colab": {
          "base_uri": "https://localhost:8080/",
          "height": 578
        }
      },
      "source": [
        "print(\"# of NULL in each columns:\", df.isnull().sum(), sep='\\n')"
      ],
      "execution_count": 0,
      "outputs": [
        {
          "output_type": "stream",
          "text": [
            "# of NULL in each columns:\n",
            "hotel                             0\n",
            "is_canceled                       0\n",
            "lead_time                         0\n",
            "arrival_date_year                 0\n",
            "arrival_date_month                0\n",
            "arrival_date_week_number          0\n",
            "arrival_date_day_of_month         0\n",
            "stays_in_weekend_nights           0\n",
            "stays_in_week_nights              0\n",
            "adults                            0\n",
            "children                          0\n",
            "babies                            0\n",
            "meal                              0\n",
            "country                           0\n",
            "market_segment                    0\n",
            "distribution_channel              0\n",
            "is_repeated_guest                 0\n",
            "previous_cancellations            0\n",
            "previous_bookings_not_canceled    0\n",
            "reserved_room_type                0\n",
            "assigned_room_type                0\n",
            "booking_changes                   0\n",
            "deposit_type                      0\n",
            "agent                             0\n",
            "days_in_waiting_list              0\n",
            "customer_type                     0\n",
            "adr                               0\n",
            "required_car_parking_spaces       0\n",
            "total_of_special_requests         0\n",
            "reservation_status                0\n",
            "reservation_status_date           0\n",
            "dtype: int64\n"
          ],
          "name": "stdout"
        }
      ]
    },
    {
      "cell_type": "markdown",
      "metadata": {
        "id": "SwdQ2wrRB_nG",
        "colab_type": "text"
      },
      "source": [
        "## EDA"
      ]
    },
    {
      "cell_type": "markdown",
      "metadata": {
        "id": "YB2BWPnk-_rg",
        "colab_type": "text"
      },
      "source": [
        ">### **Exploratory Data Analysis:**<br>\n",
        "**1.** **Customer Segmentation** <br>\n",
        "**2.** **Customer Satiation** <br>\n",
        "**3.** **Seasonality** <br>\n",
        "<br>\n",
        "Will perform univariate, bi-variate and multivariate analysis."
      ]
    },
    {
      "cell_type": "markdown",
      "metadata": {
        "id": "FvibC4zvAdiP",
        "colab_type": "text"
      },
      "source": [
        "1.   Descriptive Statistics <br>\n",
        "Univariate basically tells us how data in each feature is distributed and also tells us about central tendencies like mean, median, and mode."
      ]
    },
    {
      "cell_type": "code",
      "metadata": {
        "id": "6vbV79eKG2AQ",
        "colab_type": "code",
        "outputId": "53a25b36-b272-4581-f36c-979ac2c78dba",
        "colab": {
          "base_uri": "https://localhost:8080/",
          "height": 317
        }
      },
      "source": [
        "df.describe()"
      ],
      "execution_count": 0,
      "outputs": [
        {
          "output_type": "execute_result",
          "data": {
            "text/html": [
              "<div>\n",
              "<style scoped>\n",
              "    .dataframe tbody tr th:only-of-type {\n",
              "        vertical-align: middle;\n",
              "    }\n",
              "\n",
              "    .dataframe tbody tr th {\n",
              "        vertical-align: top;\n",
              "    }\n",
              "\n",
              "    .dataframe thead th {\n",
              "        text-align: right;\n",
              "    }\n",
              "</style>\n",
              "<table border=\"1\" class=\"dataframe\">\n",
              "  <thead>\n",
              "    <tr style=\"text-align: right;\">\n",
              "      <th></th>\n",
              "      <th>is_canceled</th>\n",
              "      <th>lead_time</th>\n",
              "      <th>arrival_date_year</th>\n",
              "      <th>arrival_date_week_number</th>\n",
              "      <th>arrival_date_day_of_month</th>\n",
              "      <th>stays_in_weekend_nights</th>\n",
              "      <th>stays_in_week_nights</th>\n",
              "      <th>adults</th>\n",
              "      <th>children</th>\n",
              "      <th>babies</th>\n",
              "      <th>is_repeated_guest</th>\n",
              "      <th>previous_cancellations</th>\n",
              "      <th>previous_bookings_not_canceled</th>\n",
              "      <th>booking_changes</th>\n",
              "      <th>agent</th>\n",
              "      <th>days_in_waiting_list</th>\n",
              "      <th>adr</th>\n",
              "      <th>required_car_parking_spaces</th>\n",
              "      <th>total_of_special_requests</th>\n",
              "    </tr>\n",
              "  </thead>\n",
              "  <tbody>\n",
              "    <tr>\n",
              "      <th>count</th>\n",
              "      <td>118902.000000</td>\n",
              "      <td>118902.000000</td>\n",
              "      <td>118902.000000</td>\n",
              "      <td>118902.000000</td>\n",
              "      <td>118902.000000</td>\n",
              "      <td>118902.000000</td>\n",
              "      <td>118902.000000</td>\n",
              "      <td>118902.000000</td>\n",
              "      <td>118902.000000</td>\n",
              "      <td>118902.000000</td>\n",
              "      <td>118902.000000</td>\n",
              "      <td>118902.000000</td>\n",
              "      <td>118902.000000</td>\n",
              "      <td>118902.000000</td>\n",
              "      <td>118902.000000</td>\n",
              "      <td>118902.000000</td>\n",
              "      <td>118902.000000</td>\n",
              "      <td>118902.000000</td>\n",
              "      <td>118902.000000</td>\n",
              "    </tr>\n",
              "    <tr>\n",
              "      <th>mean</th>\n",
              "      <td>0.371373</td>\n",
              "      <td>104.308027</td>\n",
              "      <td>2016.157617</td>\n",
              "      <td>27.166726</td>\n",
              "      <td>15.800567</td>\n",
              "      <td>0.928891</td>\n",
              "      <td>2.502136</td>\n",
              "      <td>1.858404</td>\n",
              "      <td>0.104203</td>\n",
              "      <td>0.007948</td>\n",
              "      <td>0.032010</td>\n",
              "      <td>0.087139</td>\n",
              "      <td>0.131629</td>\n",
              "      <td>0.221174</td>\n",
              "      <td>69.097635</td>\n",
              "      <td>2.330676</td>\n",
              "      <td>102.000808</td>\n",
              "      <td>0.061883</td>\n",
              "      <td>0.571706</td>\n",
              "    </tr>\n",
              "    <tr>\n",
              "      <th>std</th>\n",
              "      <td>0.483174</td>\n",
              "      <td>106.903127</td>\n",
              "      <td>0.707479</td>\n",
              "      <td>13.589774</td>\n",
              "      <td>8.780371</td>\n",
              "      <td>0.996211</td>\n",
              "      <td>1.900165</td>\n",
              "      <td>0.578576</td>\n",
              "      <td>0.399166</td>\n",
              "      <td>0.097379</td>\n",
              "      <td>0.176026</td>\n",
              "      <td>0.845855</td>\n",
              "      <td>1.484647</td>\n",
              "      <td>0.652775</td>\n",
              "      <td>103.832987</td>\n",
              "      <td>17.630161</td>\n",
              "      <td>50.487004</td>\n",
              "      <td>0.244168</td>\n",
              "      <td>0.792678</td>\n",
              "    </tr>\n",
              "    <tr>\n",
              "      <th>min</th>\n",
              "      <td>0.000000</td>\n",
              "      <td>0.000000</td>\n",
              "      <td>2015.000000</td>\n",
              "      <td>1.000000</td>\n",
              "      <td>1.000000</td>\n",
              "      <td>0.000000</td>\n",
              "      <td>0.000000</td>\n",
              "      <td>0.000000</td>\n",
              "      <td>0.000000</td>\n",
              "      <td>0.000000</td>\n",
              "      <td>0.000000</td>\n",
              "      <td>0.000000</td>\n",
              "      <td>0.000000</td>\n",
              "      <td>0.000000</td>\n",
              "      <td>0.000000</td>\n",
              "      <td>0.000000</td>\n",
              "      <td>-6.380000</td>\n",
              "      <td>0.000000</td>\n",
              "      <td>0.000000</td>\n",
              "    </tr>\n",
              "    <tr>\n",
              "      <th>25%</th>\n",
              "      <td>0.000000</td>\n",
              "      <td>18.000000</td>\n",
              "      <td>2016.000000</td>\n",
              "      <td>16.000000</td>\n",
              "      <td>8.000000</td>\n",
              "      <td>0.000000</td>\n",
              "      <td>1.000000</td>\n",
              "      <td>2.000000</td>\n",
              "      <td>0.000000</td>\n",
              "      <td>0.000000</td>\n",
              "      <td>0.000000</td>\n",
              "      <td>0.000000</td>\n",
              "      <td>0.000000</td>\n",
              "      <td>0.000000</td>\n",
              "      <td>8.000000</td>\n",
              "      <td>0.000000</td>\n",
              "      <td>70.000000</td>\n",
              "      <td>0.000000</td>\n",
              "      <td>0.000000</td>\n",
              "    </tr>\n",
              "    <tr>\n",
              "      <th>50%</th>\n",
              "      <td>0.000000</td>\n",
              "      <td>69.000000</td>\n",
              "      <td>2016.000000</td>\n",
              "      <td>28.000000</td>\n",
              "      <td>16.000000</td>\n",
              "      <td>1.000000</td>\n",
              "      <td>2.000000</td>\n",
              "      <td>2.000000</td>\n",
              "      <td>0.000000</td>\n",
              "      <td>0.000000</td>\n",
              "      <td>0.000000</td>\n",
              "      <td>0.000000</td>\n",
              "      <td>0.000000</td>\n",
              "      <td>0.000000</td>\n",
              "      <td>9.000000</td>\n",
              "      <td>0.000000</td>\n",
              "      <td>95.000000</td>\n",
              "      <td>0.000000</td>\n",
              "      <td>0.000000</td>\n",
              "    </tr>\n",
              "    <tr>\n",
              "      <th>75%</th>\n",
              "      <td>1.000000</td>\n",
              "      <td>161.000000</td>\n",
              "      <td>2017.000000</td>\n",
              "      <td>38.000000</td>\n",
              "      <td>23.000000</td>\n",
              "      <td>2.000000</td>\n",
              "      <td>3.000000</td>\n",
              "      <td>2.000000</td>\n",
              "      <td>0.000000</td>\n",
              "      <td>0.000000</td>\n",
              "      <td>0.000000</td>\n",
              "      <td>0.000000</td>\n",
              "      <td>0.000000</td>\n",
              "      <td>0.000000</td>\n",
              "      <td>96.000000</td>\n",
              "      <td>0.000000</td>\n",
              "      <td>126.000000</td>\n",
              "      <td>0.000000</td>\n",
              "      <td>1.000000</td>\n",
              "    </tr>\n",
              "    <tr>\n",
              "      <th>max</th>\n",
              "      <td>1.000000</td>\n",
              "      <td>737.000000</td>\n",
              "      <td>2017.000000</td>\n",
              "      <td>53.000000</td>\n",
              "      <td>31.000000</td>\n",
              "      <td>16.000000</td>\n",
              "      <td>41.000000</td>\n",
              "      <td>55.000000</td>\n",
              "      <td>10.000000</td>\n",
              "      <td>10.000000</td>\n",
              "      <td>1.000000</td>\n",
              "      <td>26.000000</td>\n",
              "      <td>72.000000</td>\n",
              "      <td>21.000000</td>\n",
              "      <td>535.000000</td>\n",
              "      <td>391.000000</td>\n",
              "      <td>5400.000000</td>\n",
              "      <td>8.000000</td>\n",
              "      <td>5.000000</td>\n",
              "    </tr>\n",
              "  </tbody>\n",
              "</table>\n",
              "</div>"
            ],
            "text/plain": [
              "         is_canceled  ...  total_of_special_requests\n",
              "count  118902.000000  ...              118902.000000\n",
              "mean        0.371373  ...                   0.571706\n",
              "std         0.483174  ...                   0.792678\n",
              "min         0.000000  ...                   0.000000\n",
              "25%         0.000000  ...                   0.000000\n",
              "50%         0.000000  ...                   0.000000\n",
              "75%         1.000000  ...                   1.000000\n",
              "max         1.000000  ...                   5.000000\n",
              "\n",
              "[8 rows x 19 columns]"
            ]
          },
          "metadata": {
            "tags": []
          },
          "execution_count": 14
        }
      ]
    },
    {
      "cell_type": "markdown",
      "metadata": {
        "id": "Cn-qHH3IYyvj",
        "colab_type": "text"
      },
      "source": [
        "**For numeric variables:** <br>\n",
        "*    [is_canceled]: We can see that the average cancellations is just 37.04% where it deviates by 48% which means there is lots of variation between cancellations which directly affects productivity of the hotel. <br>\n",
        "*   [total_of_special_requests] : Also, we can see that 75% of people ask for 1 special request.   "
      ]
    },
    {
      "cell_type": "code",
      "metadata": {
        "id": "_3fs2FlrYRUd",
        "colab_type": "code",
        "outputId": "9595f9f7-b364-4229-eebf-db0a21ae505b",
        "colab": {
          "base_uri": "https://localhost:8080/",
          "height": 142
        }
      },
      "source": [
        "# Looking into adults. \n",
        "# Using groupby to group according to hotel types only.\n",
        "df['adults'].groupby(df['hotel']).describe()"
      ],
      "execution_count": 0,
      "outputs": [
        {
          "output_type": "execute_result",
          "data": {
            "text/html": [
              "<div>\n",
              "<style scoped>\n",
              "    .dataframe tbody tr th:only-of-type {\n",
              "        vertical-align: middle;\n",
              "    }\n",
              "\n",
              "    .dataframe tbody tr th {\n",
              "        vertical-align: top;\n",
              "    }\n",
              "\n",
              "    .dataframe thead th {\n",
              "        text-align: right;\n",
              "    }\n",
              "</style>\n",
              "<table border=\"1\" class=\"dataframe\">\n",
              "  <thead>\n",
              "    <tr style=\"text-align: right;\">\n",
              "      <th></th>\n",
              "      <th>count</th>\n",
              "      <th>mean</th>\n",
              "      <th>std</th>\n",
              "      <th>min</th>\n",
              "      <th>25%</th>\n",
              "      <th>50%</th>\n",
              "      <th>75%</th>\n",
              "      <th>max</th>\n",
              "    </tr>\n",
              "    <tr>\n",
              "      <th>hotel</th>\n",
              "      <th></th>\n",
              "      <th></th>\n",
              "      <th></th>\n",
              "      <th></th>\n",
              "      <th></th>\n",
              "      <th></th>\n",
              "      <th></th>\n",
              "      <th></th>\n",
              "    </tr>\n",
              "  </thead>\n",
              "  <tbody>\n",
              "    <tr>\n",
              "      <th>City Hotel</th>\n",
              "      <td>79306.0</td>\n",
              "      <td>1.851146</td>\n",
              "      <td>0.509017</td>\n",
              "      <td>0.0</td>\n",
              "      <td>2.0</td>\n",
              "      <td>2.0</td>\n",
              "      <td>2.0</td>\n",
              "      <td>4.0</td>\n",
              "    </tr>\n",
              "    <tr>\n",
              "      <th>Resort Hotel</th>\n",
              "      <td>39596.0</td>\n",
              "      <td>1.872942</td>\n",
              "      <td>0.697112</td>\n",
              "      <td>0.0</td>\n",
              "      <td>2.0</td>\n",
              "      <td>2.0</td>\n",
              "      <td>2.0</td>\n",
              "      <td>55.0</td>\n",
              "    </tr>\n",
              "  </tbody>\n",
              "</table>\n",
              "</div>"
            ],
            "text/plain": [
              "                count      mean       std  min  25%  50%  75%   max\n",
              "hotel                                                              \n",
              "City Hotel    79306.0  1.851146  0.509017  0.0  2.0  2.0  2.0   4.0\n",
              "Resort Hotel  39596.0  1.872942  0.697112  0.0  2.0  2.0  2.0  55.0"
            ]
          },
          "metadata": {
            "tags": []
          },
          "execution_count": 15
        }
      ]
    },
    {
      "cell_type": "code",
      "metadata": {
        "id": "0f18D_gOYA2_",
        "colab_type": "code",
        "outputId": "434e719f-652e-41f0-a30a-18a435417597",
        "colab": {
          "base_uri": "https://localhost:8080/",
          "height": 142
        }
      },
      "source": [
        "# Looking into children. \n",
        "# Using groupby to group according to hotel types only.\n",
        "df['children'].groupby(df['hotel']).describe()"
      ],
      "execution_count": 0,
      "outputs": [
        {
          "output_type": "execute_result",
          "data": {
            "text/html": [
              "<div>\n",
              "<style scoped>\n",
              "    .dataframe tbody tr th:only-of-type {\n",
              "        vertical-align: middle;\n",
              "    }\n",
              "\n",
              "    .dataframe tbody tr th {\n",
              "        vertical-align: top;\n",
              "    }\n",
              "\n",
              "    .dataframe thead th {\n",
              "        text-align: right;\n",
              "    }\n",
              "</style>\n",
              "<table border=\"1\" class=\"dataframe\">\n",
              "  <thead>\n",
              "    <tr style=\"text-align: right;\">\n",
              "      <th></th>\n",
              "      <th>count</th>\n",
              "      <th>mean</th>\n",
              "      <th>std</th>\n",
              "      <th>min</th>\n",
              "      <th>25%</th>\n",
              "      <th>50%</th>\n",
              "      <th>75%</th>\n",
              "      <th>max</th>\n",
              "    </tr>\n",
              "    <tr>\n",
              "      <th>hotel</th>\n",
              "      <th></th>\n",
              "      <th></th>\n",
              "      <th></th>\n",
              "      <th></th>\n",
              "      <th></th>\n",
              "      <th></th>\n",
              "      <th></th>\n",
              "      <th></th>\n",
              "    </tr>\n",
              "  </thead>\n",
              "  <tbody>\n",
              "    <tr>\n",
              "      <th>City Hotel</th>\n",
              "      <td>79306.0</td>\n",
              "      <td>0.091393</td>\n",
              "      <td>0.372221</td>\n",
              "      <td>0.0</td>\n",
              "      <td>0.0</td>\n",
              "      <td>0.0</td>\n",
              "      <td>0.0</td>\n",
              "      <td>3.0</td>\n",
              "    </tr>\n",
              "    <tr>\n",
              "      <th>Resort Hotel</th>\n",
              "      <td>39596.0</td>\n",
              "      <td>0.129862</td>\n",
              "      <td>0.447192</td>\n",
              "      <td>0.0</td>\n",
              "      <td>0.0</td>\n",
              "      <td>0.0</td>\n",
              "      <td>0.0</td>\n",
              "      <td>10.0</td>\n",
              "    </tr>\n",
              "  </tbody>\n",
              "</table>\n",
              "</div>"
            ],
            "text/plain": [
              "                count      mean       std  min  25%  50%  75%   max\n",
              "hotel                                                              \n",
              "City Hotel    79306.0  0.091393  0.372221  0.0  0.0  0.0  0.0   3.0\n",
              "Resort Hotel  39596.0  0.129862  0.447192  0.0  0.0  0.0  0.0  10.0"
            ]
          },
          "metadata": {
            "tags": []
          },
          "execution_count": 16
        }
      ]
    },
    {
      "cell_type": "markdown",
      "metadata": {
        "id": "L7rg8Z6PYZFB",
        "colab_type": "text"
      },
      "source": [
        "It seems that mean values for adults and children are higher. This means that resort hotels are better choice for large families."
      ]
    },
    {
      "cell_type": "code",
      "metadata": {
        "id": "j47bob5iaccZ",
        "colab_type": "code",
        "outputId": "8f5fb4ba-72ac-424e-b3f1-f69c34678b9b",
        "colab": {
          "base_uri": "https://localhost:8080/",
          "height": 119
        }
      },
      "source": [
        "df.meal.value_counts()"
      ],
      "execution_count": 0,
      "outputs": [
        {
          "output_type": "execute_result",
          "data": {
            "text/plain": [
              "BB           91867\n",
              "HB           14434\n",
              "SC           10638\n",
              "Undefined     1165\n",
              "FB             798\n",
              "Name: meal, dtype: int64"
            ]
          },
          "metadata": {
            "tags": []
          },
          "execution_count": 17
        }
      ]
    },
    {
      "cell_type": "code",
      "metadata": {
        "id": "x4yWPGiHbXEK",
        "colab_type": "code",
        "outputId": "2943eed5-a4fe-46af-8b23-4458795f505c",
        "colab": {
          "base_uri": "https://localhost:8080/",
          "height": 170
        }
      },
      "source": [
        "df.market_segment.value_counts()\n"
      ],
      "execution_count": 0,
      "outputs": [
        {
          "output_type": "execute_result",
          "data": {
            "text/plain": [
              "Online TA        56403\n",
              "Offline TA/TO    24160\n",
              "Groups           19806\n",
              "Direct           12449\n",
              "Corporate         5111\n",
              "Complementary      734\n",
              "Aviation           237\n",
              "Undefined            2\n",
              "Name: market_segment, dtype: int64"
            ]
          },
          "metadata": {
            "tags": []
          },
          "execution_count": 18
        }
      ]
    },
    {
      "cell_type": "markdown",
      "metadata": {
        "id": "XGWEHMO9b0jd",
        "colab_type": "text"
      },
      "source": [
        "**For Categorical variables:** <br>\n",
        "*   Frequency table of Type of meal booked is shown. Almost 78% of the people book for BB meal type i.e Bed and breakfast.\n",
        "*   47.30% of market segment designation is of Online Travel Agents.\n",
        " "
      ]
    },
    {
      "cell_type": "code",
      "metadata": {
        "id": "ujqzc1y5yUMN",
        "colab_type": "code",
        "outputId": "3069163e-45ca-40ad-ca28-4593084c00e8",
        "colab": {
          "base_uri": "https://localhost:8080/",
          "height": 542
        }
      },
      "source": [
        "#Looking at the distribution of Market Segments\n",
        "segments=df[\"market_segment\"].value_counts()\n",
        "\n",
        "# pie plot\n",
        "\n",
        "\n",
        "fig = px.pie(segments,\n",
        "             values=segments.values,\n",
        "             names=segments.index,\n",
        "             title=\"Bookings per market segment\",\n",
        "             #template=\"seaborn\", \n",
        "             color =segments.index,     \n",
        "             color_discrete_map={'Aviation':'lightcyan',\n",
        "                                 'Complementary':'cyan',\n",
        "                                 'Corporate':'DeepSkyBlue',\n",
        "                                 'Direct':'darkblue',\n",
        "                                 'Offline TA/TO':'yellow',\n",
        "                                 'Online TA':'lightskyblue',\n",
        "                                 'Undefined':'green'})\n",
        "\n",
        "fig.update_traces(rotation=-90, textinfo=\"percent+label\")\n",
        "fig.show()"
      ],
      "execution_count": 0,
      "outputs": [
        {
          "output_type": "display_data",
          "data": {
            "text/html": [
              "<html>\n",
              "<head><meta charset=\"utf-8\" /></head>\n",
              "<body>\n",
              "    <div>\n",
              "            <script src=\"https://cdnjs.cloudflare.com/ajax/libs/mathjax/2.7.5/MathJax.js?config=TeX-AMS-MML_SVG\"></script><script type=\"text/javascript\">if (window.MathJax) {MathJax.Hub.Config({SVG: {font: \"STIX-Web\"}});}</script>\n",
              "                <script type=\"text/javascript\">window.PlotlyConfig = {MathJaxConfig: 'local'};</script>\n",
              "        <script src=\"https://cdn.plot.ly/plotly-latest.min.js\"></script>    \n",
              "            <div id=\"ccf38db0-c3bf-4381-b161-15997dbe3bd8\" class=\"plotly-graph-div\" style=\"height:525px; width:100%;\"></div>\n",
              "            <script type=\"text/javascript\">\n",
              "                \n",
              "                    window.PLOTLYENV=window.PLOTLYENV || {};\n",
              "                    \n",
              "                if (document.getElementById(\"ccf38db0-c3bf-4381-b161-15997dbe3bd8\")) {\n",
              "                    Plotly.newPlot(\n",
              "                        'ccf38db0-c3bf-4381-b161-15997dbe3bd8',\n",
              "                        [{\"customdata\": [[\"Online TA\"], [\"Offline TA/TO\"], [\"Groups\"], [\"Direct\"], [\"Corporate\"], [\"Complementary\"], [\"Aviation\"], [\"Undefined\"]], \"domain\": {\"x\": [0.0, 1.0], \"y\": [0.0, 1.0]}, \"hoverlabel\": {\"namelength\": 0}, \"hovertemplate\": \"color=%{customdata[0]}<br>label=%{label}<br>value=%{value}\", \"labels\": [\"Online TA\", \"Offline TA/TO\", \"Groups\", \"Direct\", \"Corporate\", \"Complementary\", \"Aviation\", \"Undefined\"], \"legendgroup\": \"\", \"marker\": {\"colors\": [\"#636efa\", \"#EF553B\", \"#00cc96\", \"#ab63fa\", \"#FFA15A\", \"#19d3f3\", \"#FF6692\", \"#B6E880\"]}, \"name\": \"\", \"rotation\": -90, \"showlegend\": true, \"textinfo\": \"percent+label\", \"type\": \"pie\", \"values\": [56403, 24160, 19806, 12449, 5111, 734, 237, 2]}],\n",
              "                        {\"legend\": {\"tracegroupgap\": 0}, \"template\": {\"data\": {\"bar\": [{\"error_x\": {\"color\": \"#2a3f5f\"}, \"error_y\": {\"color\": \"#2a3f5f\"}, \"marker\": {\"line\": {\"color\": \"#E5ECF6\", \"width\": 0.5}}, \"type\": \"bar\"}], \"barpolar\": [{\"marker\": {\"line\": {\"color\": \"#E5ECF6\", \"width\": 0.5}}, \"type\": \"barpolar\"}], \"carpet\": [{\"aaxis\": {\"endlinecolor\": \"#2a3f5f\", \"gridcolor\": \"white\", \"linecolor\": \"white\", \"minorgridcolor\": \"white\", \"startlinecolor\": \"#2a3f5f\"}, \"baxis\": {\"endlinecolor\": \"#2a3f5f\", \"gridcolor\": \"white\", \"linecolor\": \"white\", \"minorgridcolor\": \"white\", \"startlinecolor\": \"#2a3f5f\"}, \"type\": \"carpet\"}], \"choropleth\": [{\"colorbar\": {\"outlinewidth\": 0, \"ticks\": \"\"}, \"type\": \"choropleth\"}], \"contour\": [{\"colorbar\": {\"outlinewidth\": 0, \"ticks\": \"\"}, \"colorscale\": [[0.0, \"#0d0887\"], [0.1111111111111111, \"#46039f\"], [0.2222222222222222, \"#7201a8\"], [0.3333333333333333, \"#9c179e\"], [0.4444444444444444, \"#bd3786\"], [0.5555555555555556, \"#d8576b\"], [0.6666666666666666, \"#ed7953\"], [0.7777777777777778, \"#fb9f3a\"], [0.8888888888888888, \"#fdca26\"], [1.0, \"#f0f921\"]], \"type\": \"contour\"}], \"contourcarpet\": [{\"colorbar\": {\"outlinewidth\": 0, \"ticks\": \"\"}, \"type\": \"contourcarpet\"}], \"heatmap\": [{\"colorbar\": {\"outlinewidth\": 0, \"ticks\": \"\"}, \"colorscale\": [[0.0, \"#0d0887\"], [0.1111111111111111, \"#46039f\"], [0.2222222222222222, \"#7201a8\"], [0.3333333333333333, \"#9c179e\"], [0.4444444444444444, \"#bd3786\"], [0.5555555555555556, \"#d8576b\"], [0.6666666666666666, \"#ed7953\"], [0.7777777777777778, \"#fb9f3a\"], [0.8888888888888888, \"#fdca26\"], [1.0, \"#f0f921\"]], \"type\": \"heatmap\"}], \"heatmapgl\": [{\"colorbar\": {\"outlinewidth\": 0, \"ticks\": \"\"}, \"colorscale\": [[0.0, \"#0d0887\"], [0.1111111111111111, \"#46039f\"], [0.2222222222222222, \"#7201a8\"], [0.3333333333333333, \"#9c179e\"], [0.4444444444444444, \"#bd3786\"], [0.5555555555555556, \"#d8576b\"], [0.6666666666666666, \"#ed7953\"], [0.7777777777777778, \"#fb9f3a\"], [0.8888888888888888, \"#fdca26\"], [1.0, \"#f0f921\"]], \"type\": \"heatmapgl\"}], \"histogram\": [{\"marker\": {\"colorbar\": {\"outlinewidth\": 0, \"ticks\": \"\"}}, \"type\": \"histogram\"}], \"histogram2d\": [{\"colorbar\": {\"outlinewidth\": 0, \"ticks\": \"\"}, \"colorscale\": [[0.0, \"#0d0887\"], [0.1111111111111111, \"#46039f\"], [0.2222222222222222, \"#7201a8\"], [0.3333333333333333, \"#9c179e\"], [0.4444444444444444, \"#bd3786\"], [0.5555555555555556, \"#d8576b\"], [0.6666666666666666, \"#ed7953\"], [0.7777777777777778, \"#fb9f3a\"], [0.8888888888888888, \"#fdca26\"], [1.0, \"#f0f921\"]], \"type\": \"histogram2d\"}], \"histogram2dcontour\": [{\"colorbar\": {\"outlinewidth\": 0, \"ticks\": \"\"}, \"colorscale\": [[0.0, \"#0d0887\"], [0.1111111111111111, \"#46039f\"], [0.2222222222222222, \"#7201a8\"], [0.3333333333333333, \"#9c179e\"], [0.4444444444444444, \"#bd3786\"], [0.5555555555555556, \"#d8576b\"], [0.6666666666666666, \"#ed7953\"], [0.7777777777777778, \"#fb9f3a\"], [0.8888888888888888, \"#fdca26\"], [1.0, \"#f0f921\"]], \"type\": \"histogram2dcontour\"}], \"mesh3d\": [{\"colorbar\": {\"outlinewidth\": 0, \"ticks\": \"\"}, \"type\": \"mesh3d\"}], \"parcoords\": [{\"line\": {\"colorbar\": {\"outlinewidth\": 0, \"ticks\": \"\"}}, \"type\": \"parcoords\"}], \"pie\": [{\"automargin\": true, \"type\": \"pie\"}], \"scatter\": [{\"marker\": {\"colorbar\": {\"outlinewidth\": 0, \"ticks\": \"\"}}, \"type\": \"scatter\"}], \"scatter3d\": [{\"line\": {\"colorbar\": {\"outlinewidth\": 0, \"ticks\": \"\"}}, \"marker\": {\"colorbar\": {\"outlinewidth\": 0, \"ticks\": \"\"}}, \"type\": \"scatter3d\"}], \"scattercarpet\": [{\"marker\": {\"colorbar\": {\"outlinewidth\": 0, \"ticks\": \"\"}}, \"type\": \"scattercarpet\"}], \"scattergeo\": [{\"marker\": {\"colorbar\": {\"outlinewidth\": 0, \"ticks\": \"\"}}, \"type\": \"scattergeo\"}], \"scattergl\": [{\"marker\": {\"colorbar\": {\"outlinewidth\": 0, \"ticks\": \"\"}}, \"type\": \"scattergl\"}], \"scattermapbox\": [{\"marker\": {\"colorbar\": {\"outlinewidth\": 0, \"ticks\": \"\"}}, \"type\": \"scattermapbox\"}], \"scatterpolar\": [{\"marker\": {\"colorbar\": {\"outlinewidth\": 0, \"ticks\": \"\"}}, \"type\": \"scatterpolar\"}], \"scatterpolargl\": [{\"marker\": {\"colorbar\": {\"outlinewidth\": 0, \"ticks\": \"\"}}, \"type\": \"scatterpolargl\"}], \"scatterternary\": [{\"marker\": {\"colorbar\": {\"outlinewidth\": 0, \"ticks\": \"\"}}, \"type\": \"scatterternary\"}], \"surface\": [{\"colorbar\": {\"outlinewidth\": 0, \"ticks\": \"\"}, \"colorscale\": [[0.0, \"#0d0887\"], [0.1111111111111111, \"#46039f\"], [0.2222222222222222, \"#7201a8\"], [0.3333333333333333, \"#9c179e\"], [0.4444444444444444, \"#bd3786\"], [0.5555555555555556, \"#d8576b\"], [0.6666666666666666, \"#ed7953\"], [0.7777777777777778, \"#fb9f3a\"], [0.8888888888888888, \"#fdca26\"], [1.0, \"#f0f921\"]], \"type\": \"surface\"}], \"table\": [{\"cells\": {\"fill\": {\"color\": \"#EBF0F8\"}, \"line\": {\"color\": \"white\"}}, \"header\": {\"fill\": {\"color\": \"#C8D4E3\"}, \"line\": {\"color\": \"white\"}}, \"type\": \"table\"}]}, \"layout\": {\"annotationdefaults\": {\"arrowcolor\": \"#2a3f5f\", \"arrowhead\": 0, \"arrowwidth\": 1}, \"coloraxis\": {\"colorbar\": {\"outlinewidth\": 0, \"ticks\": \"\"}}, \"colorscale\": {\"diverging\": [[0, \"#8e0152\"], [0.1, \"#c51b7d\"], [0.2, \"#de77ae\"], [0.3, \"#f1b6da\"], [0.4, \"#fde0ef\"], [0.5, \"#f7f7f7\"], [0.6, \"#e6f5d0\"], [0.7, \"#b8e186\"], [0.8, \"#7fbc41\"], [0.9, \"#4d9221\"], [1, \"#276419\"]], \"sequential\": [[0.0, \"#0d0887\"], [0.1111111111111111, \"#46039f\"], [0.2222222222222222, \"#7201a8\"], [0.3333333333333333, \"#9c179e\"], [0.4444444444444444, \"#bd3786\"], [0.5555555555555556, \"#d8576b\"], [0.6666666666666666, \"#ed7953\"], [0.7777777777777778, \"#fb9f3a\"], [0.8888888888888888, \"#fdca26\"], [1.0, \"#f0f921\"]], \"sequentialminus\": [[0.0, \"#0d0887\"], [0.1111111111111111, \"#46039f\"], [0.2222222222222222, \"#7201a8\"], [0.3333333333333333, \"#9c179e\"], [0.4444444444444444, \"#bd3786\"], [0.5555555555555556, \"#d8576b\"], [0.6666666666666666, \"#ed7953\"], [0.7777777777777778, \"#fb9f3a\"], [0.8888888888888888, \"#fdca26\"], [1.0, \"#f0f921\"]]}, \"colorway\": [\"#636efa\", \"#EF553B\", \"#00cc96\", \"#ab63fa\", \"#FFA15A\", \"#19d3f3\", \"#FF6692\", \"#B6E880\", \"#FF97FF\", \"#FECB52\"], \"font\": {\"color\": \"#2a3f5f\"}, \"geo\": {\"bgcolor\": \"white\", \"lakecolor\": \"white\", \"landcolor\": \"#E5ECF6\", \"showlakes\": true, \"showland\": true, \"subunitcolor\": \"white\"}, \"hoverlabel\": {\"align\": \"left\"}, \"hovermode\": \"closest\", \"mapbox\": {\"style\": \"light\"}, \"paper_bgcolor\": \"white\", \"plot_bgcolor\": \"#E5ECF6\", \"polar\": {\"angularaxis\": {\"gridcolor\": \"white\", \"linecolor\": \"white\", \"ticks\": \"\"}, \"bgcolor\": \"#E5ECF6\", \"radialaxis\": {\"gridcolor\": \"white\", \"linecolor\": \"white\", \"ticks\": \"\"}}, \"scene\": {\"xaxis\": {\"backgroundcolor\": \"#E5ECF6\", \"gridcolor\": \"white\", \"gridwidth\": 2, \"linecolor\": \"white\", \"showbackground\": true, \"ticks\": \"\", \"zerolinecolor\": \"white\"}, \"yaxis\": {\"backgroundcolor\": \"#E5ECF6\", \"gridcolor\": \"white\", \"gridwidth\": 2, \"linecolor\": \"white\", \"showbackground\": true, \"ticks\": \"\", \"zerolinecolor\": \"white\"}, \"zaxis\": {\"backgroundcolor\": \"#E5ECF6\", \"gridcolor\": \"white\", \"gridwidth\": 2, \"linecolor\": \"white\", \"showbackground\": true, \"ticks\": \"\", \"zerolinecolor\": \"white\"}}, \"shapedefaults\": {\"line\": {\"color\": \"#2a3f5f\"}}, \"ternary\": {\"aaxis\": {\"gridcolor\": \"white\", \"linecolor\": \"white\", \"ticks\": \"\"}, \"baxis\": {\"gridcolor\": \"white\", \"linecolor\": \"white\", \"ticks\": \"\"}, \"bgcolor\": \"#E5ECF6\", \"caxis\": {\"gridcolor\": \"white\", \"linecolor\": \"white\", \"ticks\": \"\"}}, \"title\": {\"x\": 0.05}, \"xaxis\": {\"automargin\": true, \"gridcolor\": \"white\", \"linecolor\": \"white\", \"ticks\": \"\", \"title\": {\"standoff\": 15}, \"zerolinecolor\": \"white\", \"zerolinewidth\": 2}, \"yaxis\": {\"automargin\": true, \"gridcolor\": \"white\", \"linecolor\": \"white\", \"ticks\": \"\", \"title\": {\"standoff\": 15}, \"zerolinecolor\": \"white\", \"zerolinewidth\": 2}}}, \"title\": {\"text\": \"Bookings per market segment\"}},\n",
              "                        {\"responsive\": true}\n",
              "                    ).then(function(){\n",
              "                            \n",
              "var gd = document.getElementById('ccf38db0-c3bf-4381-b161-15997dbe3bd8');\n",
              "var x = new MutationObserver(function (mutations, observer) {{\n",
              "        var display = window.getComputedStyle(gd).display;\n",
              "        if (!display || display === 'none') {{\n",
              "            console.log([gd, 'removed!']);\n",
              "            Plotly.purge(gd);\n",
              "            observer.disconnect();\n",
              "        }}\n",
              "}});\n",
              "\n",
              "// Listen for the removal of the full notebook cells\n",
              "var notebookContainer = gd.closest('#notebook-container');\n",
              "if (notebookContainer) {{\n",
              "    x.observe(notebookContainer, {childList: true});\n",
              "}}\n",
              "\n",
              "// Listen for the clearing of the current output cell\n",
              "var outputEl = gd.closest('.output');\n",
              "if (outputEl) {{\n",
              "    x.observe(outputEl, {childList: true});\n",
              "}}\n",
              "\n",
              "                        })\n",
              "                };\n",
              "                \n",
              "            </script>\n",
              "        </div>\n",
              "</body>\n",
              "</html>"
            ]
          },
          "metadata": {
            "tags": []
          }
        }
      ]
    },
    {
      "cell_type": "markdown",
      "metadata": {
        "id": "c02awM6UdZO9",
        "colab_type": "text"
      },
      "source": [
        "About 47.4% of people book through Online Travel Agents whereas 20.3% book through Offline Travel Agents."
      ]
    },
    {
      "cell_type": "markdown",
      "metadata": {
        "id": "P0caIeLmzZjj",
        "colab_type": "text"
      },
      "source": [
        "#### **1.** **Customer Segmentation and Satiation:**\n",
        "Answer following questions:\n",
        "1. Where do the guest come from?\n",
        "2. Customer distribution? \n",
        "3. Hotel type with more time spent by customers.\n",
        "4. Repeated guest effect on cancellations\n",
        "5. How long do repeated people stay at the hotel?\n",
        "6. Bookings and cancellations\n"
      ]
    },
    {
      "cell_type": "code",
      "metadata": {
        "id": "P_D-dgh51P23",
        "colab_type": "code",
        "outputId": "214a651a-f4ed-4eca-a9c5-23da21489923",
        "colab": {
          "base_uri": "https://localhost:8080/",
          "height": 542
        }
      },
      "source": [
        "#Where do the guest come from?                    \n",
        "country_data = pd.DataFrame(df.loc[df[\"is_canceled\"] == 0][\"country\"].value_counts())\n",
        "country_data.rename(columns={\"country\": \"Number of Guests\"}, inplace=True)\n",
        "total_guests = country_data[\"Number of Guests\"].sum()\n",
        "country_data[\"Guests in %\"] = round(country_data[\"Number of Guests\"] / total_guests * 100, 2)\n",
        "country_data[\"country\"] = country_data.index\n",
        "\n",
        "# show on map\n",
        "guest_map = px.choropleth(country_data,\n",
        "                    locations=country_data.index,\n",
        "                    color=country_data[\"Guests in %\"], \n",
        "                    hover_name=country_data.index, \n",
        "                    color_continuous_scale=px.colors.sequential.Plasma,\n",
        "                    title=\"Home country of guests\")\n",
        "guest_map.show()"
      ],
      "execution_count": 0,
      "outputs": [
        {
          "output_type": "display_data",
          "data": {
            "text/html": [
              "<html>\n",
              "<head><meta charset=\"utf-8\" /></head>\n",
              "<body>\n",
              "    <div>\n",
              "            <script src=\"https://cdnjs.cloudflare.com/ajax/libs/mathjax/2.7.5/MathJax.js?config=TeX-AMS-MML_SVG\"></script><script type=\"text/javascript\">if (window.MathJax) {MathJax.Hub.Config({SVG: {font: \"STIX-Web\"}});}</script>\n",
              "                <script type=\"text/javascript\">window.PlotlyConfig = {MathJaxConfig: 'local'};</script>\n",
              "        <script src=\"https://cdn.plot.ly/plotly-latest.min.js\"></script>    \n",
              "            <div id=\"37f7590f-864c-491a-87bf-9c6dffde85b5\" class=\"plotly-graph-div\" style=\"height:525px; width:100%;\"></div>\n",
              "            <script type=\"text/javascript\">\n",
              "                \n",
              "                    window.PLOTLYENV=window.PLOTLYENV || {};\n",
              "                    \n",
              "                if (document.getElementById(\"37f7590f-864c-491a-87bf-9c6dffde85b5\")) {\n",
              "                    Plotly.newPlot(\n",
              "                        '37f7590f-864c-491a-87bf-9c6dffde85b5',\n",
              "                        [{\"coloraxis\": \"coloraxis\", \"geo\": \"geo\", \"hoverlabel\": {\"namelength\": 0}, \"hovertemplate\": \"<b>%{hovertext}</b><br><br>locations=%{location}<br>Guests in %=%{z}\", \"hovertext\": [\"PRT\", \"GBR\", \"FRA\", \"ESP\", \"DEU\", \"IRL\", \"ITA\", \"BEL\", \"NLD\", \"USA\", \"BRA\", \"CHE\", \"AUT\", \"CN\", \"SWE\", \"POL\", \"CHN\", \"ISR\", \"NOR\", \"RUS\", \"FIN\", \"ROU\", \"DNK\", \"AUS\", \"LUX\", \"JPN\", \"ARG\", \"AGO\", \"HUN\", \"MAR\", \"TUR\", \"CZE\", \"IND\", \"SRB\", \"GRC\", \"DZA\", \"KOR\", \"MEX\", \"HRV\", \"LTU\", \"NZL\", \"EST\", \"BGR\", \"IRN\", \"ISL\", \"ZAF\", \"CHL\", \"COL\", \"UKR\", \"MOZ\", \"LVA\", \"SVN\", \"THA\", \"SVK\", \"CYP\", \"TWN\", \"MYS\", \"URY\", \"PER\", \"SGP\", \"LBN\", \"EGY\", \"TUN\", \"ECU\", \"CRI\", \"JOR\", \"BLR\", \"PHL\", \"SAU\", \"VEN\", \"IRQ\", \"KAZ\", \"OMN\", \"MLT\", \"NGA\", \"CPV\", \"IDN\", \"CMR\", \"KWT\", \"BIH\", \"BOL\", \"ALB\", \"PRI\", \"PAN\", \"CUB\", \"MKD\", \"GNB\", \"ARE\", \"LBY\", \"AZE\", \"GEO\", \"LKA\", \"GIB\", \"DOM\", \"VNM\", \"MUS\", \"ARM\", \"JAM\", \"CAF\", \"SUR\", \"PAK\", \"BRB\", \"PRY\", \"QAT\", \"GTM\", \"KEN\", \"CIV\", \"MDV\", \"MNE\", \"BGD\", \"SYR\", \"MCO\", \"SEN\", \"HKG\", \"COM\", \"STP\", \"UZB\", \"ATA\", \"ABW\", \"GAB\", \"ETH\", \"AND\", \"RWA\", \"MWI\", \"TGO\", \"GHA\", \"LAO\", \"ZWE\", \"KNA\", \"TMP\", \"LIE\", \"TZA\", \"UGA\", \"SLV\", \"TJK\", \"BDI\", \"SYC\", \"NAM\", \"NCL\", \"CYM\", \"LCA\", \"FRO\", \"BHR\", \"MLI\", \"BFA\", \"BHS\", \"MRT\", \"SLE\", \"NPL\", \"DJI\", \"PYF\", \"AIA\", \"SDN\", \"ASM\", \"MDG\", \"MAC\", \"GUY\", \"PLW\", \"BWA\", \"ZMB\", \"ATF\", \"SMR\", \"DMA\", \"KIR\", \"MMR\"], \"locations\": [\"PRT\", \"GBR\", \"FRA\", \"ESP\", \"DEU\", \"IRL\", \"ITA\", \"BEL\", \"NLD\", \"USA\", \"BRA\", \"CHE\", \"AUT\", \"CN\", \"SWE\", \"POL\", \"CHN\", \"ISR\", \"NOR\", \"RUS\", \"FIN\", \"ROU\", \"DNK\", \"AUS\", \"LUX\", \"JPN\", \"ARG\", \"AGO\", \"HUN\", \"MAR\", \"TUR\", \"CZE\", \"IND\", \"SRB\", \"GRC\", \"DZA\", \"KOR\", \"MEX\", \"HRV\", \"LTU\", \"NZL\", \"EST\", \"BGR\", \"IRN\", \"ISL\", \"ZAF\", \"CHL\", \"COL\", \"UKR\", \"MOZ\", \"LVA\", \"SVN\", \"THA\", \"SVK\", \"CYP\", \"TWN\", \"MYS\", \"URY\", \"PER\", \"SGP\", \"LBN\", \"EGY\", \"TUN\", \"ECU\", \"CRI\", \"JOR\", \"BLR\", \"PHL\", \"SAU\", \"VEN\", \"IRQ\", \"KAZ\", \"OMN\", \"MLT\", \"NGA\", \"CPV\", \"IDN\", \"CMR\", \"KWT\", \"BIH\", \"BOL\", \"ALB\", \"PRI\", \"PAN\", \"CUB\", \"MKD\", \"GNB\", \"ARE\", \"LBY\", \"AZE\", \"GEO\", \"LKA\", \"GIB\", \"DOM\", \"VNM\", \"MUS\", \"ARM\", \"JAM\", \"CAF\", \"SUR\", \"PAK\", \"BRB\", \"PRY\", \"QAT\", \"GTM\", \"KEN\", \"CIV\", \"MDV\", \"MNE\", \"BGD\", \"SYR\", \"MCO\", \"SEN\", \"HKG\", \"COM\", \"STP\", \"UZB\", \"ATA\", \"ABW\", \"GAB\", \"ETH\", \"AND\", \"RWA\", \"MWI\", \"TGO\", \"GHA\", \"LAO\", \"ZWE\", \"KNA\", \"TMP\", \"LIE\", \"TZA\", \"UGA\", \"SLV\", \"TJK\", \"BDI\", \"SYC\", \"NAM\", \"NCL\", \"CYM\", \"LCA\", \"FRO\", \"BHR\", \"MLI\", \"BFA\", \"BHS\", \"MRT\", \"SLE\", \"NPL\", \"DJI\", \"PYF\", \"AIA\", \"SDN\", \"ASM\", \"MDG\", \"MAC\", \"GUY\", \"PLW\", \"BWA\", \"ZMB\", \"ATF\", \"SMR\", \"DMA\", \"KIR\", \"MMR\"], \"name\": \"\", \"type\": \"choropleth\", \"z\": [28.19, 12.95, 11.35, 8.55, 8.12, 3.4, 3.26, 2.5, 2.3, 2.14, 1.87, 1.74, 1.38, 1.37, 1.07, 0.94, 0.72, 0.67, 0.57, 0.53, 0.51, 0.49, 0.44, 0.43, 0.24, 0.23, 0.21, 0.21, 0.2, 0.2, 0.2, 0.18, 0.16, 0.13, 0.12, 0.11, 0.1, 0.1, 0.1, 0.1, 0.09, 0.09, 0.08, 0.08, 0.07, 0.07, 0.07, 0.06, 0.06, 0.06, 0.06, 0.06, 0.05, 0.05, 0.05, 0.05, 0.03, 0.03, 0.03, 0.03, 0.03, 0.03, 0.03, 0.03, 0.02, 0.02, 0.02, 0.02, 0.02, 0.02, 0.02, 0.02, 0.02, 0.02, 0.02, 0.02, 0.01, 0.01, 0.01, 0.01, 0.01, 0.01, 0.01, 0.01, 0.01, 0.01, 0.01, 0.01, 0.01, 0.01, 0.01, 0.01, 0.01, 0.01, 0.01, 0.01, 0.01, 0.01, 0.01, 0.01, 0.01, 0.01, 0.01, 0.01, 0.01, 0.01, 0.01, 0.0, 0.0, 0.0, 0.0, 0.0, 0.0, 0.0, 0.0, 0.0, 0.0, 0.0, 0.0, 0.0, 0.0, 0.0, 0.0, 0.0, 0.0, 0.0, 0.0, 0.0, 0.0, 0.0, 0.0, 0.0, 0.0, 0.0, 0.0, 0.0, 0.0, 0.0, 0.0, 0.0, 0.0, 0.0, 0.0, 0.0, 0.0, 0.0, 0.0, 0.0, 0.0, 0.0, 0.0, 0.0, 0.0, 0.0, 0.0, 0.0, 0.0, 0.0, 0.0, 0.0, 0.0, 0.0, 0.0, 0.0, 0.0]}],\n",
              "                        {\"coloraxis\": {\"colorbar\": {\"title\": {\"text\": \"Guests in %\"}}, \"colorscale\": [[0.0, \"#0d0887\"], [0.1111111111111111, \"#46039f\"], [0.2222222222222222, \"#7201a8\"], [0.3333333333333333, \"#9c179e\"], [0.4444444444444444, \"#bd3786\"], [0.5555555555555556, \"#d8576b\"], [0.6666666666666666, \"#ed7953\"], [0.7777777777777778, \"#fb9f3a\"], [0.8888888888888888, \"#fdca26\"], [1.0, \"#f0f921\"]]}, \"geo\": {\"center\": {}, \"domain\": {\"x\": [0.0, 1.0], \"y\": [0.0, 1.0]}}, \"legend\": {\"tracegroupgap\": 0}, \"template\": {\"data\": {\"bar\": [{\"error_x\": {\"color\": \"#2a3f5f\"}, \"error_y\": {\"color\": \"#2a3f5f\"}, \"marker\": {\"line\": {\"color\": \"#E5ECF6\", \"width\": 0.5}}, \"type\": \"bar\"}], \"barpolar\": [{\"marker\": {\"line\": {\"color\": \"#E5ECF6\", \"width\": 0.5}}, \"type\": \"barpolar\"}], \"carpet\": [{\"aaxis\": {\"endlinecolor\": \"#2a3f5f\", \"gridcolor\": \"white\", \"linecolor\": \"white\", \"minorgridcolor\": \"white\", \"startlinecolor\": \"#2a3f5f\"}, \"baxis\": {\"endlinecolor\": \"#2a3f5f\", \"gridcolor\": \"white\", \"linecolor\": \"white\", \"minorgridcolor\": \"white\", \"startlinecolor\": \"#2a3f5f\"}, \"type\": \"carpet\"}], \"choropleth\": [{\"colorbar\": {\"outlinewidth\": 0, \"ticks\": \"\"}, \"type\": \"choropleth\"}], \"contour\": [{\"colorbar\": {\"outlinewidth\": 0, \"ticks\": \"\"}, \"colorscale\": [[0.0, \"#0d0887\"], [0.1111111111111111, \"#46039f\"], [0.2222222222222222, \"#7201a8\"], [0.3333333333333333, \"#9c179e\"], [0.4444444444444444, \"#bd3786\"], [0.5555555555555556, \"#d8576b\"], [0.6666666666666666, \"#ed7953\"], [0.7777777777777778, \"#fb9f3a\"], [0.8888888888888888, \"#fdca26\"], [1.0, \"#f0f921\"]], \"type\": \"contour\"}], \"contourcarpet\": [{\"colorbar\": {\"outlinewidth\": 0, \"ticks\": \"\"}, \"type\": \"contourcarpet\"}], \"heatmap\": [{\"colorbar\": {\"outlinewidth\": 0, \"ticks\": \"\"}, \"colorscale\": [[0.0, \"#0d0887\"], [0.1111111111111111, \"#46039f\"], [0.2222222222222222, \"#7201a8\"], [0.3333333333333333, \"#9c179e\"], [0.4444444444444444, \"#bd3786\"], [0.5555555555555556, \"#d8576b\"], [0.6666666666666666, \"#ed7953\"], [0.7777777777777778, \"#fb9f3a\"], [0.8888888888888888, \"#fdca26\"], [1.0, \"#f0f921\"]], \"type\": \"heatmap\"}], \"heatmapgl\": [{\"colorbar\": {\"outlinewidth\": 0, \"ticks\": \"\"}, \"colorscale\": [[0.0, \"#0d0887\"], [0.1111111111111111, \"#46039f\"], [0.2222222222222222, \"#7201a8\"], [0.3333333333333333, \"#9c179e\"], [0.4444444444444444, \"#bd3786\"], [0.5555555555555556, \"#d8576b\"], [0.6666666666666666, \"#ed7953\"], [0.7777777777777778, \"#fb9f3a\"], [0.8888888888888888, \"#fdca26\"], [1.0, \"#f0f921\"]], \"type\": \"heatmapgl\"}], \"histogram\": [{\"marker\": {\"colorbar\": {\"outlinewidth\": 0, \"ticks\": \"\"}}, \"type\": \"histogram\"}], \"histogram2d\": [{\"colorbar\": {\"outlinewidth\": 0, \"ticks\": \"\"}, \"colorscale\": [[0.0, \"#0d0887\"], [0.1111111111111111, \"#46039f\"], [0.2222222222222222, \"#7201a8\"], [0.3333333333333333, \"#9c179e\"], [0.4444444444444444, \"#bd3786\"], [0.5555555555555556, \"#d8576b\"], [0.6666666666666666, \"#ed7953\"], [0.7777777777777778, \"#fb9f3a\"], [0.8888888888888888, \"#fdca26\"], [1.0, \"#f0f921\"]], \"type\": \"histogram2d\"}], \"histogram2dcontour\": [{\"colorbar\": {\"outlinewidth\": 0, \"ticks\": \"\"}, \"colorscale\": [[0.0, \"#0d0887\"], [0.1111111111111111, \"#46039f\"], [0.2222222222222222, \"#7201a8\"], [0.3333333333333333, \"#9c179e\"], [0.4444444444444444, \"#bd3786\"], [0.5555555555555556, \"#d8576b\"], [0.6666666666666666, \"#ed7953\"], [0.7777777777777778, \"#fb9f3a\"], [0.8888888888888888, \"#fdca26\"], [1.0, \"#f0f921\"]], \"type\": \"histogram2dcontour\"}], \"mesh3d\": [{\"colorbar\": {\"outlinewidth\": 0, \"ticks\": \"\"}, \"type\": \"mesh3d\"}], \"parcoords\": [{\"line\": {\"colorbar\": {\"outlinewidth\": 0, \"ticks\": \"\"}}, \"type\": \"parcoords\"}], \"pie\": [{\"automargin\": true, \"type\": \"pie\"}], \"scatter\": [{\"marker\": {\"colorbar\": {\"outlinewidth\": 0, \"ticks\": \"\"}}, \"type\": \"scatter\"}], \"scatter3d\": [{\"line\": {\"colorbar\": {\"outlinewidth\": 0, \"ticks\": \"\"}}, \"marker\": {\"colorbar\": {\"outlinewidth\": 0, \"ticks\": \"\"}}, \"type\": \"scatter3d\"}], \"scattercarpet\": [{\"marker\": {\"colorbar\": {\"outlinewidth\": 0, \"ticks\": \"\"}}, \"type\": \"scattercarpet\"}], \"scattergeo\": [{\"marker\": {\"colorbar\": {\"outlinewidth\": 0, \"ticks\": \"\"}}, \"type\": \"scattergeo\"}], \"scattergl\": [{\"marker\": {\"colorbar\": {\"outlinewidth\": 0, \"ticks\": \"\"}}, \"type\": \"scattergl\"}], \"scattermapbox\": [{\"marker\": {\"colorbar\": {\"outlinewidth\": 0, \"ticks\": \"\"}}, \"type\": \"scattermapbox\"}], \"scatterpolar\": [{\"marker\": {\"colorbar\": {\"outlinewidth\": 0, \"ticks\": \"\"}}, \"type\": \"scatterpolar\"}], \"scatterpolargl\": [{\"marker\": {\"colorbar\": {\"outlinewidth\": 0, \"ticks\": \"\"}}, \"type\": \"scatterpolargl\"}], \"scatterternary\": [{\"marker\": {\"colorbar\": {\"outlinewidth\": 0, \"ticks\": \"\"}}, \"type\": \"scatterternary\"}], \"surface\": [{\"colorbar\": {\"outlinewidth\": 0, \"ticks\": \"\"}, \"colorscale\": [[0.0, \"#0d0887\"], [0.1111111111111111, \"#46039f\"], [0.2222222222222222, \"#7201a8\"], [0.3333333333333333, \"#9c179e\"], [0.4444444444444444, \"#bd3786\"], [0.5555555555555556, \"#d8576b\"], [0.6666666666666666, \"#ed7953\"], [0.7777777777777778, \"#fb9f3a\"], [0.8888888888888888, \"#fdca26\"], [1.0, \"#f0f921\"]], \"type\": \"surface\"}], \"table\": [{\"cells\": {\"fill\": {\"color\": \"#EBF0F8\"}, \"line\": {\"color\": \"white\"}}, \"header\": {\"fill\": {\"color\": \"#C8D4E3\"}, \"line\": {\"color\": \"white\"}}, \"type\": \"table\"}]}, \"layout\": {\"annotationdefaults\": {\"arrowcolor\": \"#2a3f5f\", \"arrowhead\": 0, \"arrowwidth\": 1}, \"coloraxis\": {\"colorbar\": {\"outlinewidth\": 0, \"ticks\": \"\"}}, \"colorscale\": {\"diverging\": [[0, \"#8e0152\"], [0.1, \"#c51b7d\"], [0.2, \"#de77ae\"], [0.3, \"#f1b6da\"], [0.4, \"#fde0ef\"], [0.5, \"#f7f7f7\"], [0.6, \"#e6f5d0\"], [0.7, \"#b8e186\"], [0.8, \"#7fbc41\"], [0.9, \"#4d9221\"], [1, \"#276419\"]], \"sequential\": [[0.0, \"#0d0887\"], [0.1111111111111111, \"#46039f\"], [0.2222222222222222, \"#7201a8\"], [0.3333333333333333, \"#9c179e\"], [0.4444444444444444, \"#bd3786\"], [0.5555555555555556, \"#d8576b\"], [0.6666666666666666, \"#ed7953\"], [0.7777777777777778, \"#fb9f3a\"], [0.8888888888888888, \"#fdca26\"], [1.0, \"#f0f921\"]], \"sequentialminus\": [[0.0, \"#0d0887\"], [0.1111111111111111, \"#46039f\"], [0.2222222222222222, \"#7201a8\"], [0.3333333333333333, \"#9c179e\"], [0.4444444444444444, \"#bd3786\"], [0.5555555555555556, \"#d8576b\"], [0.6666666666666666, \"#ed7953\"], [0.7777777777777778, \"#fb9f3a\"], [0.8888888888888888, \"#fdca26\"], [1.0, \"#f0f921\"]]}, \"colorway\": [\"#636efa\", \"#EF553B\", \"#00cc96\", \"#ab63fa\", \"#FFA15A\", \"#19d3f3\", \"#FF6692\", \"#B6E880\", \"#FF97FF\", \"#FECB52\"], \"font\": {\"color\": \"#2a3f5f\"}, \"geo\": {\"bgcolor\": \"white\", \"lakecolor\": \"white\", \"landcolor\": \"#E5ECF6\", \"showlakes\": true, \"showland\": true, \"subunitcolor\": \"white\"}, \"hoverlabel\": {\"align\": \"left\"}, \"hovermode\": \"closest\", \"mapbox\": {\"style\": \"light\"}, \"paper_bgcolor\": \"white\", \"plot_bgcolor\": \"#E5ECF6\", \"polar\": {\"angularaxis\": {\"gridcolor\": \"white\", \"linecolor\": \"white\", \"ticks\": \"\"}, \"bgcolor\": \"#E5ECF6\", \"radialaxis\": {\"gridcolor\": \"white\", \"linecolor\": \"white\", \"ticks\": \"\"}}, \"scene\": {\"xaxis\": {\"backgroundcolor\": \"#E5ECF6\", \"gridcolor\": \"white\", \"gridwidth\": 2, \"linecolor\": \"white\", \"showbackground\": true, \"ticks\": \"\", \"zerolinecolor\": \"white\"}, \"yaxis\": {\"backgroundcolor\": \"#E5ECF6\", \"gridcolor\": \"white\", \"gridwidth\": 2, \"linecolor\": \"white\", \"showbackground\": true, \"ticks\": \"\", \"zerolinecolor\": \"white\"}, \"zaxis\": {\"backgroundcolor\": \"#E5ECF6\", \"gridcolor\": \"white\", \"gridwidth\": 2, \"linecolor\": \"white\", \"showbackground\": true, \"ticks\": \"\", \"zerolinecolor\": \"white\"}}, \"shapedefaults\": {\"line\": {\"color\": \"#2a3f5f\"}}, \"ternary\": {\"aaxis\": {\"gridcolor\": \"white\", \"linecolor\": \"white\", \"ticks\": \"\"}, \"baxis\": {\"gridcolor\": \"white\", \"linecolor\": \"white\", \"ticks\": \"\"}, \"bgcolor\": \"#E5ECF6\", \"caxis\": {\"gridcolor\": \"white\", \"linecolor\": \"white\", \"ticks\": \"\"}}, \"title\": {\"x\": 0.05}, \"xaxis\": {\"automargin\": true, \"gridcolor\": \"white\", \"linecolor\": \"white\", \"ticks\": \"\", \"title\": {\"standoff\": 15}, \"zerolinecolor\": \"white\", \"zerolinewidth\": 2}, \"yaxis\": {\"automargin\": true, \"gridcolor\": \"white\", \"linecolor\": \"white\", \"ticks\": \"\", \"title\": {\"standoff\": 15}, \"zerolinecolor\": \"white\", \"zerolinewidth\": 2}}}, \"title\": {\"text\": \"Home country of guests\"}},\n",
              "                        {\"responsive\": true}\n",
              "                    ).then(function(){\n",
              "                            \n",
              "var gd = document.getElementById('37f7590f-864c-491a-87bf-9c6dffde85b5');\n",
              "var x = new MutationObserver(function (mutations, observer) {{\n",
              "        var display = window.getComputedStyle(gd).display;\n",
              "        if (!display || display === 'none') {{\n",
              "            console.log([gd, 'removed!']);\n",
              "            Plotly.purge(gd);\n",
              "            observer.disconnect();\n",
              "        }}\n",
              "}});\n",
              "\n",
              "// Listen for the removal of the full notebook cells\n",
              "var notebookContainer = gd.closest('#notebook-container');\n",
              "if (notebookContainer) {{\n",
              "    x.observe(notebookContainer, {childList: true});\n",
              "}}\n",
              "\n",
              "// Listen for the clearing of the current output cell\n",
              "var outputEl = gd.closest('.output');\n",
              "if (outputEl) {{\n",
              "    x.observe(outputEl, {childList: true});\n",
              "}}\n",
              "\n",
              "                        })\n",
              "                };\n",
              "                \n",
              "            </script>\n",
              "        </div>\n",
              "</body>\n",
              "</html>"
            ]
          },
          "metadata": {
            "tags": []
          }
        }
      ]
    },
    {
      "cell_type": "markdown",
      "metadata": {
        "id": "xVDthWwOvVFO",
        "colab_type": "text"
      },
      "source": [
        "Highest number of bookings are done by the customers coming from Portugal."
      ]
    },
    {
      "cell_type": "code",
      "metadata": {
        "id": "r8PpZBO3y_iE",
        "colab_type": "code",
        "outputId": "078d6fee-18d4-45ac-b60a-709df7eb3f03",
        "colab": {
          "base_uri": "https://localhost:8080/",
          "height": 466
        }
      },
      "source": [
        "#Uni-variate Analysis\n",
        "plt.rcParams['figure.figsize'] = 8,8\n",
        "labels = df['customer_type'].value_counts().index.tolist()\n",
        "\n",
        "# Convert value counts to list\n",
        "sizes = df['customer_type'].value_counts().tolist()\n",
        "\n",
        "# As the name suggest, explode will determine how much each section is separated from each other \n",
        "explode = (0,0,0,0.1)\n",
        "\n",
        "# Determine colour of pie chart\n",
        "colors = ['lightskyblue','yellow','royalblue','#ADFF2F']\n",
        "# textprops will adjust the size of text\n",
        "plt.pie(sizes, explode=explode, labels=labels, colors=colors, autopct='%1.1f%%',startangle=90, textprops={'fontsize': 14})\n",
        "plt.show()"
      ],
      "execution_count": 0,
      "outputs": [
        {
          "output_type": "display_data",
          "data": {
            "image/png": "[encoded data removed]",
            "text/plain": [
              "<Figure size 576x576 with 1 Axes>"
            ]
          },
          "metadata": {
            "tags": []
          }
        }
      ]
    },
    {
      "cell_type": "markdown",
      "metadata": {
        "id": "4RxCmSf0zH0B",
        "colab_type": "text"
      },
      "source": [
        "About 75% of people are Transient Type.Only 0.5% bookings are in groups."
      ]
    },
    {
      "cell_type": "code",
      "metadata": {
        "id": "Oy2HJteQzVbZ",
        "colab_type": "code",
        "outputId": "daca9df5-9c10-4c9a-85e3-c9ff9fc659a6",
        "colab": {
          "base_uri": "https://localhost:8080/",
          "height": 261
        }
      },
      "source": [
        "#bi-variate analysis\n",
        "g = sns.catplot(\"is_canceled\", col=\"customer_type\", col_wrap=4,\n",
        "                data=df[df.customer_type.notnull()],\n",
        "                kind=\"count\", height=3.5, aspect=.8, \n",
        "                palette='pastel')\n",
        "\n",
        "\n",
        "plt.show()"
      ],
      "execution_count": 0,
      "outputs": [
        {
          "output_type": "display_data",
          "data": {
            "image/png": "[encoded data removed]",
            "text/plain": [
              "<Figure size 806.4x252 with 4 Axes>"
            ]
          },
          "metadata": {
            "tags": [],
            "needs_background": "light"
          }
        }
      ]
    },
    {
      "cell_type": "markdown",
      "metadata": {
        "id": "QF9ax1Jwzp1P",
        "colab_type": "text"
      },
      "source": [
        "Most number of cancellations are done by Transient type"
      ]
    },
    {
      "cell_type": "code",
      "metadata": {
        "id": "w85kZERfxV-e",
        "colab_type": "code",
        "outputId": "86ab5361-7b6e-4040-b945-2c9c1c4a2d14",
        "colab": {
          "base_uri": "https://localhost:8080/",
          "height": 368
        }
      },
      "source": [
        "#Multi-variate Analysis\n",
        "country_data = pd.DataFrame(df.loc[(df[\"is_canceled\"] == 0)|(df[\"is_canceled\"] == 1)][\"country\"].value_counts())\n",
        "country_data.rename(columns={\"country\": \"Number of Guests\"}, inplace=True)\n",
        "total_guests = country_data[\"Number of Guests\"].sum()\n",
        "country_data[\"Guests in %\"] = round(country_data[\"Number of Guests\"] / total_guests * 100, 2)\n",
        "country_data[\"country\"] = country_data.index\n",
        "sns.catplot(x=\"customer_type\", y=\"lead_time\", data=df,hue=\"is_canceled\");"
      ],
      "execution_count": 0,
      "outputs": [
        {
          "output_type": "display_data",
          "data": {
            "image/png": "[encoded data removed]",
            "text/plain": [
              "<Figure size 426.125x360 with 1 Axes>"
            ]
          },
          "metadata": {
            "tags": [],
            "needs_background": "light"
          }
        }
      ]
    },
    {
      "cell_type": "markdown",
      "metadata": {
        "id": "vAPNri1CveC1",
        "colab_type": "text"
      },
      "source": [
        "Transient-Party customer category shows very few cancellations even with a decent lead-time. The Transient customer type has the highest number of cancellations. Also it can be seen that more the no of days took as lead time, more cancellations were made."
      ]
    },
    {
      "cell_type": "code",
      "metadata": {
        "id": "PsMrMw8t-yDF",
        "colab_type": "code",
        "outputId": "1e455766-4f82-46aa-843c-d6adacfe4bf7",
        "colab": {
          "base_uri": "https://localhost:8080/",
          "height": 606
        }
      },
      "source": [
        "plt.figure(figsize = (10,10))\n",
        "sns.boxplot(x = \"customer_type\", y = \"stays_in_week_nights\", data = df, hue = \"hotel\", palette = 'Set1');"
      ],
      "execution_count": 0,
      "outputs": [
        {
          "output_type": "display_data",
          "data": {
            "image/png": "[encoded data removed]",
            "text/plain": [
              "<Figure size 720x720 with 1 Axes>"
            ]
          },
          "metadata": {
            "tags": [],
            "needs_background": "light"
          }
        }
      ]
    },
    {
      "cell_type": "code",
      "metadata": {
        "id": "hLuXZXZgdMTn",
        "colab_type": "code",
        "outputId": "2216a007-dee1-48c6-feb7-76ec61ac1c7a",
        "colab": {
          "base_uri": "https://localhost:8080/",
          "height": 280
        }
      },
      "source": [
        "#Creating a dataframe for the visualization sake and introducing \"total_guests\" feature\n",
        "new1 = pd.DataFrame()\n",
        "\n",
        "new1['total_guests'] = df['adults'] + df['children'] + df['babies']\n",
        "new1 = pd.concat([new1,df['is_canceled']],1)\n",
        "new1 = pd.concat([new1,df['hotel']],1)\n",
        "new1 = pd.concat([new1,df['is_repeated_guest']],1)\n",
        "\n",
        "\n",
        "ax= sns.barplot(x='is_canceled',y='total_guests' ,data=new1,hue='is_repeated_guest');\n"
      ],
      "execution_count": 0,
      "outputs": [
        {
          "output_type": "display_data",
          "data": {
            "image/png": "[encoded data removed]",
            "text/plain": [
              "<Figure size 432x288 with 1 Axes>"
            ]
          },
          "metadata": {
            "tags": [],
            "needs_background": "light"
          }
        }
      ]
    },
    {
      "cell_type": "markdown",
      "metadata": {
        "id": "QP56kQeJu3tK",
        "colab_type": "text"
      },
      "source": [
        "More number of repeated guests cancel bookings."
      ]
    },
    {
      "cell_type": "code",
      "metadata": {
        "id": "6s4sIhdeys9H",
        "colab_type": "code",
        "outputId": "761fc128-dace-422c-ee94-1033694edff5",
        "colab": {
          "base_uri": "https://localhost:8080/",
          "height": 415
        }
      },
      "source": [
        "new = df[['reserved_room_type','is_canceled','assigned_room_type']].copy()\n",
        "new['total_nights_stayed'] = df['stays_in_weekend_nights'] + df['stays_in_week_nights']\n",
        "new = pd.concat([new,df['is_repeated_guest']],1)\n",
        "plt.figure(figsize=(20,8))\n",
        "ax = sns.countplot(x=\"total_nights_stayed\", data = new, palette=\"tab10\",hue='is_repeated_guest')\n",
        "plt.title('Total Nights Stayed')\n",
        "plt.xlabel('total_nights_stayed')\n",
        "plt.ylabel('Total Count')\n",
        "for p in ax.patches:\n",
        "    ax.annotate((p.get_height()),(p.get_x()-0.1 , p.get_height()+100)) "
      ],
      "execution_count": 0,
      "outputs": [
        {
          "output_type": "display_data",
          "data": {
            "image/png": "[encoded data removed]",
            "text/plain": [
              "<Figure size 1440x576 with 1 Axes>"
            ]
          },
          "metadata": {
            "tags": [],
            "needs_background": "light"
          }
        }
      ]
    },
    {
      "cell_type": "markdown",
      "metadata": {
        "id": "9JpWQOOM1tWl",
        "colab_type": "text"
      },
      "source": [
        "Most of the customers on average stayed from about 1-4 days. Of those very few were repeated customers. It seems that repeated guests do not find hotel/ resort promising. Management system should focus on repeated guests as well."
      ]
    },
    {
      "cell_type": "code",
      "metadata": {
        "id": "fCiGle_KxoB8",
        "colab_type": "code",
        "colab": {}
      },
      "source": [
        "new['Given_same_roomtype'] = 0\n",
        "#import seaborn as sb\n",
        "new.loc[(df.reserved_room_type == 'A') & (df.assigned_room_type == 'A'), 'Given_same_roomtype'] = 1\n",
        "new.loc[(df.reserved_room_type == 'B') & (df.assigned_room_type == 'B'), 'Given_same_roomtype'] = 1\n",
        "new.loc[(df.reserved_room_type == 'C') & (df.assigned_room_type == 'C'), 'Given_same_roomtype'] = 1\n",
        "new.loc[(df.reserved_room_type == 'D') & (df.assigned_room_type == 'D'), 'Given_same_roomtype'] = 1\n",
        "new.loc[(df.reserved_room_type == 'E') & (df.assigned_room_type == 'E'), 'Given_same_roomtype'] = 1\n",
        "new.loc[(df.reserved_room_type == 'F') & (df.assigned_room_type == 'F'), 'Given_same_roomtype'] = 1\n",
        "new.loc[(df.reserved_room_type == 'G') & (df.assigned_room_type == 'G'), 'Given_same_roomtype'] = 1\n",
        "new.loc[(df.reserved_room_type == 'H') & (df.assigned_room_type == 'H'), 'Given_same_roomtype'] = 1\n",
        "new.loc[(df.reserved_room_type == 'L') & (df.assigned_room_type == 'L'), 'Given_same_roomtype'] = 1\n",
        "new.loc[(df.reserved_room_type == 'P') & (df.assigned_room_type == 'P'), 'Given_same_roomtype'] = 1\n",
        "new\n",
        "new = pd.concat([new,new1['total_guests']],1)\n",
        "new = pd.concat([new,df['is_repeated_guest']],1)\n",
        "new = pd.concat([new,df['customer_type']],1)\n",
        "new = pd.concat([new,df['lead_time']],1)\n",
        "new = pd.concat([new,df['arrival_date_year']],1)\n",
        "new['total_nights_stayed'] = df['stays_in_weekend_nights'] + df['stays_in_week_nights']\n"
      ],
      "execution_count": 0,
      "outputs": []
    },
    {
      "cell_type": "code",
      "metadata": {
        "id": "HNZ52QVs299o",
        "colab_type": "code",
        "outputId": "3716bfbb-5ea4-42c1-feb3-f93547a6e565",
        "colab": {
          "base_uri": "https://localhost:8080/",
          "height": 498
        }
      },
      "source": [
        "ax= sns.countplot(data = new, x = 'Given_same_roomtype', hue = 'is_canceled')\n",
        "\n",
        "plt.show()"
      ],
      "execution_count": 0,
      "outputs": [
        {
          "output_type": "display_data",
          "data": {
            "image/png": "[encoded data removed]",
            "text/plain": [
              "<Figure size 576x576 with 1 Axes>"
            ]
          },
          "metadata": {
            "tags": [],
            "needs_background": "light"
          }
        }
      ]
    },
    {
      "cell_type": "markdown",
      "metadata": {
        "id": "BBMs1s0I4b2F",
        "colab_type": "text"
      },
      "source": [
        "As we can see, more number of customers those have been assigned the same room type which they reserved did no cancelations.\n",
        "Also even if they are given the same room type there are still cancellations which are in significant numbers. This can be due to other reasons which are not taken into consideration."
      ]
    },
    {
      "cell_type": "markdown",
      "metadata": {
        "id": "QswrDIKl-Zmz",
        "colab_type": "text"
      },
      "source": [
        "3. Seasonality"
      ]
    },
    {
      "cell_type": "code",
      "metadata": {
        "id": "H7FRO9QP6lni",
        "colab_type": "code",
        "outputId": "8713c886-b2c0-42b3-a1a0-eb160335a310",
        "colab": {}
      },
      "source": [
        "ordered_months = [\"January\", \"February\", \"March\", \"April\", \"May\", \"June\", \n",
        "          \"July\", \"August\", \"September\", \"October\", \"November\", \"December\"]\n",
        "df[\"arrival_date_month\"] = pd.Categorical(df[\"arrival_date_month\"], categories=ordered_months, ordered=True)\n",
        "\n",
        "# barplot with standard deviation:\n",
        "plt.figure(figsize=(12, 8))\n",
        "sns.lineplot(x = \"arrival_date_month\", y=\"adr\", hue=\"hotel\", data=df, \n",
        "             ci=\"sd\", size=\"hotel\", sizes=(2.5, 2.5))\n",
        "plt.title(\"Room price per night and person over the year\", fontsize=16)\n",
        "plt.xlabel(\"Month\", fontsize=16)\n",
        "plt.xticks(rotation=45)\n",
        "plt.ylabel(\"Price [EUR]\", fontsize=16)\n",
        "plt.show()"
      ],
      "execution_count": 0,
      "outputs": [
        {
          "output_type": "display_data",
          "data": {
            "image/png": "[encoded data removed]",
            "text/plain": [
              "<Figure size 864x576 with 1 Axes>"
            ]
          },
          "metadata": {
            "tags": [],
            "needs_background": "light"
          }
        }
      ]
    },
    {
      "cell_type": "markdown",
      "metadata": {
        "id": "YzD_d3ZQdVlY",
        "colab_type": "text"
      },
      "source": [
        "Outlier Detection"
      ]
    },
    {
      "cell_type": "code",
      "metadata": {
        "id": "WgDBderwOd0a",
        "colab_type": "code",
        "outputId": "9e6fbad7-999b-4d0f-d318-23c2cf8242f8",
        "colab": {
          "base_uri": "https://localhost:8080/",
          "height": 577
        }
      },
      "source": [
        "plt.figure(figsize=(20,10))\n",
        "plt.subplot(1,3,1)\n",
        "sns.boxplot(y= df['lead_time'])\n",
        "\n",
        "plt.subplot(1,3,2)\n",
        "sns.boxplot(y=df['adr'])\n",
        "\n",
        "plt.subplot(1,3,3)\n",
        "sns.boxplot(y=df['stays_in_week_nights'])\n",
        "plt.show()"
      ],
      "execution_count": 0,
      "outputs": [
        {
          "output_type": "display_data",
          "data": {
            "image/png": "[encoded data removed]",
            "text/plain": [
              "<Figure size 1440x720 with 3 Axes>"
            ]
          },
          "metadata": {
            "tags": [],
            "needs_background": "light"
          }
        }
      ]
    },
    {
      "cell_type": "code",
      "metadata": {
        "id": "DUsrodj2ciUV",
        "colab_type": "code",
        "colab": {}
      },
      "source": [
        "def outliers_IQR(data, col):\n",
        "    lower_quartile = data[col].quantile(0.25)\n",
        "    upper_quartile = data[col].quantile(0.75)\n",
        "    IQR = upper_quartile - lower_quartile\n",
        "    outlier_thresh = 1.5 * IQR\n",
        "    return data[data[col].between((lower_quartile - outlier_thresh), (upper_quartile + outlier_thresh))]\n",
        "df = outliers_IQR(df, 'lead_time')\n",
        "df = outliers_IQR(df, 'stays_in_weekend_nights')\n",
        "df = outliers_IQR(df, 'stays_in_week_nights')\n",
        "df = outliers_IQR(df, 'days_in_waiting_list')\n",
        "df = outliers_IQR(df, 'adr')"
      ],
      "execution_count": 0,
      "outputs": []
    },
    {
      "cell_type": "code",
      "metadata": {
        "id": "9xna2GuwdLbu",
        "colab_type": "code",
        "outputId": "889e9b71-3b1d-49a3-e4e1-eedd23a2f65a",
        "colab": {
          "base_uri": "https://localhost:8080/",
          "height": 577
        }
      },
      "source": [
        "plt.figure(figsize=(20,10))\n",
        "plt.subplot(1,3,1)\n",
        "sns.boxplot(y= df['lead_time'])\n",
        "\n",
        "plt.subplot(1,3,2)\n",
        "sns.boxplot(y=df['adr'])\n",
        "\n",
        "plt.subplot(1,3,3)\n",
        "sns.boxplot(y=df['stays_in_week_nights'])\n",
        "plt.show()"
      ],
      "execution_count": 0,
      "outputs": [
        {
          "output_type": "display_data",
          "data": {
            "image/png": "[encoded data removed]",
            "text/plain": [
              "<Figure size 1440x720 with 3 Axes>"
            ]
          },
          "metadata": {
            "tags": [],
            "needs_background": "light"
          }
        }
      ]
    },
    {
      "cell_type": "code",
      "metadata": {
        "id": "hWjiwAoZoHd0",
        "colab_type": "code",
        "colab": {}
      },
      "source": [
        "df['total_guest']=df['adults']+df['babies']+df['children']\n",
        "df = df.drop(['country','reservation_status_date','adults','babies','children'],axis =1)\n",
        "df_dummies = pd.get_dummies(df,columns = ['hotel','arrival_date_month','meal','market_segment','distribution_channel','reserved_room_type','assigned_room_type','deposit_type','customer_type','reservation_status'])"
      ],
      "execution_count": 0,
      "outputs": []
    },
    {
      "cell_type": "markdown",
      "metadata": {
        "id": "JXDCXcmxCQ3Q",
        "colab_type": "text"
      },
      "source": [
        "## Feature Selection"
      ]
    },
    {
      "cell_type": "code",
      "metadata": {
        "id": "jcJxzO2folAT",
        "colab_type": "code",
        "outputId": "e3eb1be0-6781-4331-8187-183e5ade970e",
        "colab": {
          "base_uri": "https://localhost:8080/",
          "height": 1000
        }
      },
      "source": [
        "X = df_dummies.drop(columns=['is_canceled'])\n",
        "Y = df_dummies['is_canceled'].values\n",
        "X2 = sm.add_constant(X)\n",
        "est = sm.OLS(Y, X2)\n",
        "est2 = est.fit()\n",
        "print(est2.summary())"
      ],
      "execution_count": 0,
      "outputs": [
        {
          "output_type": "stream",
          "text": [
            "                            OLS Regression Results                            \n",
            "==============================================================================\n",
            "Dep. Variable:                      y   R-squared:                       1.000\n",
            "Model:                            OLS   Adj. R-squared:                  1.000\n",
            "Method:                 Least Squares   F-statistic:                 3.539e+27\n",
            "Date:                Wed, 29 Apr 2020   Prob (F-statistic):               0.00\n",
            "Time:                        20:30:47   Log-Likelihood:             2.8892e+06\n",
            "No. Observations:              105592   AIC:                        -5.778e+06\n",
            "Df Residuals:                  105523   BIC:                        -5.778e+06\n",
            "Df Model:                          68                                         \n",
            "Covariance Type:            nonrobust                                         \n",
            "==================================================================================================\n",
            "                                     coef    std err          t      P>|t|      [0.025      0.975]\n",
            "--------------------------------------------------------------------------------------------------\n",
            "const                              0.2078   1.36e-12   1.53e+11      0.000       0.208       0.208\n",
            "lead_time                      -9.645e-17    1.4e-17     -6.909      0.000   -1.24e-16   -6.91e-17\n",
            "arrival_date_year              -3.207e-16   2.15e-15     -0.149      0.882   -4.54e-15     3.9e-15\n",
            "arrival_date_week_number       -1.067e-15   2.52e-15     -0.423      0.672      -6e-15    3.87e-15\n",
            "arrival_date_day_of_month       1.366e-16   3.78e-16      0.361      0.718   -6.05e-16    8.78e-16\n",
            "stays_in_weekend_nights         1.976e-16    1.2e-15      0.164      0.870   -2.16e-15    2.56e-15\n",
            "stays_in_week_nights            -2.68e-17   7.66e-16     -0.035      0.972   -1.53e-15    1.47e-15\n",
            "is_repeated_guest               5.881e-16   6.28e-15      0.094      0.925   -1.17e-14    1.29e-14\n",
            "previous_cancellations         -9.527e-17   1.17e-15     -0.081      0.935   -2.39e-15     2.2e-15\n",
            "previous_bookings_not_canceled -3.112e-17   7.19e-16     -0.043      0.965   -1.44e-15    1.38e-15\n",
            "booking_changes                 3.725e-16   1.61e-15      0.232      0.817   -2.78e-15    3.52e-15\n",
            "agent                          -1.927e-16   1.37e-17    -14.061      0.000    -2.2e-16   -1.66e-16\n",
            "days_in_waiting_list           -7.686e-15   4.88e-26  -1.58e+11      0.000   -7.69e-15   -7.69e-15\n",
            "adr                              1.71e-17   3.67e-17      0.465      0.642   -5.49e-17    8.91e-17\n",
            "required_car_parking_spaces     1.135e-15   4.23e-15      0.268      0.789   -7.16e-15    9.43e-15\n",
            "total_of_special_requests      -2.851e-16   1.42e-15     -0.201      0.841   -3.07e-15     2.5e-15\n",
            "total_guest                    -2.721e-16   1.65e-15     -0.165      0.869   -3.51e-15    2.96e-15\n",
            "hotel_City Hotel                   0.1039   6.81e-13   1.52e+11      0.000       0.104       0.104\n",
            "hotel_Resort Hotel                 0.1039   6.81e-13   1.53e+11      0.000       0.104       0.104\n",
            "arrival_date_month_April           0.0173   1.05e-13   1.66e+11      0.000       0.017       0.017\n",
            "arrival_date_month_August          0.0173   1.21e-13   1.43e+11      0.000       0.017       0.017\n",
            "arrival_date_month_December        0.0173    1.5e-13   1.15e+11      0.000       0.017       0.017\n",
            "arrival_date_month_February        0.0173   1.02e-13    1.7e+11      0.000       0.017       0.017\n",
            "arrival_date_month_January         0.0173   1.03e-13   1.69e+11      0.000       0.017       0.017\n",
            "arrival_date_month_July            0.0173   1.16e-13    1.5e+11      0.000       0.017       0.017\n",
            "arrival_date_month_June            0.0173   1.12e-13   1.55e+11      0.000       0.017       0.017\n",
            "arrival_date_month_March           0.0173   1.03e-13   1.68e+11      0.000       0.017       0.017\n",
            "arrival_date_month_May             0.0173   1.08e-13   1.61e+11      0.000       0.017       0.017\n",
            "arrival_date_month_November        0.0173   1.43e-13   1.21e+11      0.000       0.017       0.017\n",
            "arrival_date_month_October         0.0173   1.35e-13   1.29e+11      0.000       0.017       0.017\n",
            "arrival_date_month_September       0.0173   1.27e-13   1.36e+11      0.000       0.017       0.017\n",
            "meal_BB                            0.0416   2.73e-13   1.52e+11      0.000       0.042       0.042\n",
            "meal_FB                            0.0416   2.72e-13   1.53e+11      0.000       0.042       0.042\n",
            "meal_HB                            0.0416   2.72e-13   1.53e+11      0.000       0.042       0.042\n",
            "meal_SC                            0.0416   2.73e-13   1.52e+11      0.000       0.042       0.042\n",
            "meal_Undefined                     0.0416   2.73e-13   1.52e+11      0.000       0.042       0.042\n",
            "market_segment_Aviation            0.0260   1.75e-13   1.48e+11      0.000       0.026       0.026\n",
            "market_segment_Complementary       0.0260   1.75e-13   1.49e+11      0.000       0.026       0.026\n",
            "market_segment_Corporate           0.0260   1.74e-13   1.49e+11      0.000       0.026       0.026\n",
            "market_segment_Direct              0.0260   1.74e-13   1.49e+11      0.000       0.026       0.026\n",
            "market_segment_Groups              0.0260   1.74e-13   1.49e+11      0.000       0.026       0.026\n",
            "market_segment_Offline TA/TO       0.0260   1.74e-13   1.49e+11      0.000       0.026       0.026\n",
            "market_segment_Online TA           0.0260   1.74e-13   1.49e+11      0.000       0.026       0.026\n",
            "market_segment_Undefined           0.0260   3.06e-13   8.49e+10      0.000       0.026       0.026\n",
            "distribution_channel_Corporate     0.0416   2.75e-13   1.51e+11      0.000       0.042       0.042\n",
            "distribution_channel_Direct        0.0416   2.75e-13   1.51e+11      0.000       0.042       0.042\n",
            "distribution_channel_GDS           0.0416   2.76e-13   1.51e+11      0.000       0.042       0.042\n",
            "distribution_channel_TA/TO         0.0416   2.75e-13   1.51e+11      0.000       0.042       0.042\n",
            "distribution_channel_Undefined     0.0416   3.09e-13   1.34e+11      0.000       0.042       0.042\n",
            "reserved_room_type_A               0.0210   1.39e-13   1.51e+11      0.000       0.021       0.021\n",
            "reserved_room_type_B               0.0210    1.4e-13    1.5e+11      0.000       0.021       0.021\n",
            "reserved_room_type_C               0.0210   1.39e-13    1.5e+11      0.000       0.021       0.021\n",
            "reserved_room_type_D               0.0210   1.39e-13   1.51e+11      0.000       0.021       0.021\n",
            "reserved_room_type_E               0.0210   1.39e-13   1.51e+11      0.000       0.021       0.021\n",
            "reserved_room_type_F               0.0210    1.4e-13    1.5e+11      0.000       0.021       0.021\n",
            "reserved_room_type_G               0.0210    1.4e-13    1.5e+11      0.000       0.021       0.021\n",
            "reserved_room_type_H               0.0210   1.41e-13   1.48e+11      0.000       0.021       0.021\n",
            "reserved_room_type_L               0.0210   1.86e-13   1.13e+11      0.000       0.021       0.021\n",
            "reserved_room_type_P               0.0191   1.63e-13   1.17e+11      0.000       0.019       0.019\n",
            "assigned_room_type_A               0.0172   1.17e-13   1.47e+11      0.000       0.017       0.017\n",
            "assigned_room_type_B               0.0172   1.17e-13   1.47e+11      0.000       0.017       0.017\n",
            "assigned_room_type_C               0.0172   1.17e-13   1.47e+11      0.000       0.017       0.017\n",
            "assigned_room_type_D               0.0172   1.17e-13   1.47e+11      0.000       0.017       0.017\n",
            "assigned_room_type_E               0.0172   1.17e-13   1.47e+11      0.000       0.017       0.017\n",
            "assigned_room_type_F               0.0172   1.17e-13   1.47e+11      0.000       0.017       0.017\n",
            "assigned_room_type_G               0.0172   1.17e-13   1.47e+11      0.000       0.017       0.017\n",
            "assigned_room_type_H               0.0172   1.19e-13   1.44e+11      0.000       0.017       0.017\n",
            "assigned_room_type_I               0.0172   1.18e-13   1.45e+11      0.000       0.017       0.017\n",
            "assigned_room_type_K               0.0172   1.19e-13   1.45e+11      0.000       0.017       0.017\n",
            "assigned_room_type_L               0.0172   3.37e-13   5.09e+10      0.000       0.017       0.017\n",
            "assigned_room_type_P               0.0191   1.63e-13   1.17e+11      0.000       0.019       0.019\n",
            "deposit_type_No Deposit            0.0693   4.54e-13   1.52e+11      0.000       0.069       0.069\n",
            "deposit_type_Non Refund            0.0693   4.54e-13   1.53e+11      0.000       0.069       0.069\n",
            "deposit_type_Refundable            0.0693   4.55e-13   1.52e+11      0.000       0.069       0.069\n",
            "customer_type_Contract             0.0519    3.4e-13   1.53e+11      0.000       0.052       0.052\n",
            "customer_type_Group                0.0519   3.41e-13   1.52e+11      0.000       0.052       0.052\n",
            "customer_type_Transient            0.0519   3.41e-13   1.52e+11      0.000       0.052       0.052\n",
            "customer_type_Transient-Party      0.0519   3.41e-13   1.53e+11      0.000       0.052       0.052\n",
            "reservation_status_Canceled        0.4026   4.54e-13   8.86e+11      0.000       0.403       0.403\n",
            "reservation_status_Check-Out      -0.5974   4.54e-13  -1.32e+12      0.000      -0.597      -0.597\n",
            "reservation_status_No-Show         0.4026   4.54e-13   8.86e+11      0.000       0.403       0.403\n",
            "==============================================================================\n",
            "Omnibus:                       11.491   Durbin-Watson:                   0.012\n",
            "Prob(Omnibus):                  0.003   Jarque-Bera (JB):               11.463\n",
            "Skew:                          -0.022   Prob(JB):                      0.00324\n",
            "Kurtosis:                       2.976   Cond. No.                     1.00e+16\n",
            "==============================================================================\n",
            "\n",
            "Warnings:\n",
            "[1] Standard Errors assume that the covariance matrix of the errors is correctly specified.\n",
            "[2] The smallest eigenvalue is 4.31e-21. This might indicate that there are\n",
            "strong multicollinearity problems or that the design matrix is singular.\n"
          ],
          "name": "stdout"
        }
      ]
    },
    {
      "cell_type": "code",
      "metadata": {
        "id": "BWSWKV0rouDz",
        "colab_type": "code",
        "colab": {}
      },
      "source": [
        "X = X.drop(columns=['arrival_date_year', 'arrival_date_week_number',\n",
        "       'arrival_date_day_of_month', 'stays_in_weekend_nights',\n",
        "       'stays_in_week_nights', 'is_repeated_guest', 'previous_cancellations',\n",
        "       'previous_bookings_not_canceled', 'booking_changes','required_car_parking_spaces',\n",
        "       'total_of_special_requests', 'total_guest','reservation_status_Canceled','reservation_status_Check-Out',\n",
        "       'reservation_status_No-Show'])"
      ],
      "execution_count": 0,
      "outputs": []
    },
    {
      "cell_type": "markdown",
      "metadata": {
        "id": "Qyiclc76CCFA",
        "colab_type": "text"
      },
      "source": [
        "## Training and Testing split"
      ]
    },
    {
      "cell_type": "code",
      "metadata": {
        "id": "jPEOrWesxVa9",
        "colab_type": "code",
        "colab": {}
      },
      "source": [
        "x_train, x_test, y_train, y_test = train_test_split(X,Y,test_size = 0.3,random_state=0)"
      ],
      "execution_count": 0,
      "outputs": []
    },
    {
      "cell_type": "markdown",
      "metadata": {
        "id": "Dh_zOtNeCHFm",
        "colab_type": "text"
      },
      "source": [
        "## Base Models"
      ]
    },
    {
      "cell_type": "code",
      "metadata": {
        "id": "AHWfvKMI1JqB",
        "colab_type": "code",
        "colab": {}
      },
      "source": [
        "accuracies = {}"
      ],
      "execution_count": 0,
      "outputs": []
    },
    {
      "cell_type": "code",
      "metadata": {
        "id": "OXTC4Zj60_Da",
        "colab_type": "code",
        "outputId": "f5ebc2bb-3606-42ae-deef-e9e2292eaed1",
        "colab": {
          "base_uri": "https://localhost:8080/"
        }
      },
      "source": [
        "\n",
        "lr = LogisticRegression(max_iter=10000)\n",
        "lr.fit(x_train,y_train)\n",
        "acc = lr.score(x_test,y_test)*100\n",
        "\n",
        "accuracies['Logistic Regression'] = acc\n",
        "print(\"Test Accuracy {:.2f}%\".format(acc))\n"
      ],
      "execution_count": 0,
      "outputs": [
        {
          "output_type": "stream",
          "text": [
            "Test Accuracy 75.60%\n"
          ],
          "name": "stdout"
        }
      ]
    },
    {
      "cell_type": "code",
      "metadata": {
        "id": "ONh-34jQ2h_y",
        "colab_type": "code",
        "outputId": "cf56e83b-69cc-4232-c1eb-9638e2c93b64",
        "colab": {
          "base_uri": "https://localhost:8080/"
        }
      },
      "source": [
        "from sklearn.naive_bayes import GaussianNB\n",
        "nb_G = GaussianNB()\n",
        "nb_G = nb_G.fit(x_train, y_train)\n",
        "acc = nb_G.score(x_test,y_test)*100\n",
        "\n",
        "accuracies['Naive Bayes'] = acc\n",
        "print(\"Test Accuracy {:.2f}%\".format(acc))"
      ],
      "execution_count": 0,
      "outputs": [
        {
          "output_type": "stream",
          "text": [
            "Test Accuracy 65.68%\n"
          ],
          "name": "stdout"
        }
      ]
    },
    {
      "cell_type": "code",
      "metadata": {
        "id": "eqth5amv21u4",
        "colab_type": "code",
        "outputId": "40615a38-0718-4fc9-9c63-413b134101f3",
        "colab": {
          "base_uri": "https://localhost:8080/"
        }
      },
      "source": [
        "from sklearn.neighbors import KNeighborsClassifier\n",
        "knn = KNeighborsClassifier()  \n",
        "knn = knn.fit(x_train, y_train)\n",
        "acc = knn.score(x_test,y_test)*100\n",
        "\n",
        "accuracies['KNN'] = acc\n",
        "print(\"Test Accuracy {:.2f}%\".format(acc))"
      ],
      "execution_count": 0,
      "outputs": [
        {
          "output_type": "stream",
          "text": [
            "Test Accuracy 74.36%\n"
          ],
          "name": "stdout"
        }
      ]
    },
    {
      "cell_type": "code",
      "metadata": {
        "id": "EtYlYaoo3kjW",
        "colab_type": "code",
        "outputId": "107cd821-e457-4e1b-f024-75fd706e8872",
        "colab": {
          "base_uri": "https://localhost:8080/"
        }
      },
      "source": [
        "from sklearn.ensemble import RandomForestClassifier\n",
        "rf = RandomForestClassifier()\n",
        "rf.fit(x_train, y_train)\n",
        "acc = rf.score(x_test,y_test)*100\n",
        "\n",
        "accuracies['RF'] = acc\n",
        "print(\"Test Accuracy {:.2f}%\".format(acc))"
      ],
      "execution_count": 0,
      "outputs": [
        {
          "output_type": "stream",
          "text": [
            "Test Accuracy 81.38%\n"
          ],
          "name": "stdout"
        }
      ]
    },
    {
      "cell_type": "code",
      "metadata": {
        "id": "TcEQ72z33lD3",
        "colab_type": "code",
        "outputId": "3b879e55-ac4f-41e5-b9c5-3a4c6d5eb468",
        "colab": {
          "base_uri": "https://localhost:8080/"
        }
      },
      "source": [
        "from sklearn.ensemble import GradientBoostingClassifier\n",
        "gradient_boosting = GradientBoostingClassifier()\n",
        "gradient_boosting.fit(x_train, y_train)\n",
        "acc = gradient_boosting.score(x_test,y_test)*100\n",
        "\n",
        "accuracies['GB'] = acc\n",
        "print(\"Test Accuracy {:.2f}%\".format(acc))"
      ],
      "execution_count": 0,
      "outputs": [
        {
          "output_type": "stream",
          "text": [
            "Test Accuracy 77.24%\n"
          ],
          "name": "stdout"
        }
      ]
    },
    {
      "cell_type": "code",
      "metadata": {
        "id": "mXd6jGeJ35Al",
        "colab_type": "code",
        "outputId": "dfe4f7a6-4e18-4579-c684-d977152b2d82",
        "colab": {
          "base_uri": "https://localhost:8080/"
        }
      },
      "source": [
        "sns.set_style(\"whitegrid\")\n",
        "plt.figure(figsize=(16,5))\n",
        "plt.yticks(np.arange(0,100,10))\n",
        "plt.ylabel(\"Accuracy %\")\n",
        "plt.xlabel(\"Algorithms\")\n",
        "sns.barplot(x=list(accuracies.keys()), y=list(accuracies.values()), palette='pastel')\n",
        "plt.show()"
      ],
      "execution_count": 0,
      "outputs": [
        {
          "output_type": "display_data",
          "data": {
            "image/png": "[encoded data removed]",
            "text/plain": [
              "<Figure size 1152x360 with 1 Axes>"
            ]
          },
          "metadata": {
            "tags": []
          }
        }
      ]
    },
    {
      "cell_type": "markdown",
      "metadata": {
        "id": "XqEGMBrSCVrb",
        "colab_type": "text"
      },
      "source": [
        "## Logistic"
      ]
    },
    {
      "cell_type": "code",
      "metadata": {
        "colab_type": "code",
        "id": "9gsF1XHY_DHd",
        "outputId": "26842bcc-930c-415f-a034-d5ff884d55dd",
        "colab": {
          "base_uri": "https://localhost:8080/",
          "height": 98
        }
      },
      "source": [
        "lr = LogisticRegression(max_iter=10000)\n",
        "lr.fit(x_train,y_train)"
      ],
      "execution_count": 0,
      "outputs": [
        {
          "output_type": "execute_result",
          "data": {
            "text/plain": [
              "LogisticRegression(C=1.0, class_weight=None, dual=False, fit_intercept=True,\n",
              "                   intercept_scaling=1, l1_ratio=None, max_iter=10000,\n",
              "                   multi_class='auto', n_jobs=None, penalty='l2',\n",
              "                   random_state=None, solver='lbfgs', tol=0.0001, verbose=0,\n",
              "                   warm_start=False)"
            ]
          },
          "metadata": {
            "tags": []
          },
          "execution_count": 117
        }
      ]
    },
    {
      "cell_type": "code",
      "metadata": {
        "colab_type": "code",
        "id": "NCR_Ys05Ax2I",
        "outputId": "ea8ea543-cac5-496c-c7ee-b7a2ccdaa7ee",
        "colab": {
          "base_uri": "https://localhost:8080/",
          "height": 261
        }
      },
      "source": [
        "predictions = lr.predict(x_test)\n",
        "print(\"\\n Confusion Matrix \\n\",confusion_matrix(y_test,predictions))\n",
        "print(\"\\n Classification Report \\n\",classification_report(y_test,predictions))"
      ],
      "execution_count": 0,
      "outputs": [
        {
          "output_type": "stream",
          "text": [
            "\n",
            " Confusion Matrix \n",
            " [[19489   909]\n",
            " [ 6820  4460]]\n",
            "\n",
            " Classification Report \n",
            "               precision    recall  f1-score   support\n",
            "\n",
            "           0       0.74      0.96      0.83     20398\n",
            "           1       0.83      0.40      0.54     11280\n",
            "\n",
            "    accuracy                           0.76     31678\n",
            "   macro avg       0.79      0.68      0.69     31678\n",
            "weighted avg       0.77      0.76      0.73     31678\n",
            "\n"
          ],
          "name": "stdout"
        }
      ]
    },
    {
      "cell_type": "code",
      "metadata": {
        "colab_type": "code",
        "id": "vPj6cZnYAxzu",
        "outputId": "ff30467a-b1f7-4bea-e5a4-353ebf0ffee9",
        "colab": {
          "base_uri": "https://localhost:8080/",
          "height": 66
        }
      },
      "source": [
        "param_grid = { 'C':[0.1,0.5,1.0,5.0,10.0],'penalty':['l1','l2'], 'max_iter': [10000]} \n",
        "grid = GridSearchCV(LogisticRegression(),param_grid,n_jobs=3)\n",
        "grid = grid.fit(x_train,y_train)\n",
        "grid_predictions = grid.predict(x_test)\n",
        "print(\"\\n Best Parameters \\n\",grid.best_params_)"
      ],
      "execution_count": 0,
      "outputs": [
        {
          "output_type": "stream",
          "text": [
            "\n",
            " Best Parameters \n",
            " {'C': 0.1, 'max_iter': 10000, 'penalty': 'l2'}\n"
          ],
          "name": "stdout"
        }
      ]
    },
    {
      "cell_type": "code",
      "metadata": {
        "id": "kMNGkwENuDbr",
        "colab_type": "code",
        "outputId": "eb201f2b-8444-4e3e-f915-42900952483c",
        "colab": {
          "base_uri": "https://localhost:8080/",
          "height": 196
        }
      },
      "source": [
        "print(\"\\n Classification Report \\n\",classification_report(y_test,grid_predictions))"
      ],
      "execution_count": 0,
      "outputs": [
        {
          "output_type": "stream",
          "text": [
            "\n",
            " Classification Report \n",
            "               precision    recall  f1-score   support\n",
            "\n",
            "           0       0.74      0.96      0.84     20398\n",
            "           1       0.84      0.40      0.54     11280\n",
            "\n",
            "    accuracy                           0.76     31678\n",
            "   macro avg       0.79      0.68      0.69     31678\n",
            "weighted avg       0.77      0.76      0.73     31678\n",
            "\n"
          ],
          "name": "stdout"
        }
      ]
    },
    {
      "cell_type": "code",
      "metadata": {
        "colab_type": "code",
        "id": "2uL2g4gzYbHN",
        "colab": {}
      },
      "source": [
        "lrc = confusion_matrix(y_test,grid_predictions)"
      ],
      "execution_count": 0,
      "outputs": []
    },
    {
      "cell_type": "code",
      "metadata": {
        "colab_type": "code",
        "id": "dXRmGnocAw-D",
        "colab": {}
      },
      "source": [
        "lr = LogisticRegression(C=1.0, penalty='l2', max_iter=10000)\n",
        "lr.fit(x_train,y_train)\n",
        "lr_pred = lr.predict(x_test)\n",
        "pkl_filename = \"lr.pkl\"\n",
        "with open(pkl_filename, 'wb') as file:\n",
        "  pickle.dump(lr,file)"
      ],
      "execution_count": 0,
      "outputs": []
    },
    {
      "cell_type": "code",
      "metadata": {
        "colab_type": "code",
        "id": "AM7ada7_FC9u",
        "colab": {}
      },
      "source": [
        "lr_1 = LogisticRegression(C=0.1, penalty='l2', max_iter=10000 )\n",
        "lr_1.fit(x_train,y_train)\n",
        "pr_lr = lr_1.predict(x_test)\n",
        "pkl_filename = \"lr1.pkl\"\n",
        "with open(pkl_filename, 'wb') as file:\n",
        "  pickle.dump(lr_1,file)"
      ],
      "execution_count": 0,
      "outputs": []
    },
    {
      "cell_type": "code",
      "metadata": {
        "colab_type": "code",
        "id": "BK-OZZsRFDKI",
        "outputId": "92173b07-ffd1-4b8b-b572-e56a888d53e8",
        "colab": {
          "base_uri": "https://localhost:8080/",
          "height": 82
        }
      },
      "source": [
        "lr_2 = LogisticRegression(C=5.0, penalty='none', max_iter=10000)\n",
        "lr_2.fit(x_train,y_train)\n",
        "predictions = lr_2.predict(x_test)\n",
        "pkl_filename = \"lr2.pkl\"\n",
        "with open(pkl_filename, 'wb') as file:\n",
        "  pickle.dump(lr_2,file)"
      ],
      "execution_count": 0,
      "outputs": [
        {
          "output_type": "stream",
          "text": [
            "/usr/local/lib/python3.6/dist-packages/sklearn/linear_model/_logistic.py:1505: UserWarning:\n",
            "\n",
            "Setting penalty='none' will ignore the C and l1_ratio parameters\n",
            "\n"
          ],
          "name": "stderr"
        }
      ]
    },
    {
      "cell_type": "code",
      "metadata": {
        "colab_type": "code",
        "id": "4r9g4_7iFDZg",
        "colab": {}
      },
      "source": [
        "lr_3 = LogisticRegression(C=5.0, penalty='l1', max_iter=10000,solver = \"liblinear\")\n",
        "lr_3.fit(x_train,y_train)\n",
        "lr1_pre = lr_3.predict(x_test)\n",
        "pkl_filename = \"lr3.pkl\"\n",
        "with open(pkl_filename, 'wb') as file:\n",
        "  pickle.dump(lr_3,file)"
      ],
      "execution_count": 0,
      "outputs": []
    },
    {
      "cell_type": "code",
      "metadata": {
        "colab_type": "code",
        "id": "m-my_6_zFDwU",
        "colab": {}
      },
      "source": [
        "lr_4 = LogisticRegression(C=10.0, penalty='l2', max_iter=10000)\n",
        "lr_4.fit(x_train,y_train)\n",
        "lr5_pre = lr_4.predict(x_test)\n",
        "pkl_filename = \"lr4.pkl\"\n",
        "with open(pkl_filename, 'wb') as file:\n",
        "  pickle.dump(lr_4,file)"
      ],
      "execution_count": 0,
      "outputs": []
    },
    {
      "cell_type": "markdown",
      "metadata": {
        "id": "xCHHVFXMCZS4",
        "colab_type": "text"
      },
      "source": [
        "## Random Forest"
      ]
    },
    {
      "cell_type": "code",
      "metadata": {
        "colab_type": "code",
        "id": "IPH0IGEWM9y8",
        "outputId": "4edc787c-a926-41ee-94a9-b9628e578881",
        "colab": {
          "base_uri": "https://localhost:8080/",
          "height": 147
        }
      },
      "source": [
        "from sklearn.ensemble import RandomForestClassifier\n",
        "rf = RandomForestClassifier()\n",
        "model = rf.fit(x_train, y_train)\n",
        "model"
      ],
      "execution_count": 0,
      "outputs": [
        {
          "output_type": "execute_result",
          "data": {
            "text/plain": [
              "RandomForestClassifier(bootstrap=True, ccp_alpha=0.0, class_weight=None,\n",
              "                       criterion='gini', max_depth=None, max_features='auto',\n",
              "                       max_leaf_nodes=None, max_samples=None,\n",
              "                       min_impurity_decrease=0.0, min_impurity_split=None,\n",
              "                       min_samples_leaf=1, min_samples_split=2,\n",
              "                       min_weight_fraction_leaf=0.0, n_estimators=100,\n",
              "                       n_jobs=None, oob_score=False, random_state=None,\n",
              "                       verbose=0, warm_start=False)"
            ]
          },
          "metadata": {
            "tags": []
          },
          "execution_count": 162
        }
      ]
    },
    {
      "cell_type": "code",
      "metadata": {
        "colab_type": "code",
        "id": "xFHz9IPUjBtD",
        "outputId": "b3e161f3-cbb0-4157-bad7-aca23377cd60",
        "colab": {
          "base_uri": "https://localhost:8080/",
          "height": 261
        }
      },
      "source": [
        "predictions = rf.predict(x_test)\n",
        "print(\"\\n Confusion Matrix \\n\",confusion_matrix(y_test,predictions))\n",
        "print(\"\\n Classification Report \\n\",classification_report(y_test,predictions))\n",
        "acc = rf.score(x_test,y_test)*100\n",
        "accuracies['Random Forest'] = acc"
      ],
      "execution_count": 0,
      "outputs": [
        {
          "output_type": "stream",
          "text": [
            "\n",
            " Confusion Matrix \n",
            " [[17987  2411]\n",
            " [ 3534  7746]]\n",
            "\n",
            " Classification Report \n",
            "               precision    recall  f1-score   support\n",
            "\n",
            "           0       0.84      0.88      0.86     20398\n",
            "           1       0.76      0.69      0.72     11280\n",
            "\n",
            "    accuracy                           0.81     31678\n",
            "   macro avg       0.80      0.78      0.79     31678\n",
            "weighted avg       0.81      0.81      0.81     31678\n",
            "\n"
          ],
          "name": "stdout"
        }
      ]
    },
    {
      "cell_type": "code",
      "metadata": {
        "colab_type": "code",
        "id": "USMQ9HG8MstH",
        "outputId": "f05300b1-bb8d-43f8-a0af-895322515f27",
        "colab": {
          "base_uri": "https://localhost:8080/",
          "height": 131
        }
      },
      "source": [
        "param_grid = { 'bootstrap': [True],\n",
        "    'max_depth': [0,10,100],\n",
        "    'max_features': [0.1,0.5,1],\n",
        "    'min_samples_leaf': [1,3,5],\n",
        "    'min_samples_split': [2, 4 , 8],\n",
        "    'n_estimators': [100, 200, 300]} \n",
        "grid = GridSearchCV(RandomForestClassifier(),param_grid,n_jobs=3)\n",
        "grid = grid.fit(x_train,y_train)\n",
        "grid_predictions = grid.predict(x_test)\n",
        "print(\"\\n Best Parameters \\n\",grid.best_params_)"
      ],
      "execution_count": 0,
      "outputs": [
        {
          "output_type": "stream",
          "text": [
            "/usr/local/lib/python3.6/dist-packages/joblib/externals/loky/process_executor.py:706: UserWarning:\n",
            "\n",
            "A worker stopped while some jobs were given to the executor. This can be caused by a too short worker timeout or by a memory leak.\n",
            "\n"
          ],
          "name": "stderr"
        },
        {
          "output_type": "stream",
          "text": [
            "\n",
            " Best Parameters \n",
            " {'bootstrap': True, 'max_depth': 100, 'max_features': 0.5, 'min_samples_leaf': 1, 'min_samples_split': 4, 'n_estimators': 300}\n"
          ],
          "name": "stdout"
        }
      ]
    },
    {
      "cell_type": "code",
      "metadata": {
        "colab_type": "code",
        "id": "zBJf47q6fH2J",
        "outputId": "c6fa252c-24ba-411c-d025-be8ea86c50c7",
        "colab": {
          "base_uri": "https://localhost:8080/",
          "height": 261
        }
      },
      "source": [
        "print(\"\\n Confusion Matrix \\n\",confusion_matrix(y_test,grid_predictions))\n",
        "print(\"\\n Classification Report \\n\",classification_report(y_test,grid_predictions))"
      ],
      "execution_count": 0,
      "outputs": [
        {
          "output_type": "stream",
          "text": [
            "\n",
            " Confusion Matrix \n",
            " [[18252  2146]\n",
            " [ 3633  7647]]\n",
            "\n",
            " Classification Report \n",
            "               precision    recall  f1-score   support\n",
            "\n",
            "           0       0.83      0.89      0.86     20398\n",
            "           1       0.78      0.68      0.73     11280\n",
            "\n",
            "    accuracy                           0.82     31678\n",
            "   macro avg       0.81      0.79      0.79     31678\n",
            "weighted avg       0.82      0.82      0.81     31678\n",
            "\n"
          ],
          "name": "stdout"
        }
      ]
    },
    {
      "cell_type": "code",
      "metadata": {
        "colab_type": "code",
        "id": "nghIQuDFXs2L",
        "colab": {}
      },
      "source": [
        "rfc = confusion_matrix(y_test,grid_predictions)"
      ],
      "execution_count": 0,
      "outputs": []
    },
    {
      "cell_type": "code",
      "metadata": {
        "colab_type": "code",
        "id": "wyrVdEGT4FMq",
        "colab": {}
      },
      "source": [
        "rf_1 = RandomForestClassifier(bootstrap=True,max_depth=100,max_features=0.5,min_samples_leaf=1,min_samples_split=4,n_estimators=300)\n",
        "rf_1.fit(x_train, y_train)\n",
        "rf_pred = rf_1.predict(x_test)\n",
        "pkl_filename = \"rf.pkl\"\n",
        "with open(pkl_filename, 'wb') as file:\n",
        "  pickle.dump(rf_1,file)"
      ],
      "execution_count": 0,
      "outputs": []
    },
    {
      "cell_type": "code",
      "metadata": {
        "colab_type": "code",
        "id": "DJbCI7lD6hWZ",
        "colab": {}
      },
      "source": [
        "rf_2 = RandomForestClassifier(bootstrap=True,max_depth=100,max_features=0.5,min_samples_leaf=3,min_samples_split=2,n_estimators=100)\n",
        "rf_2.fit(x_train, y_train)\n",
        "predictions = rf_2.predict(x_test)\n",
        "pkl_filename = \"rf1.pkl\"\n",
        "with open(pkl_filename, 'wb') as file:\n",
        "  pickle.dump(rf_2,file)"
      ],
      "execution_count": 0,
      "outputs": []
    },
    {
      "cell_type": "code",
      "metadata": {
        "colab_type": "code",
        "id": "ZxyCR4oP6hki",
        "colab": {}
      },
      "source": [
        "rf_3 = RandomForestClassifier(bootstrap=True,max_depth=10,max_features=0.5,min_samples_leaf=1,min_samples_split=2,n_estimators=100)\n",
        "rf_3.fit(x_train, y_train)\n",
        "rf3_predict = rf_3.predict(x_test)\n",
        "import pickle\n",
        "pkl_filename = \"rf2.pkl\"\n",
        "with open(pkl_filename, 'wb') as file:\n",
        "  pickle.dump(rf_3,file)"
      ],
      "execution_count": 0,
      "outputs": []
    },
    {
      "cell_type": "code",
      "metadata": {
        "colab_type": "code",
        "id": "m3D4LIC86hvY",
        "colab": {}
      },
      "source": [
        "rf_4 = RandomForestClassifier(bootstrap=True,max_depth=10,max_features=0.1,min_samples_leaf=1,min_samples_split=2,n_estimators=100)\n",
        "rf_4.fit(x_train, y_train)\n",
        "predictions = rf_4.predict(x_test)\n",
        "import pickle\n",
        "pkl_filename = \"rf3.pkl\"\n",
        "with open(pkl_filename, 'wb') as file:\n",
        "  pickle.dump(rf_4,file)"
      ],
      "execution_count": 0,
      "outputs": []
    },
    {
      "cell_type": "code",
      "metadata": {
        "colab_type": "code",
        "id": "dR5Fcyv26h7k",
        "colab": {}
      },
      "source": [
        "rf_5 = RandomForestClassifier(bootstrap=True,max_depth=50,max_features=1,min_samples_leaf=5,min_samples_split=8,n_estimators=200)\n",
        "rf_5.fit(x_train, y_train)\n",
        "rf5_predict = rf_5.predict(x_test)\n",
        "import pickle\n",
        "pkl_filename = \"rf4.pkl\"\n",
        "with open(pkl_filename, 'wb') as file:\n",
        "  pickle.dump(rf_5,file)"
      ],
      "execution_count": 0,
      "outputs": []
    },
    {
      "cell_type": "markdown",
      "metadata": {
        "id": "7ngS4KO9CbOm",
        "colab_type": "text"
      },
      "source": [
        "## GBM\n"
      ]
    },
    {
      "cell_type": "code",
      "metadata": {
        "colab_type": "code",
        "id": "bv1I7VU0Nall",
        "outputId": "4e770980-ed08-450f-bdc1-2bb759ea3144",
        "colab": {
          "base_uri": "https://localhost:8080/",
          "height": 180
        }
      },
      "source": [
        "from sklearn.ensemble import GradientBoostingClassifier\n",
        "gradient_boosting = GradientBoostingClassifier(random_state=42)\n",
        "modelg=gradient_boosting.fit(x_train, y_train)\n",
        "modelg"
      ],
      "execution_count": 0,
      "outputs": [
        {
          "output_type": "execute_result",
          "data": {
            "text/plain": [
              "GradientBoostingClassifier(ccp_alpha=0.0, criterion='friedman_mse', init=None,\n",
              "                           learning_rate=0.1, loss='deviance', max_depth=3,\n",
              "                           max_features=None, max_leaf_nodes=None,\n",
              "                           min_impurity_decrease=0.0, min_impurity_split=None,\n",
              "                           min_samples_leaf=1, min_samples_split=2,\n",
              "                           min_weight_fraction_leaf=0.0, n_estimators=100,\n",
              "                           n_iter_no_change=None, presort='deprecated',\n",
              "                           random_state=42, subsample=1.0, tol=0.0001,\n",
              "                           validation_fraction=0.1, verbose=0,\n",
              "                           warm_start=False)"
            ]
          },
          "metadata": {
            "tags": []
          },
          "execution_count": 172
        }
      ]
    },
    {
      "cell_type": "code",
      "metadata": {
        "id": "26hkaGFZ3jw-",
        "colab_type": "code",
        "outputId": "9bf7cbd0-da41-4a70-f82c-378cb9a698cf",
        "colab": {
          "base_uri": "https://localhost:8080/",
          "height": 261
        }
      },
      "source": [
        "predictions = gradient_boosting.predict(x_test)\n",
        "print(\"\\n Confusion Matrix \\n\",confusion_matrix(y_test,predictions))\n",
        "print(\"\\n Classification Report \\n\",classification_report(y_test,predictions))"
      ],
      "execution_count": 0,
      "outputs": [
        {
          "output_type": "stream",
          "text": [
            "\n",
            " Confusion Matrix \n",
            " [[19358  1040]\n",
            " [ 6171  5109]]\n",
            "\n",
            " Classification Report \n",
            "               precision    recall  f1-score   support\n",
            "\n",
            "           0       0.76      0.95      0.84     20398\n",
            "           1       0.83      0.45      0.59     11280\n",
            "\n",
            "    accuracy                           0.77     31678\n",
            "   macro avg       0.79      0.70      0.71     31678\n",
            "weighted avg       0.78      0.77      0.75     31678\n",
            "\n"
          ],
          "name": "stdout"
        }
      ]
    },
    {
      "cell_type": "code",
      "metadata": {
        "colab_type": "code",
        "id": "b9O0mcwggDMI",
        "outputId": "0b3081d1-4b29-411d-e716-2121b763bf5f",
        "colab": {
          "base_uri": "https://localhost:8080/",
          "height": 66
        }
      },
      "source": [
        "param_grid = {'n_estimators': [100, 200, 300],\n",
        "    'max_depth': [3, 6, 9],\n",
        "    'learning_rate': [0.1,0.5,1.0]} \n",
        "grid = GridSearchCV(GradientBoostingClassifier(),param_grid,n_jobs=3)\n",
        "grid = grid.fit(x_train,y_train)\n",
        "grid_predictions = grid.predict(x_test)\n",
        "print(\"\\n Best Parameters \\n\",grid.best_params_)"
      ],
      "execution_count": 0,
      "outputs": [
        {
          "output_type": "stream",
          "text": [
            "\n",
            " Best Parameters \n",
            " {'learning_rate': 0.1, 'max_depth': 9, 'n_estimators': 300}\n"
          ],
          "name": "stdout"
        }
      ]
    },
    {
      "cell_type": "code",
      "metadata": {
        "colab_type": "code",
        "id": "tKj3lrnzgXX6",
        "outputId": "ecc97e15-81c9-444f-fe32-e42e9ebeec95",
        "colab": {
          "base_uri": "https://localhost:8080/",
          "height": 261
        }
      },
      "source": [
        "print(\"\\n Confusion Matrix \\n\",confusion_matrix(y_test,grid_predictions))\n",
        "print(\"\\n Classification Report \\n\",classification_report(y_test,grid_predictions))"
      ],
      "execution_count": 0,
      "outputs": [
        {
          "output_type": "stream",
          "text": [
            "\n",
            " Confusion Matrix \n",
            " [[18531  1867]\n",
            " [ 4080  7200]]\n",
            "\n",
            " Classification Report \n",
            "               precision    recall  f1-score   support\n",
            "\n",
            "           0       0.82      0.91      0.86     20398\n",
            "           1       0.79      0.64      0.71     11280\n",
            "\n",
            "    accuracy                           0.81     31678\n",
            "   macro avg       0.81      0.77      0.78     31678\n",
            "weighted avg       0.81      0.81      0.81     31678\n",
            "\n"
          ],
          "name": "stdout"
        }
      ]
    },
    {
      "cell_type": "code",
      "metadata": {
        "colab_type": "code",
        "id": "c4Kja213X7qi",
        "colab": {}
      },
      "source": [
        "gbc = confusion_matrix(y_test,grid_predictions)"
      ],
      "execution_count": 0,
      "outputs": []
    },
    {
      "cell_type": "code",
      "metadata": {
        "colab_type": "code",
        "id": "ZmJv_PLn8lmh",
        "colab": {}
      },
      "source": [
        "gb = GradientBoostingClassifier(n_estimators=300,max_depth=9,learning_rate=0.1)\n",
        "gb = gb.fit(x_train, y_train)\n",
        "gb_predict = gb.predict(x_test)\n",
        "pkl_filename = \"gB.pkl\"\n",
        "with open(pkl_filename, 'wb') as file:\n",
        "  pickle.dump(gb,file)"
      ],
      "execution_count": 0,
      "outputs": []
    },
    {
      "cell_type": "code",
      "metadata": {
        "colab_type": "code",
        "id": "BG16HQYFzv5T",
        "colab": {}
      },
      "source": [
        "gb_1 = GradientBoostingClassifier(n_estimators=100,max_depth=6,learning_rate=0.1)\n",
        "gb_1 = gb_1.fit(x_train, y_train)\n",
        "pred_gb1 = gb_1.predict(x_test)\n",
        "pkl_filename = \"gB1.pkl\"\n",
        "with open(pkl_filename, 'wb') as file:\n",
        "  pickle.dump(gb_1,file)"
      ],
      "execution_count": 0,
      "outputs": []
    },
    {
      "cell_type": "code",
      "metadata": {
        "colab_type": "code",
        "id": "xiq_PoHW83QY",
        "colab": {}
      },
      "source": [
        "gb_2 = GradientBoostingClassifier(n_estimators=200,max_depth=3,learning_rate=0.5)\n",
        "gb_2 = gb_2.fit(x_train, y_train)\n",
        "gb2_pred = gb_2.predict(x_test)\n",
        "pkl_filename = \"gB2.pkl\"\n",
        "with open(pkl_filename, 'wb') as file:\n",
        "  pickle.dump(gb_2,file)"
      ],
      "execution_count": 0,
      "outputs": []
    },
    {
      "cell_type": "code",
      "metadata": {
        "colab_type": "code",
        "id": "9EwoWsem833d",
        "colab": {}
      },
      "source": [
        "gb_3 = GradientBoostingClassifier(n_estimators=300,max_depth=6,learning_rate=1.0)\n",
        "gb_3 = gb_3.fit(x_train, y_train)\n",
        "predictions = gb_3.predict(x_test)\n",
        "pkl_filename = \"gB3.pkl\"\n",
        "with open(pkl_filename, 'wb') as file:\n",
        "  pickle.dump(gb_3,file)"
      ],
      "execution_count": 0,
      "outputs": []
    },
    {
      "cell_type": "code",
      "metadata": {
        "colab_type": "code",
        "id": "XqympHEU84Q8",
        "colab": {}
      },
      "source": [
        "gb_4 = GradientBoostingClassifier(n_estimators=100,max_depth=9,learning_rate=1.0)\n",
        "gb_4 = gb_4.fit(x_train, y_train)\n",
        "predictions = gb_4.predict(x_test)\n",
        "pkl_filename = \"gB4.pkl\"\n",
        "with open(pkl_filename, 'wb') as file:\n",
        "  pickle.dump(gb_4,file)"
      ],
      "execution_count": 0,
      "outputs": []
    },
    {
      "cell_type": "markdown",
      "metadata": {
        "id": "LUjQ0t_w5JDA",
        "colab_type": "text"
      },
      "source": [
        "## Confusion Matrix"
      ]
    },
    {
      "cell_type": "code",
      "metadata": {
        "colab_type": "code",
        "id": "nJ7MQPa9XVvz",
        "outputId": "7e1dc6ac-c9f9-4309-f844-b3a7ed308a6e",
        "colab": {
          "base_uri": "https://localhost:8080/",
          "height": 346
        }
      },
      "source": [
        "plt.figure(figsize=(20,10))\n",
        "\n",
        "plt.suptitle(\"Confusion Matrixes\",fontsize=24)\n",
        "plt.subplots_adjust(wspace = 0.4, hspace= 0.4)\n",
        "\n",
        "plt.subplot(2,3,1)\n",
        "plt.title(\"Logistic Regression Confusion Matrix\")\n",
        "sns.heatmap(lrc,annot=True,cmap=\"Blues\",fmt=\"d\",cbar=False, annot_kws={\"size\": 24})\n",
        "\n",
        "plt.subplot(2,3,2)\n",
        "plt.title(\"Random Forest Confusion Matrix\")\n",
        "sns.heatmap(rfc,annot=True,cmap=\"Blues\",fmt=\"d\",cbar=False, annot_kws={\"size\": 24})\n",
        "\n",
        "plt.subplot(2,3,3)\n",
        "plt.title(\"Gradient Boosting Classifier Confusion Matrix\")\n",
        "sns.heatmap(gbc,annot=True,cmap=\"Blues\",fmt=\"d\",cbar=False, annot_kws={\"size\": 24})\n",
        "\n",
        "\n",
        "plt.show()"
      ],
      "execution_count": 0,
      "outputs": [
        {
          "output_type": "display_data",
          "data": {
            "image/png": "[encoded data removed]",
            "text/plain": [
              "<Figure size 1440x720 with 3 Axes>"
            ]
          },
          "metadata": {
            "tags": []
          }
        }
      ]
    },
    {
      "cell_type": "markdown",
      "metadata": {
        "id": "S4WoXtT5CeKG",
        "colab_type": "text"
      },
      "source": [
        "## Feature Importance"
      ]
    },
    {
      "cell_type": "code",
      "metadata": {
        "id": "U1b287nQxYxA",
        "colab_type": "code",
        "outputId": "cf5a7ed1-ddbb-4e21-cf9b-abaace968c67",
        "colab": {
          "base_uri": "https://localhost:8080/",
          "height": 495
        }
      },
      "source": [
        "from sklearn.ensemble import RandomForestClassifier\n",
        "rf = RandomForestClassifier(bootstrap=True,max_depth=100,max_features=0.5,min_samples_leaf=1,min_samples_split=4,n_estimators=300)\n",
        "model = rf.fit(x_train, y_train)\n",
        "importances = model.feature_importances_\n",
        "indices = np.argsort(importances)[::-1]\n",
        "feature_names = list(X.columns) \n",
        "# Rearrange feature names so they match the sorted feature importances\n",
        "names = [feature_names[i] for i in indices]\n",
        "\n",
        "# Create plot\n",
        "plt.figure(figsize=(12,5))\n",
        "\n",
        "# Create plot title\n",
        "plt.title(\"Feature Importance\")\n",
        "\n",
        "# Add bars\n",
        "plt.bar(range(X.shape[1]), importances[indices])\n",
        "\n",
        "# Add feature names as x-axis labels\n",
        "plt.xticks(range(X.shape[1]), names, rotation=90)\n",
        "\n",
        "# Show plot\n",
        "plt.show()"
      ],
      "execution_count": 0,
      "outputs": [
        {
          "output_type": "display_data",
          "data": {
            "image/png": "[encoded data removed]",
            "text/plain": [
              "<Figure size 864x360 with 1 Axes>"
            ]
          },
          "metadata": {
            "tags": []
          }
        }
      ]
    }
  ]
}